{
 "cells": [
  {
   "cell_type": "markdown",
   "metadata": {},
   "source": [
    "# Notebook 9 - Working with the GemPy Data Class\n",
    "\n",
    "[GemGIS](https://github.com/cgre-aachen/gemgis) is a package for geographic information processing for geomodeling. In particular, data is prepared for direct use in [GemPy](https://github.com/cgre-aachen/gempy) via a GemPy Data Class. The package provides functions to process spatial data such as vector data (shape files, geojson files, geopackages), raster data (tiff-files), data retrieved from online services (WMS, WCS, WFS) or KML/XML files. \n",
    "\n",
    "At a later stage, functionality will be added to interactively add interfaces and orientations for a model, choosing the extent, defining custom sections and more. In addition, functionality will be provided to export data from GemPy into Geoinformation Systems (=GIS) such as QGIS or ArcGIS and Google Earth. \n",
    "\n",
    "# Overview\n",
    "\n",
    "This notebook will present the basic functions of the introduced `GemPy` Data Class and how it can be used to construct models with `GemPy`.\n",
    "\n",
    "- [What is GemPy?](#gempy)\n",
    "- [Downloading and Installing GemGIS](#gemgis)\n",
    "- [Structure of GemGIS](#structure)\n",
    "- [Creating a simple GemPy Model - GemPy Data Class](#creatingclass)\n",
    "- [Methods of the GemPy Data Class](#methods)\n",
    "- [Creating a GemPy Model](#modeling)\n",
    "\n",
    "<a id='gempy'></a>\n",
    "## What is GemPy?\n",
    "\n",
    "`GemPy` is a Python-based, **open-source geomodeling library**. It is\n",
    "capable of constructing complex **3D geological models** of folded\n",
    "structures, fault networks and unconformities, based on the underlying\n",
    "powerful **implicit representation** approach. `GemPy` was designed from the\n",
    "ground up to support easy embedding in probabilistic frameworks for the\n",
    "uncertainty analysis of subsurface structures.\n",
    "\n",
    "Check out the documentation either on the main website (https://www.gempy.org/) or the specific docs site (http://docs.gempy.org/).\n",
    "\n",
    "- GemPy Installation Help: https://docs.gempy.org/installation.html\n",
    "- GemPy Tutorials: https://docs.gempy.org/tutorials/index.html\n",
    "- GemPy Examples: https://docs.gempy.org/examples/index.html\n",
    "- GemPy Repository: https://github.com/cgre-aachen/gempy\n",
    "- GemPy Tutorial Video: https://youtu.be/n0btC5Zilyc\n",
    "\n",
    "\n",
    "<a id='gemgis'></a>\n",
    "## Downloading and installing GemGIS\n",
    "\n",
    "`GemGIS` is under constant development and the latest available version can be downloaded at https://github.com/cgre-aachen/gemgis. A pip version can be found at https://pypi.org/project/gemgis/. A dedicated documentation page will follow.\n",
    "\n",
    "<a id='structure'></a>\n",
    "## Structure of GemGIS\n",
    "\n",
    "The core of `GemGIS` is made of the `GemPyData` class (`gemgis.py`). Its attributes can directly be utilized by `GemPy` making it easier for users to load data. Methods of the `GemPyData` class allow users to directly set these attributes. Multiple other files contain functions to manipulate vector data, raster data, etc.:\n",
    "\n",
    "* `gemgis.py` - core file containing the `GemPyData` class\n",
    "* `vector.py` - file containing functions to manipulate vector data\n",
    "* `raster.py` - file containing functions to manipulate raster data\n",
    "* `utils.py` - file containing utility functions frequently used for the manipulation of vector/raster data\n",
    "* `wms.py` - file containing methods to load online services as vector and raster data\n",
    "* `visualization.py` - file containing functions to simplify plotting of spatial data\n",
    "* `postprocessing.py` - file containing functions to postprocess GemPy geo_model data\n",
    "* `misc.py` - file containing functions for custom tasks \n",
    "\n",
    "\n",
    "If you have any problems using GemGIS, find a bug or have an idea for a new feature, open an issue at https://github.com/cgre-aachen/gemgis/issues. "
   ]
  },
  {
   "cell_type": "markdown",
   "metadata": {
    "ExecuteTime": {
     "end_time": "2020-07-18T14:02:13.026524Z",
     "start_time": "2020-07-18T14:02:13.022525Z"
    }
   },
   "source": [
    "<a id='import'></a>\n",
    "# Importing Libraries\n",
    "\n",
    "Apart from creating a GemPyData class later in the tutorial, GemGIS is working with pure GeoDataFrames, Rasterio files and NumPy arrays to provide the user with easy data handling. ***Currently, geopandas version 0.8 is the latest stable version that is supported by GemGIS***. A general introduction to working with rasters and Rasterio objects in GemGIS is provided in the next notebook.\n",
    "\n",
    "The first step is loading `GemGIS` and the auxiliary libraries `geopandas` and `rasterio` apart from `NumPy` and `Matplotlib`. `GemGIS` will also load `GemPy` the background. If the installation of `GemPy`was not successful, `GemGIS` cannot be used. "
   ]
  },
  {
   "cell_type": "code",
   "execution_count": 1,
   "metadata": {
    "ExecuteTime": {
     "end_time": "2020-10-12T20:25:58.479898Z",
     "start_time": "2020-10-12T20:25:53.986850Z"
    }
   },
   "outputs": [
    {
     "name": "stderr",
     "output_type": "stream",
     "text": [
      "WARNING (theano.configdefaults): g++ not available, if using conda: `conda install m2w64-toolchain`\n",
      "C:\\Users\\ale93371\\Anaconda3\\envs\\test_gempy\\lib\\site-packages\\theano\\configdefaults.py:560: UserWarning: DeprecationWarning: there is no c++ compiler.This is deprecated and with Theano 0.11 a c++ compiler will be mandatory\n",
      "  warnings.warn(\"DeprecationWarning: there is no c++ compiler.\"\n",
      "WARNING (theano.configdefaults): g++ not detected ! Theano will be unable to execute optimized C-implementations (for both CPU and GPU) and will default to Python implementations. Performance will be severely degraded. To remove this warning, set Theano flags cxx to an empty string.\n",
      "WARNING (theano.tensor.blas): Using NumPy C-API based implementation for BLAS functions.\n"
     ]
    },
    {
     "name": "stdout",
     "output_type": "stream",
     "text": [
      "<module 'gemgis' from '../../gemgis\\\\gemgis\\\\__init__.py'>\n"
     ]
    }
   ],
   "source": [
    "import sys\n",
    "sys.path.append('../../gemgis')\n",
    "import gemgis as gg\n",
    "import gempy as gp\n",
    "import geopandas as gpd\n",
    "import rasterio\n",
    "import numpy as np\n",
    "import matplotlib.pyplot as plt\n",
    "print(gg)"
   ]
  },
  {
   "cell_type": "markdown",
   "metadata": {},
   "source": [
    "<a id='vreport'></a>\n",
    "# Version Reports\n",
    "Reporting your Python environment's package versions and hardware resources by Scooby - https://github.com/banesullivan/scooby. This overview shows the packages and their versions used to run this notebook. Upgrading or downgrading to older or newer versions may break the notebook."
   ]
  },
  {
   "cell_type": "code",
   "execution_count": 2,
   "metadata": {
    "ExecuteTime": {
     "end_time": "2020-10-12T20:25:58.503568Z",
     "start_time": "2020-10-12T20:25:58.485297Z"
    }
   },
   "outputs": [
    {
     "data": {
      "text/html": [
       "<table style='border: 3px solid #ddd;'>\n",
       "  <tr>\n",
       "     <td style='text-align: center; font-weight: bold; font-size: 1.2em; border: 2px solid #fff;' colspan='6'>Thu Oct 29 19:28:36 2020 Mitteleuropäische Zeit</td>\n",
       "  </tr>\n",
       "  <tr>\n",
       "    <td style='text-align: right; background-color: #ccc; border: 2px solid #fff;'>OS</td>\n",
       "    <td style='text-align: left; border: 2px solid #fff;'>Windows</td>\n",
       "    <td style='text-align: right; background-color: #ccc; border: 2px solid #fff;'>CPU(s)</td>\n",
       "    <td style='text-align: left; border: 2px solid #fff;'>16</td>\n",
       "    <td style='text-align: right; background-color: #ccc; border: 2px solid #fff;'>Machine</td>\n",
       "    <td style='text-align: left; border: 2px solid #fff;'>AMD64</td>\n",
       "  </tr>\n",
       "  <tr>\n",
       "    <td style='text-align: right; background-color: #ccc; border: 2px solid #fff;'>Architecture</td>\n",
       "    <td style='text-align: left; border: 2px solid #fff;'>64bit</td>\n",
       "    <td style='text-align: right; background-color: #ccc; border: 2px solid #fff;'>Environment</td>\n",
       "    <td style='text-align: left; border: 2px solid #fff;'>Jupyter</td>\n",
       "  </tr>\n",
       "  <tr>\n",
       "     <td style='text-align: center; border: 2px solid #fff;' colspan='6'>Python 3.8.5 (default, Sep  3 2020, 21:29:08) [MSC v.1916 64 bit (AMD64)]</td>\n",
       "  </tr>\n",
       "  <tr>\n",
       "    <td style='text-align: right; background-color: #ccc; border: 2px solid #fff;'>json</td>\n",
       "    <td style='text-align: left; border: 2px solid #fff;'>2.0.9</td>\n",
       "    <td style='text-align: right; background-color: #ccc; border: 2px solid #fff;'>numpy</td>\n",
       "    <td style='text-align: left; border: 2px solid #fff;'>1.19.2</td>\n",
       "    <td style='text-align: right; background-color: #ccc; border: 2px solid #fff;'>scooby</td>\n",
       "    <td style='text-align: left; border: 2px solid #fff;'>0.5.6</td>\n",
       "  </tr>\n",
       "  <tr>\n",
       "    <td style='text-align: right; background-color: #ccc; border: 2px solid #fff;'>owslib</td>\n",
       "    <td style='text-align: left; border: 2px solid #fff;'>0.20.0</td>\n",
       "    <td style='text-align: right; background-color: #ccc; border: 2px solid #fff;'>pandas</td>\n",
       "    <td style='text-align: left; border: 2px solid #fff;'>1.1.3</td>\n",
       "    <td style='text-align: right; background-color: #ccc; border: 2px solid #fff;'>shapely</td>\n",
       "    <td style='text-align: left; border: 2px solid #fff;'>1.7.1</td>\n",
       "  </tr>\n",
       "  <tr>\n",
       "    <td style='text-align: right; background-color: #ccc; border: 2px solid #fff;'>pyvista</td>\n",
       "    <td style='text-align: left; border: 2px solid #fff;'>0.26.1</td>\n",
       "    <td style='text-align: right; background-color: #ccc; border: 2px solid #fff;'>rasterio</td>\n",
       "    <td style='text-align: left; border: 2px solid #fff;'>1.1.7</td>\n",
       "    <td style='text-align: right; background-color: #ccc; border: 2px solid #fff;'>geopandas</td>\n",
       "    <td style='text-align: left; border: 2px solid #fff;'>0.8.1</td>\n",
       "  </tr>\n",
       "  <tr>\n",
       "    <td style='text-align: right; background-color: #ccc; border: 2px solid #fff;'>requests</td>\n",
       "    <td style='text-align: left; border: 2px solid #fff;'>2.24.0</td>\n",
       "    <td style='text-align: right; background-color: #ccc; border: 2px solid #fff;'>scipy</td>\n",
       "    <td style='text-align: left; border: 2px solid #fff;'>1.5.2</td>\n",
       "    <td style='text-align: right; background-color: #ccc; border: 2px solid #fff;'>skimage</td>\n",
       "    <td style='text-align: left; border: 2px solid #fff;'>0.17.2</td>\n",
       "  </tr>\n",
       "  <tr>\n",
       "    <td style='text-align: right; background-color: #ccc; border: 2px solid #fff;'>matplotlib</td>\n",
       "    <td style='text-align: left; border: 2px solid #fff;'>3.3.1</td>\n",
       "    <td style= border: 2px solid #fff;'></td>\n",
       "    <td style= border: 2px solid #fff;'></td>\n",
       "    <td style= border: 2px solid #fff;'></td>\n",
       "    <td style= border: 2px solid #fff;'></td>\n",
       "  </tr>\n",
       "</table>"
      ],
      "text/plain": [
       "\n",
       "--------------------------------------------------------------------------------\n",
       "  Date: Thu Oct 29 19:28:36 2020 Mitteleuropäische Zeit\n",
       "\n",
       "                OS : Windows\n",
       "            CPU(s) : 16\n",
       "           Machine : AMD64\n",
       "      Architecture : 64bit\n",
       "       Environment : Jupyter\n",
       "\n",
       "  Python 3.8.5 (default, Sep  3 2020, 21:29:08) [MSC v.1916 64 bit (AMD64)]\n",
       "\n",
       "              json : 2.0.9\n",
       "             numpy : 1.19.2\n",
       "            scooby : 0.5.6\n",
       "            owslib : 0.20.0\n",
       "            pandas : 1.1.3\n",
       "           shapely : 1.7.1\n",
       "           pyvista : 0.26.1\n",
       "          rasterio : 1.1.7\n",
       "         geopandas : 0.8.1\n",
       "          requests : 2.24.0\n",
       "             scipy : 1.5.2\n",
       "           skimage : 0.17.2\n",
       "        matplotlib : 3.3.1\n",
       "--------------------------------------------------------------------------------"
      ]
     },
     "execution_count": 2,
     "metadata": {},
     "output_type": "execute_result"
    }
   ],
   "source": [
    "gg.Report()"
   ]
  },
  {
   "cell_type": "markdown",
   "metadata": {},
   "source": [
    "<a id='createclass'></a>\n",
    "# Creating a simple GemPy Model - GemPy Data Class\n",
    "\n",
    "As GemGIS is providing functions to more easily create GemPy Models, a **GemPy Data Class** is being introduced. This class consists of attributes, such as the CRS of all input data, the interfaces, orientations, custom_sections, etc. It can be initiated empty or attributes can be passed during the initiation. During the course of the following notebooks, more and more attributes will be introduced. For more information about GemPy, visit https://docs.gempy.org/ or https://github.com/cgre-aachen/gempy.\n",
    "\n",
    "## Initiating the class without attributes\n",
    "Intiating the GemPy Data Class without attributes will set all of them to `None`."
   ]
  },
  {
   "cell_type": "code",
   "execution_count": 3,
   "metadata": {
    "ExecuteTime": {
     "end_time": "2020-10-12T20:25:58.531884Z",
     "start_time": "2020-10-12T20:25:58.506650Z"
    }
   },
   "outputs": [],
   "source": [
    "geo_data = gg.GemPyData()"
   ]
  },
  {
   "cell_type": "markdown",
   "metadata": {},
   "source": [
    "The following attributes are currently available:"
   ]
  },
  {
   "cell_type": "code",
   "execution_count": 4,
   "metadata": {
    "ExecuteTime": {
     "end_time": "2020-10-12T20:25:58.547884Z",
     "start_time": "2020-10-12T20:25:58.531884Z"
    }
   },
   "outputs": [
    {
     "data": {
      "text/plain": [
       "{'model_name': None,\n",
       " 'crs': None,\n",
       " 'extent': None,\n",
       " 'resolution': None,\n",
       " 'interfaces': None,\n",
       " 'orientations': None,\n",
       " 'section_dict': None,\n",
       " 'stack': None,\n",
       " 'dem': None,\n",
       " 'surface_colors': None,\n",
       " 'geolmap': None,\n",
       " 'basemap': None,\n",
       " 'faults': None,\n",
       " 'is_fault': None,\n",
       " 'raw_i': None,\n",
       " 'raw_o': None,\n",
       " 'raw_dem': None,\n",
       " 'slope': None,\n",
       " 'hillshades': None,\n",
       " 'aspect': None,\n",
       " 'wms': None,\n",
       " 'tectonics': None,\n",
       " 'customsections': None,\n",
       " 'contours': None}"
      ]
     },
     "execution_count": 4,
     "metadata": {},
     "output_type": "execute_result"
    }
   ],
   "source": [
    "vars(geo_data)"
   ]
  },
  {
   "cell_type": "markdown",
   "metadata": {},
   "source": [
    "## Initiating the class with attributes\n",
    "The data class can also be initiated with attributes. Firstly, the raw interfaces, orientations and topographic contours will be loaded."
   ]
  },
  {
   "cell_type": "code",
   "execution_count": 5,
   "metadata": {
    "ExecuteTime": {
     "end_time": "2020-10-12T20:25:58.675919Z",
     "start_time": "2020-10-12T20:25:58.547884Z"
    }
   },
   "outputs": [],
   "source": [
    "raw_i = gpd.read_file('../../gemgis/data/Test1/interfaces1_lines.shp')\n",
    "raw_o = gpd.read_file('../../gemgis/data/Test1/orientations1.shp')\n",
    "raw_dem = gpd.read_file('../../gemgis/data/Test1/topo1.shp')"
   ]
  },
  {
   "cell_type": "code",
   "execution_count": 6,
   "metadata": {
    "ExecuteTime": {
     "end_time": "2020-10-12T20:25:58.683904Z",
     "start_time": "2020-10-12T20:25:58.675919Z"
    }
   },
   "outputs": [],
   "source": [
    "geo_data = gg.GemPyData(model_name='Model1', \n",
    "                        crs='EPSG:4326', \n",
    "                        extent=[0., 972., 0., 1069., 300., 800.], \n",
    "                        resolution=[50,50,50],\n",
    "                        stack={\"Strat_Series\": ('Sand1', 'Ton')},\n",
    "                        dem='../../gemgis/data/Test1/raster1.tif',\n",
    "                        surface_colors= {'Ton':'#015482',\n",
    "                                         'Sand1':'#9f0052',\n",
    "                                         'basement':'#ffbe00'},\n",
    "                       raw_i = raw_i,\n",
    "                       raw_o = raw_o,\n",
    "                       raw_dem = raw_dem)"
   ]
  },
  {
   "cell_type": "code",
   "execution_count": 7,
   "metadata": {
    "ExecuteTime": {
     "end_time": "2020-10-12T20:25:58.723904Z",
     "start_time": "2020-10-12T20:25:58.683904Z"
    }
   },
   "outputs": [
    {
     "data": {
      "text/plain": [
       "{'model_name': 'Model1',\n",
       " 'crs': 'EPSG:4326',\n",
       " 'extent': [0.0, 972.0, 0.0, 1069.0, 300.0, 800.0],\n",
       " 'resolution': [50, 50, 50],\n",
       " 'interfaces': None,\n",
       " 'orientations': None,\n",
       " 'section_dict': None,\n",
       " 'stack': {'Strat_Series': ('Sand1', 'Ton')},\n",
       " 'dem': '../../gemgis/data/Test1/raster1.tif',\n",
       " 'surface_colors': {'Ton': '#015482',\n",
       "  'Sand1': '#9f0052',\n",
       "  'basement': '#ffbe00'},\n",
       " 'geolmap': None,\n",
       " 'basemap': None,\n",
       " 'faults': None,\n",
       " 'is_fault': None,\n",
       " 'raw_i':      id formation                                           geometry\n",
       " 0  None     Sand1  LINESTRING (0.256 264.862, 10.593 276.734, 17....\n",
       " 1  None       Ton  LINESTRING (0.188 495.787, 8.841 504.142, 41.0...\n",
       " 2  None       Ton  LINESTRING (970.677 833.053, 959.372 800.023, ...,\n",
       " 'raw_o':      id formation   dip  azimuth                 geometry\n",
       " 0  None       Ton 30.50   180.00   POINT (96.471 451.564)\n",
       " 1  None       Ton 30.50   180.00  POINT (172.761 661.877)\n",
       " 2  None       Ton 30.50   180.00  POINT (383.074 957.758)\n",
       " 3  None       Ton 30.50   180.00  POINT (592.356 722.702)\n",
       " 4  None       Ton 30.50   180.00  POINT (766.586 348.469)\n",
       " 5  None       Ton 30.50   180.00  POINT (843.907 167.023)\n",
       " 6  None       Ton 30.50   180.00  POINT (941.846 428.883)\n",
       " 7  None       Ton 30.50   180.00   POINT (22.142 299.553),\n",
       " 'raw_dem':      id    Z                                           geometry\n",
       " 0  None  400  LINESTRING (0.741 475.441, 35.629 429.247, 77....\n",
       " 1  None  300  LINESTRING (645.965 0.525, 685.141 61.866, 724...\n",
       " 2  None  400  LINESTRING (490.292 0.525, 505.756 40.732, 519...\n",
       " 3  None  600  LINESTRING (911.433 1068.585, 908.856 1026.831...\n",
       " 4  None  700  LINESTRING (228.432 1068.585, 239.772 1017.037...\n",
       " 5  None  600  LINESTRING (114.513 1068.069, 151.627 930.438,...\n",
       " 6  None  500  LINESTRING (28.429 1067.554, 71.728 866.004, 1...,\n",
       " 'slope': None,\n",
       " 'hillshades': None,\n",
       " 'aspect': None,\n",
       " 'model_width': 972.0,\n",
       " 'model_length': 1069.0,\n",
       " 'model_depth': 500.0,\n",
       " 'model_area': 1039068.0,\n",
       " 'model_volume': 519534000.0,\n",
       " 'cell_width': 19.44,\n",
       " 'cell_length': 21.38,\n",
       " 'cell_depth': 10.0,\n",
       " 'wms': None,\n",
       " 'tectonics': None,\n",
       " 'customsections': None,\n",
       " 'contours': None}"
      ]
     },
     "execution_count": 7,
     "metadata": {},
     "output_type": "execute_result"
    }
   ],
   "source": [
    "vars(geo_data)"
   ]
  },
  {
   "cell_type": "markdown",
   "metadata": {},
   "source": [
    "## Inspecting the attributes of the GemPy Data Class\n",
    "These attributes can now be inspected. "
   ]
  },
  {
   "cell_type": "code",
   "execution_count": 8,
   "metadata": {
    "ExecuteTime": {
     "end_time": "2020-10-12T20:25:58.739906Z",
     "start_time": "2020-10-12T20:25:58.723904Z"
    }
   },
   "outputs": [
    {
     "data": {
      "text/plain": [
       "'Model1'"
      ]
     },
     "execution_count": 8,
     "metadata": {},
     "output_type": "execute_result"
    }
   ],
   "source": [
    "geo_data.model_name"
   ]
  },
  {
   "cell_type": "code",
   "execution_count": 9,
   "metadata": {
    "ExecuteTime": {
     "end_time": "2020-10-12T20:25:58.755910Z",
     "start_time": "2020-10-12T20:25:58.739906Z"
    }
   },
   "outputs": [
    {
     "data": {
      "text/plain": [
       "'EPSG:4326'"
      ]
     },
     "execution_count": 9,
     "metadata": {},
     "output_type": "execute_result"
    }
   ],
   "source": [
    "geo_data.crs"
   ]
  },
  {
   "cell_type": "code",
   "execution_count": 10,
   "metadata": {
    "ExecuteTime": {
     "end_time": "2020-10-12T20:25:58.771910Z",
     "start_time": "2020-10-12T20:25:58.755910Z"
    }
   },
   "outputs": [
    {
     "data": {
      "text/plain": [
       "[0.0, 972.0, 0.0, 1069.0, 300.0, 800.0]"
      ]
     },
     "execution_count": 10,
     "metadata": {},
     "output_type": "execute_result"
    }
   ],
   "source": [
    "geo_data.extent"
   ]
  },
  {
   "cell_type": "code",
   "execution_count": 11,
   "metadata": {
    "ExecuteTime": {
     "end_time": "2020-10-12T20:25:58.788424Z",
     "start_time": "2020-10-12T20:25:58.771910Z"
    }
   },
   "outputs": [
    {
     "data": {
      "text/plain": [
       "[50, 50, 50]"
      ]
     },
     "execution_count": 11,
     "metadata": {},
     "output_type": "execute_result"
    }
   ],
   "source": [
    "geo_data.resolution"
   ]
  },
  {
   "cell_type": "code",
   "execution_count": 12,
   "metadata": {
    "ExecuteTime": {
     "end_time": "2020-10-12T20:25:58.803914Z",
     "start_time": "2020-10-12T20:25:58.788424Z"
    }
   },
   "outputs": [
    {
     "data": {
      "text/plain": [
       "972.0"
      ]
     },
     "execution_count": 12,
     "metadata": {},
     "output_type": "execute_result"
    }
   ],
   "source": [
    "geo_data.model_width"
   ]
  },
  {
   "cell_type": "code",
   "execution_count": 13,
   "metadata": {
    "ExecuteTime": {
     "end_time": "2020-10-12T20:25:58.811914Z",
     "start_time": "2020-10-12T20:25:58.803914Z"
    }
   },
   "outputs": [
    {
     "data": {
      "text/plain": [
       "1069.0"
      ]
     },
     "execution_count": 13,
     "metadata": {},
     "output_type": "execute_result"
    }
   ],
   "source": [
    "geo_data.model_length"
   ]
  },
  {
   "cell_type": "code",
   "execution_count": 14,
   "metadata": {
    "ExecuteTime": {
     "end_time": "2020-10-12T20:25:58.827916Z",
     "start_time": "2020-10-12T20:25:58.811914Z"
    }
   },
   "outputs": [
    {
     "data": {
      "text/plain": [
       "500.0"
      ]
     },
     "execution_count": 14,
     "metadata": {},
     "output_type": "execute_result"
    }
   ],
   "source": [
    "geo_data.model_depth"
   ]
  },
  {
   "cell_type": "code",
   "execution_count": 15,
   "metadata": {
    "ExecuteTime": {
     "end_time": "2020-10-12T20:25:58.835917Z",
     "start_time": "2020-10-12T20:25:58.827916Z"
    }
   },
   "outputs": [
    {
     "data": {
      "text/plain": [
       "1039068.0"
      ]
     },
     "execution_count": 15,
     "metadata": {},
     "output_type": "execute_result"
    }
   ],
   "source": [
    "geo_data.model_area"
   ]
  },
  {
   "cell_type": "code",
   "execution_count": 16,
   "metadata": {
    "ExecuteTime": {
     "end_time": "2020-10-12T20:25:58.843917Z",
     "start_time": "2020-10-12T20:25:58.835917Z"
    }
   },
   "outputs": [
    {
     "data": {
      "text/plain": [
       "519534000.0"
      ]
     },
     "execution_count": 16,
     "metadata": {},
     "output_type": "execute_result"
    }
   ],
   "source": [
    "geo_data.model_volume"
   ]
  },
  {
   "cell_type": "code",
   "execution_count": 17,
   "metadata": {
    "ExecuteTime": {
     "end_time": "2020-10-12T20:25:58.851919Z",
     "start_time": "2020-10-12T20:25:58.843917Z"
    }
   },
   "outputs": [
    {
     "data": {
      "text/plain": [
       "19.44"
      ]
     },
     "execution_count": 17,
     "metadata": {},
     "output_type": "execute_result"
    }
   ],
   "source": [
    "geo_data.cell_width"
   ]
  },
  {
   "cell_type": "code",
   "execution_count": 18,
   "metadata": {
    "ExecuteTime": {
     "end_time": "2020-10-12T20:25:58.859920Z",
     "start_time": "2020-10-12T20:25:58.851919Z"
    }
   },
   "outputs": [
    {
     "data": {
      "text/plain": [
       "21.38"
      ]
     },
     "execution_count": 18,
     "metadata": {},
     "output_type": "execute_result"
    }
   ],
   "source": [
    "geo_data.cell_length"
   ]
  },
  {
   "cell_type": "code",
   "execution_count": 19,
   "metadata": {
    "ExecuteTime": {
     "end_time": "2020-10-12T20:25:58.867920Z",
     "start_time": "2020-10-12T20:25:58.859920Z"
    }
   },
   "outputs": [
    {
     "data": {
      "text/plain": [
       "10.0"
      ]
     },
     "execution_count": 19,
     "metadata": {},
     "output_type": "execute_result"
    }
   ],
   "source": [
    "geo_data.cell_depth"
   ]
  },
  {
   "cell_type": "code",
   "execution_count": 20,
   "metadata": {
    "ExecuteTime": {
     "end_time": "2020-10-12T20:25:58.875921Z",
     "start_time": "2020-10-12T20:25:58.867920Z"
    }
   },
   "outputs": [
    {
     "data": {
      "text/plain": [
       "{'Strat_Series': ('Sand1', 'Ton')}"
      ]
     },
     "execution_count": 20,
     "metadata": {},
     "output_type": "execute_result"
    }
   ],
   "source": [
    "geo_data.stack"
   ]
  },
  {
   "cell_type": "code",
   "execution_count": 21,
   "metadata": {
    "ExecuteTime": {
     "end_time": "2020-10-12T20:25:58.895793Z",
     "start_time": "2020-10-12T20:25:58.875921Z"
    }
   },
   "outputs": [
    {
     "data": {
      "text/plain": [
       "'../../gemgis/data/Test1/raster1.tif'"
      ]
     },
     "execution_count": 21,
     "metadata": {},
     "output_type": "execute_result"
    }
   ],
   "source": [
    "geo_data.dem"
   ]
  },
  {
   "cell_type": "code",
   "execution_count": 22,
   "metadata": {
    "ExecuteTime": {
     "end_time": "2020-10-12T20:25:58.904709Z",
     "start_time": "2020-10-12T20:25:58.896710Z"
    }
   },
   "outputs": [
    {
     "data": {
      "text/plain": [
       "{'Ton': '#015482', 'Sand1': '#9f0052', 'basement': '#ffbe00'}"
      ]
     },
     "execution_count": 22,
     "metadata": {},
     "output_type": "execute_result"
    }
   ],
   "source": [
    "geo_data.surface_colors"
   ]
  },
  {
   "cell_type": "code",
   "execution_count": 23,
   "metadata": {
    "ExecuteTime": {
     "end_time": "2020-10-12T20:25:58.928713Z",
     "start_time": "2020-10-12T20:25:58.904709Z"
    }
   },
   "outputs": [
    {
     "data": {
      "text/html": [
       "<div>\n",
       "<style scoped>\n",
       "    .dataframe tbody tr th:only-of-type {\n",
       "        vertical-align: middle;\n",
       "    }\n",
       "\n",
       "    .dataframe tbody tr th {\n",
       "        vertical-align: top;\n",
       "    }\n",
       "\n",
       "    .dataframe thead th {\n",
       "        text-align: right;\n",
       "    }\n",
       "</style>\n",
       "<table border=\"1\" class=\"dataframe\">\n",
       "  <thead>\n",
       "    <tr style=\"text-align: right;\">\n",
       "      <th></th>\n",
       "      <th>id</th>\n",
       "      <th>formation</th>\n",
       "      <th>geometry</th>\n",
       "    </tr>\n",
       "  </thead>\n",
       "  <tbody>\n",
       "    <tr>\n",
       "      <th>0</th>\n",
       "      <td>None</td>\n",
       "      <td>Sand1</td>\n",
       "      <td>LINESTRING (0.256 264.862, 10.593 276.734, 17....</td>\n",
       "    </tr>\n",
       "    <tr>\n",
       "      <th>1</th>\n",
       "      <td>None</td>\n",
       "      <td>Ton</td>\n",
       "      <td>LINESTRING (0.188 495.787, 8.841 504.142, 41.0...</td>\n",
       "    </tr>\n",
       "    <tr>\n",
       "      <th>2</th>\n",
       "      <td>None</td>\n",
       "      <td>Ton</td>\n",
       "      <td>LINESTRING (970.677 833.053, 959.372 800.023, ...</td>\n",
       "    </tr>\n",
       "  </tbody>\n",
       "</table>\n",
       "</div>"
      ],
      "text/plain": [
       "     id formation                                           geometry\n",
       "0  None     Sand1  LINESTRING (0.256 264.862, 10.593 276.734, 17....\n",
       "1  None       Ton  LINESTRING (0.188 495.787, 8.841 504.142, 41.0...\n",
       "2  None       Ton  LINESTRING (970.677 833.053, 959.372 800.023, ..."
      ]
     },
     "execution_count": 23,
     "metadata": {},
     "output_type": "execute_result"
    }
   ],
   "source": [
    "geo_data.raw_i.head()"
   ]
  },
  {
   "cell_type": "code",
   "execution_count": 24,
   "metadata": {
    "ExecuteTime": {
     "end_time": "2020-10-12T20:25:58.952738Z",
     "start_time": "2020-10-12T20:25:58.928713Z"
    }
   },
   "outputs": [
    {
     "data": {
      "text/html": [
       "<div>\n",
       "<style scoped>\n",
       "    .dataframe tbody tr th:only-of-type {\n",
       "        vertical-align: middle;\n",
       "    }\n",
       "\n",
       "    .dataframe tbody tr th {\n",
       "        vertical-align: top;\n",
       "    }\n",
       "\n",
       "    .dataframe thead th {\n",
       "        text-align: right;\n",
       "    }\n",
       "</style>\n",
       "<table border=\"1\" class=\"dataframe\">\n",
       "  <thead>\n",
       "    <tr style=\"text-align: right;\">\n",
       "      <th></th>\n",
       "      <th>id</th>\n",
       "      <th>formation</th>\n",
       "      <th>dip</th>\n",
       "      <th>azimuth</th>\n",
       "      <th>geometry</th>\n",
       "    </tr>\n",
       "  </thead>\n",
       "  <tbody>\n",
       "    <tr>\n",
       "      <th>0</th>\n",
       "      <td>None</td>\n",
       "      <td>Ton</td>\n",
       "      <td>30.50</td>\n",
       "      <td>180.00</td>\n",
       "      <td>POINT (96.471 451.564)</td>\n",
       "    </tr>\n",
       "    <tr>\n",
       "      <th>1</th>\n",
       "      <td>None</td>\n",
       "      <td>Ton</td>\n",
       "      <td>30.50</td>\n",
       "      <td>180.00</td>\n",
       "      <td>POINT (172.761 661.877)</td>\n",
       "    </tr>\n",
       "    <tr>\n",
       "      <th>2</th>\n",
       "      <td>None</td>\n",
       "      <td>Ton</td>\n",
       "      <td>30.50</td>\n",
       "      <td>180.00</td>\n",
       "      <td>POINT (383.074 957.758)</td>\n",
       "    </tr>\n",
       "    <tr>\n",
       "      <th>3</th>\n",
       "      <td>None</td>\n",
       "      <td>Ton</td>\n",
       "      <td>30.50</td>\n",
       "      <td>180.00</td>\n",
       "      <td>POINT (592.356 722.702)</td>\n",
       "    </tr>\n",
       "    <tr>\n",
       "      <th>4</th>\n",
       "      <td>None</td>\n",
       "      <td>Ton</td>\n",
       "      <td>30.50</td>\n",
       "      <td>180.00</td>\n",
       "      <td>POINT (766.586 348.469)</td>\n",
       "    </tr>\n",
       "  </tbody>\n",
       "</table>\n",
       "</div>"
      ],
      "text/plain": [
       "     id formation   dip  azimuth                 geometry\n",
       "0  None       Ton 30.50   180.00   POINT (96.471 451.564)\n",
       "1  None       Ton 30.50   180.00  POINT (172.761 661.877)\n",
       "2  None       Ton 30.50   180.00  POINT (383.074 957.758)\n",
       "3  None       Ton 30.50   180.00  POINT (592.356 722.702)\n",
       "4  None       Ton 30.50   180.00  POINT (766.586 348.469)"
      ]
     },
     "execution_count": 24,
     "metadata": {},
     "output_type": "execute_result"
    }
   ],
   "source": [
    "geo_data.raw_o.head()"
   ]
  },
  {
   "cell_type": "code",
   "execution_count": 25,
   "metadata": {
    "ExecuteTime": {
     "end_time": "2020-10-12T20:25:58.976720Z",
     "start_time": "2020-10-12T20:25:58.952738Z"
    }
   },
   "outputs": [
    {
     "data": {
      "text/html": [
       "<div>\n",
       "<style scoped>\n",
       "    .dataframe tbody tr th:only-of-type {\n",
       "        vertical-align: middle;\n",
       "    }\n",
       "\n",
       "    .dataframe tbody tr th {\n",
       "        vertical-align: top;\n",
       "    }\n",
       "\n",
       "    .dataframe thead th {\n",
       "        text-align: right;\n",
       "    }\n",
       "</style>\n",
       "<table border=\"1\" class=\"dataframe\">\n",
       "  <thead>\n",
       "    <tr style=\"text-align: right;\">\n",
       "      <th></th>\n",
       "      <th>id</th>\n",
       "      <th>Z</th>\n",
       "      <th>geometry</th>\n",
       "    </tr>\n",
       "  </thead>\n",
       "  <tbody>\n",
       "    <tr>\n",
       "      <th>0</th>\n",
       "      <td>None</td>\n",
       "      <td>400</td>\n",
       "      <td>LINESTRING (0.741 475.441, 35.629 429.247, 77....</td>\n",
       "    </tr>\n",
       "    <tr>\n",
       "      <th>1</th>\n",
       "      <td>None</td>\n",
       "      <td>300</td>\n",
       "      <td>LINESTRING (645.965 0.525, 685.141 61.866, 724...</td>\n",
       "    </tr>\n",
       "    <tr>\n",
       "      <th>2</th>\n",
       "      <td>None</td>\n",
       "      <td>400</td>\n",
       "      <td>LINESTRING (490.292 0.525, 505.756 40.732, 519...</td>\n",
       "    </tr>\n",
       "    <tr>\n",
       "      <th>3</th>\n",
       "      <td>None</td>\n",
       "      <td>600</td>\n",
       "      <td>LINESTRING (911.433 1068.585, 908.856 1026.831...</td>\n",
       "    </tr>\n",
       "    <tr>\n",
       "      <th>4</th>\n",
       "      <td>None</td>\n",
       "      <td>700</td>\n",
       "      <td>LINESTRING (228.432 1068.585, 239.772 1017.037...</td>\n",
       "    </tr>\n",
       "    <tr>\n",
       "      <th>5</th>\n",
       "      <td>None</td>\n",
       "      <td>600</td>\n",
       "      <td>LINESTRING (114.513 1068.069, 151.627 930.438,...</td>\n",
       "    </tr>\n",
       "    <tr>\n",
       "      <th>6</th>\n",
       "      <td>None</td>\n",
       "      <td>500</td>\n",
       "      <td>LINESTRING (28.429 1067.554, 71.728 866.004, 1...</td>\n",
       "    </tr>\n",
       "  </tbody>\n",
       "</table>\n",
       "</div>"
      ],
      "text/plain": [
       "     id    Z                                           geometry\n",
       "0  None  400  LINESTRING (0.741 475.441, 35.629 429.247, 77....\n",
       "1  None  300  LINESTRING (645.965 0.525, 685.141 61.866, 724...\n",
       "2  None  400  LINESTRING (490.292 0.525, 505.756 40.732, 519...\n",
       "3  None  600  LINESTRING (911.433 1068.585, 908.856 1026.831...\n",
       "4  None  700  LINESTRING (228.432 1068.585, 239.772 1017.037...\n",
       "5  None  600  LINESTRING (114.513 1068.069, 151.627 930.438,...\n",
       "6  None  500  LINESTRING (28.429 1067.554, 71.728 866.004, 1..."
      ]
     },
     "execution_count": 25,
     "metadata": {},
     "output_type": "execute_result"
    }
   ],
   "source": [
    "geo_data.raw_dem"
   ]
  },
  {
   "cell_type": "markdown",
   "metadata": {},
   "source": [
    "<a id='methods'></a>\n",
    "# Methods of the GemPy Data Class\n",
    "## Create GemPy Section Dict from GeoDataFrame\n",
    "\n",
    "A section dict can be created from a point or linestring GeoDataFrame."
   ]
  },
  {
   "cell_type": "code",
   "execution_count": 26,
   "metadata": {
    "ExecuteTime": {
     "end_time": "2020-10-12T20:25:59.024746Z",
     "start_time": "2020-10-12T20:25:58.984720Z"
    }
   },
   "outputs": [
    {
     "data": {
      "text/html": [
       "<div>\n",
       "<style scoped>\n",
       "    .dataframe tbody tr th:only-of-type {\n",
       "        vertical-align: middle;\n",
       "    }\n",
       "\n",
       "    .dataframe tbody tr th {\n",
       "        vertical-align: top;\n",
       "    }\n",
       "\n",
       "    .dataframe thead th {\n",
       "        text-align: right;\n",
       "    }\n",
       "</style>\n",
       "<table border=\"1\" class=\"dataframe\">\n",
       "  <thead>\n",
       "    <tr style=\"text-align: right;\">\n",
       "      <th></th>\n",
       "      <th>id</th>\n",
       "      <th>geometry</th>\n",
       "      <th>Section</th>\n",
       "    </tr>\n",
       "  </thead>\n",
       "  <tbody>\n",
       "    <tr>\n",
       "      <th>0</th>\n",
       "      <td>None</td>\n",
       "      <td>POINT (695.467 3.226)</td>\n",
       "      <td>Section1</td>\n",
       "    </tr>\n",
       "    <tr>\n",
       "      <th>1</th>\n",
       "      <td>None</td>\n",
       "      <td>POINT (669.284 1060.822)</td>\n",
       "      <td>Section1</td>\n",
       "    </tr>\n",
       "  </tbody>\n",
       "</table>\n",
       "</div>"
      ],
      "text/plain": [
       "     id                  geometry   Section\n",
       "0  None     POINT (695.467 3.226)  Section1\n",
       "1  None  POINT (669.284 1060.822)  Section1"
      ]
     },
     "execution_count": 26,
     "metadata": {},
     "output_type": "execute_result"
    }
   ],
   "source": [
    "section_gdf = gpd.read_file('../../gemgis/data/Test1/customsections1.shp')\n",
    "section_gdf['Section'] = 'Section1'\n",
    "section_gdf"
   ]
  },
  {
   "cell_type": "code",
   "execution_count": 27,
   "metadata": {
    "ExecuteTime": {
     "end_time": "2020-10-12T20:25:59.056745Z",
     "start_time": "2020-10-12T20:25:59.024746Z"
    }
   },
   "outputs": [
    {
     "data": {
      "text/plain": [
       "{'Section1': ([695.4667461080886, 3.2262250771374283],\n",
       "  [669.2840030245482, 1060.822026058724],\n",
       "  [100, 80])}"
      ]
     },
     "execution_count": 27,
     "metadata": {},
     "output_type": "execute_result"
    }
   ],
   "source": [
    "geo_data.to_section_dict(section_gdf, section_column ='Section')\n",
    "geo_data.section_dict"
   ]
  },
  {
   "cell_type": "markdown",
   "metadata": {},
   "source": [
    "## Create DataFrame ready to be used for GemPy\n",
    "The loaded DataFrames can be converted into GemPy dataframes, that can directly be used for the modeling with GemPy. The resulting DataFrames are automatically stored in the attributes `geo_data.interfaces` and `geo_data.orientations`."
   ]
  },
  {
   "cell_type": "code",
   "execution_count": 28,
   "metadata": {
    "ExecuteTime": {
     "end_time": "2020-10-12T20:25:59.192746Z",
     "start_time": "2020-10-12T20:25:59.056745Z"
    }
   },
   "outputs": [
    {
     "data": {
      "text/html": [
       "<div>\n",
       "<style scoped>\n",
       "    .dataframe tbody tr th:only-of-type {\n",
       "        vertical-align: middle;\n",
       "    }\n",
       "\n",
       "    .dataframe tbody tr th {\n",
       "        vertical-align: top;\n",
       "    }\n",
       "\n",
       "    .dataframe thead th {\n",
       "        text-align: right;\n",
       "    }\n",
       "</style>\n",
       "<table border=\"1\" class=\"dataframe\">\n",
       "  <thead>\n",
       "    <tr style=\"text-align: right;\">\n",
       "      <th></th>\n",
       "      <th>index</th>\n",
       "      <th>X</th>\n",
       "      <th>Y</th>\n",
       "      <th>Z</th>\n",
       "      <th>formation</th>\n",
       "    </tr>\n",
       "  </thead>\n",
       "  <tbody>\n",
       "    <tr>\n",
       "      <th>0</th>\n",
       "      <td>0</td>\n",
       "      <td>0.26</td>\n",
       "      <td>264.86</td>\n",
       "      <td>353.97</td>\n",
       "      <td>Sand1</td>\n",
       "    </tr>\n",
       "    <tr>\n",
       "      <th>1</th>\n",
       "      <td>1</td>\n",
       "      <td>10.59</td>\n",
       "      <td>276.73</td>\n",
       "      <td>359.04</td>\n",
       "      <td>Sand1</td>\n",
       "    </tr>\n",
       "    <tr>\n",
       "      <th>2</th>\n",
       "      <td>2</td>\n",
       "      <td>17.13</td>\n",
       "      <td>289.09</td>\n",
       "      <td>364.28</td>\n",
       "      <td>Sand1</td>\n",
       "    </tr>\n",
       "    <tr>\n",
       "      <th>3</th>\n",
       "      <td>3</td>\n",
       "      <td>19.15</td>\n",
       "      <td>293.31</td>\n",
       "      <td>364.99</td>\n",
       "      <td>Sand1</td>\n",
       "    </tr>\n",
       "    <tr>\n",
       "      <th>4</th>\n",
       "      <td>4</td>\n",
       "      <td>27.80</td>\n",
       "      <td>310.57</td>\n",
       "      <td>372.81</td>\n",
       "      <td>Sand1</td>\n",
       "    </tr>\n",
       "  </tbody>\n",
       "</table>\n",
       "</div>"
      ],
      "text/plain": [
       "   index     X      Y      Z formation\n",
       "0      0  0.26 264.86 353.97     Sand1\n",
       "1      1 10.59 276.73 359.04     Sand1\n",
       "2      2 17.13 289.09 364.28     Sand1\n",
       "3      3 19.15 293.31 364.99     Sand1\n",
       "4      4 27.80 310.57 372.81     Sand1"
      ]
     },
     "execution_count": 28,
     "metadata": {},
     "output_type": "execute_result"
    }
   ],
   "source": [
    "#Loading the dem\n",
    "dem = rasterio.open(geo_data.dem)\n",
    "\n",
    "geo_data.to_gempy_df(geo_data.raw_i, cat = 'interfaces', dem=dem)\n",
    "geo_data.interfaces.head()"
   ]
  },
  {
   "cell_type": "code",
   "execution_count": 29,
   "metadata": {
    "ExecuteTime": {
     "end_time": "2020-10-12T20:25:59.289601Z",
     "start_time": "2020-10-12T20:25:59.192746Z"
    }
   },
   "outputs": [
    {
     "data": {
      "text/html": [
       "<div>\n",
       "<style scoped>\n",
       "    .dataframe tbody tr th:only-of-type {\n",
       "        vertical-align: middle;\n",
       "    }\n",
       "\n",
       "    .dataframe tbody tr th {\n",
       "        vertical-align: top;\n",
       "    }\n",
       "\n",
       "    .dataframe thead th {\n",
       "        text-align: right;\n",
       "    }\n",
       "</style>\n",
       "<table border=\"1\" class=\"dataframe\">\n",
       "  <thead>\n",
       "    <tr style=\"text-align: right;\">\n",
       "      <th></th>\n",
       "      <th>index</th>\n",
       "      <th>X</th>\n",
       "      <th>Y</th>\n",
       "      <th>Z</th>\n",
       "      <th>formation</th>\n",
       "      <th>dip</th>\n",
       "      <th>azimuth</th>\n",
       "      <th>polarity</th>\n",
       "    </tr>\n",
       "  </thead>\n",
       "  <tbody>\n",
       "    <tr>\n",
       "      <th>0</th>\n",
       "      <td>0</td>\n",
       "      <td>96.47</td>\n",
       "      <td>451.56</td>\n",
       "      <td>440.59</td>\n",
       "      <td>Ton</td>\n",
       "      <td>30.50</td>\n",
       "      <td>180.00</td>\n",
       "      <td>1</td>\n",
       "    </tr>\n",
       "    <tr>\n",
       "      <th>1</th>\n",
       "      <td>1</td>\n",
       "      <td>172.76</td>\n",
       "      <td>661.88</td>\n",
       "      <td>556.38</td>\n",
       "      <td>Ton</td>\n",
       "      <td>30.50</td>\n",
       "      <td>180.00</td>\n",
       "      <td>1</td>\n",
       "    </tr>\n",
       "    <tr>\n",
       "      <th>2</th>\n",
       "      <td>2</td>\n",
       "      <td>383.07</td>\n",
       "      <td>957.76</td>\n",
       "      <td>729.02</td>\n",
       "      <td>Ton</td>\n",
       "      <td>30.50</td>\n",
       "      <td>180.00</td>\n",
       "      <td>1</td>\n",
       "    </tr>\n",
       "    <tr>\n",
       "      <th>3</th>\n",
       "      <td>3</td>\n",
       "      <td>592.36</td>\n",
       "      <td>722.70</td>\n",
       "      <td>601.55</td>\n",
       "      <td>Ton</td>\n",
       "      <td>30.50</td>\n",
       "      <td>180.00</td>\n",
       "      <td>1</td>\n",
       "    </tr>\n",
       "    <tr>\n",
       "      <th>4</th>\n",
       "      <td>4</td>\n",
       "      <td>766.59</td>\n",
       "      <td>348.47</td>\n",
       "      <td>378.63</td>\n",
       "      <td>Ton</td>\n",
       "      <td>30.50</td>\n",
       "      <td>180.00</td>\n",
       "      <td>1</td>\n",
       "    </tr>\n",
       "    <tr>\n",
       "      <th>5</th>\n",
       "      <td>5</td>\n",
       "      <td>843.91</td>\n",
       "      <td>167.02</td>\n",
       "      <td>282.61</td>\n",
       "      <td>Ton</td>\n",
       "      <td>30.50</td>\n",
       "      <td>180.00</td>\n",
       "      <td>1</td>\n",
       "    </tr>\n",
       "    <tr>\n",
       "      <th>6</th>\n",
       "      <td>6</td>\n",
       "      <td>941.85</td>\n",
       "      <td>428.88</td>\n",
       "      <td>423.45</td>\n",
       "      <td>Ton</td>\n",
       "      <td>30.50</td>\n",
       "      <td>180.00</td>\n",
       "      <td>1</td>\n",
       "    </tr>\n",
       "    <tr>\n",
       "      <th>7</th>\n",
       "      <td>7</td>\n",
       "      <td>22.14</td>\n",
       "      <td>299.55</td>\n",
       "      <td>368.05</td>\n",
       "      <td>Ton</td>\n",
       "      <td>30.50</td>\n",
       "      <td>180.00</td>\n",
       "      <td>1</td>\n",
       "    </tr>\n",
       "  </tbody>\n",
       "</table>\n",
       "</div>"
      ],
      "text/plain": [
       "   index      X      Y      Z formation   dip  azimuth  polarity\n",
       "0      0  96.47 451.56 440.59       Ton 30.50   180.00         1\n",
       "1      1 172.76 661.88 556.38       Ton 30.50   180.00         1\n",
       "2      2 383.07 957.76 729.02       Ton 30.50   180.00         1\n",
       "3      3 592.36 722.70 601.55       Ton 30.50   180.00         1\n",
       "4      4 766.59 348.47 378.63       Ton 30.50   180.00         1\n",
       "5      5 843.91 167.02 282.61       Ton 30.50   180.00         1\n",
       "6      6 941.85 428.88 423.45       Ton 30.50   180.00         1\n",
       "7      7  22.14 299.55 368.05       Ton 30.50   180.00         1"
      ]
     },
     "execution_count": 29,
     "metadata": {},
     "output_type": "execute_result"
    }
   ],
   "source": [
    "geo_data.to_gempy_df(geo_data.raw_o, cat = 'orientations', dem=dem)\n",
    "geo_data.orientations"
   ]
  },
  {
   "cell_type": "markdown",
   "metadata": {},
   "source": [
    "## Setting the extent for a GemPy Model\n",
    "\n",
    "The extent of a `GemPy` model can easily be set with `geo_data.set_extent(...)` and can then be used during the model initiation."
   ]
  },
  {
   "cell_type": "code",
   "execution_count": 30,
   "metadata": {
    "ExecuteTime": {
     "end_time": "2020-10-12T20:25:59.305614Z",
     "start_time": "2020-10-12T20:25:59.289601Z"
    }
   },
   "outputs": [
    {
     "data": {
      "text/plain": [
       "[0.0, 972.0, 0.0, 1069.0, 300.0, 800.0]"
      ]
     },
     "execution_count": 30,
     "metadata": {},
     "output_type": "execute_result"
    }
   ],
   "source": [
    "geo_data.set_extent(0., 972., 0., 1069., 300., 800.)\n",
    "geo_data.extent"
   ]
  },
  {
   "cell_type": "markdown",
   "metadata": {},
   "source": [
    "## Setting the resolution for a GemPy Model\n",
    "The resolution of a `GemPy` model (in number of cells in X,Y,Z direction) can easily be set with `geo_data.set_resolution` and can then be used during the model initiation."
   ]
  },
  {
   "cell_type": "code",
   "execution_count": 31,
   "metadata": {
    "ExecuteTime": {
     "end_time": "2020-10-12T20:25:59.321621Z",
     "start_time": "2020-10-12T20:25:59.305614Z"
    }
   },
   "outputs": [
    {
     "data": {
      "text/plain": [
       "[50, 50, 50]"
      ]
     },
     "execution_count": 31,
     "metadata": {},
     "output_type": "execute_result"
    }
   ],
   "source": [
    "geo_data.set_resolution(50,50,50)\n",
    "geo_data.resolution"
   ]
  },
  {
   "cell_type": "markdown",
   "metadata": {},
   "source": [
    "## Create surface color dict from QGIS Style File\n",
    "A surface color dict can be created directly from a QGIS qml file and can be used to change the color of the stack once the surfaces have been assigned to a series. "
   ]
  },
  {
   "cell_type": "code",
   "execution_count": 32,
   "metadata": {
    "ExecuteTime": {
     "end_time": "2020-10-12T20:25:59.337625Z",
     "start_time": "2020-10-12T20:25:59.321621Z"
    }
   },
   "outputs": [
    {
     "data": {
      "text/plain": [
       "{'Sand1': '#b35a2a', 'Ton': '#525252'}"
      ]
     },
     "execution_count": 32,
     "metadata": {},
     "output_type": "execute_result"
    }
   ],
   "source": [
    "geo_data.to_surface_color_dict('../../gemgis/data/Test1/style1.qml')\n",
    "geo_data.surface_colors.pop('Sand2')\n",
    "geo_data.surface_colors"
   ]
  },
  {
   "cell_type": "markdown",
   "metadata": {},
   "source": [
    "<a id='model'></a>\n",
    "# Creating a GemPy Model\n",
    "## Creating GemPy Model\n",
    "\n",
    "For more information on how to create a GemPy Model, please see the tutorials at: https://docs.gempy.org/tutorials/index.html. With the attributes of the GemPy Data Class, all necessary variables can be passed to the model."
   ]
  },
  {
   "cell_type": "code",
   "execution_count": 33,
   "metadata": {
    "ExecuteTime": {
     "end_time": "2020-10-12T20:25:59.655335Z",
     "start_time": "2020-10-12T20:25:59.337625Z"
    }
   },
   "outputs": [
    {
     "data": {
      "text/plain": [
       "Model1  2020-10-29 19:28"
      ]
     },
     "execution_count": 33,
     "metadata": {},
     "output_type": "execute_result"
    }
   ],
   "source": [
    "geo_model = gp.create_model(geo_data.model_name)\n",
    "geo_model"
   ]
  },
  {
   "cell_type": "code",
   "execution_count": 34,
   "metadata": {
    "ExecuteTime": {
     "end_time": "2020-10-12T20:25:59.671290Z",
     "start_time": "2020-10-12T20:25:59.655335Z"
    }
   },
   "outputs": [
    {
     "data": {
      "text/plain": [
       "[0, 972, 0, 1069, 300, 800]"
      ]
     },
     "execution_count": 34,
     "metadata": {},
     "output_type": "execute_result"
    }
   ],
   "source": [
    "geo_data.set_extent(0,972,0,1069, 300, 800)\n",
    "geo_data.extent"
   ]
  },
  {
   "cell_type": "code",
   "execution_count": 35,
   "metadata": {
    "ExecuteTime": {
     "end_time": "2020-10-12T20:25:59.955747Z",
     "start_time": "2020-10-12T20:25:59.675407Z"
    }
   },
   "outputs": [
    {
     "name": "stdout",
     "output_type": "stream",
     "text": [
      "Active grids: ['regular']\n"
     ]
    },
    {
     "data": {
      "text/plain": [
       "Model1  2020-10-29 19:28"
      ]
     },
     "execution_count": 35,
     "metadata": {},
     "output_type": "execute_result"
    }
   ],
   "source": [
    "gp.init_data(geo_model, geo_data.extent, geo_data.resolution,\n",
    "             surface_points_df = geo_data.interfaces,\n",
    "             orientations_df = geo_data.orientations,\n",
    "             default_values=True)"
   ]
  },
  {
   "cell_type": "code",
   "execution_count": 36,
   "metadata": {
    "ExecuteTime": {
     "end_time": "2020-10-12T20:26:00.071290Z",
     "start_time": "2020-10-12T20:25:59.955747Z"
    }
   },
   "outputs": [
    {
     "data": {
      "text/html": [
       "<style  type=\"text/css\" >\n",
       "#T_8fce8749_1a14_11eb_94de_002b67c8df17row0_col3{\n",
       "            background-color:  #015482;\n",
       "        }#T_8fce8749_1a14_11eb_94de_002b67c8df17row1_col3{\n",
       "            background-color:  #9f0052;\n",
       "        }</style><table id=\"T_8fce8749_1a14_11eb_94de_002b67c8df17\" ><thead>    <tr>        <th class=\"blank level0\" ></th>        <th class=\"col_heading level0 col0\" >surface</th>        <th class=\"col_heading level0 col1\" >series</th>        <th class=\"col_heading level0 col2\" >order_surfaces</th>        <th class=\"col_heading level0 col3\" >color</th>        <th class=\"col_heading level0 col4\" >id</th>    </tr></thead><tbody>\n",
       "                <tr>\n",
       "                        <th id=\"T_8fce8749_1a14_11eb_94de_002b67c8df17level0_row0\" class=\"row_heading level0 row0\" >0</th>\n",
       "                        <td id=\"T_8fce8749_1a14_11eb_94de_002b67c8df17row0_col0\" class=\"data row0 col0\" >Sand1</td>\n",
       "                        <td id=\"T_8fce8749_1a14_11eb_94de_002b67c8df17row0_col1\" class=\"data row0 col1\" >Default series</td>\n",
       "                        <td id=\"T_8fce8749_1a14_11eb_94de_002b67c8df17row0_col2\" class=\"data row0 col2\" >1</td>\n",
       "                        <td id=\"T_8fce8749_1a14_11eb_94de_002b67c8df17row0_col3\" class=\"data row0 col3\" >#015482</td>\n",
       "                        <td id=\"T_8fce8749_1a14_11eb_94de_002b67c8df17row0_col4\" class=\"data row0 col4\" >1</td>\n",
       "            </tr>\n",
       "            <tr>\n",
       "                        <th id=\"T_8fce8749_1a14_11eb_94de_002b67c8df17level0_row1\" class=\"row_heading level0 row1\" >1</th>\n",
       "                        <td id=\"T_8fce8749_1a14_11eb_94de_002b67c8df17row1_col0\" class=\"data row1 col0\" >Ton</td>\n",
       "                        <td id=\"T_8fce8749_1a14_11eb_94de_002b67c8df17row1_col1\" class=\"data row1 col1\" >Default series</td>\n",
       "                        <td id=\"T_8fce8749_1a14_11eb_94de_002b67c8df17row1_col2\" class=\"data row1 col2\" >2</td>\n",
       "                        <td id=\"T_8fce8749_1a14_11eb_94de_002b67c8df17row1_col3\" class=\"data row1 col3\" >#9f0052</td>\n",
       "                        <td id=\"T_8fce8749_1a14_11eb_94de_002b67c8df17row1_col4\" class=\"data row1 col4\" >2</td>\n",
       "            </tr>\n",
       "    </tbody></table>"
      ],
      "text/plain": [
       "  surface          series  order_surfaces    color  id\n",
       "0   Sand1  Default series               1  #015482   1\n",
       "1     Ton  Default series               2  #9f0052   2"
      ]
     },
     "execution_count": 36,
     "metadata": {},
     "output_type": "execute_result"
    }
   ],
   "source": [
    "geo_model.surfaces"
   ]
  },
  {
   "cell_type": "code",
   "execution_count": 37,
   "metadata": {
    "ExecuteTime": {
     "end_time": "2020-10-12T20:26:00.264463Z",
     "start_time": "2020-10-12T20:26:00.071290Z"
    }
   },
   "outputs": [],
   "source": [
    "gp.map_stack_to_surfaces(geo_model,\n",
    "                         geo_data.stack,\n",
    "                         remove_unused_series=True)\n",
    "geo_model.add_surfaces('basement')\n",
    "geo_model.surfaces.colors.change_colors(geo_data.surface_colors) "
   ]
  },
  {
   "cell_type": "code",
   "execution_count": 38,
   "metadata": {
    "ExecuteTime": {
     "end_time": "2020-10-12T20:26:00.694420Z",
     "start_time": "2020-10-12T20:26:00.264463Z"
    }
   },
   "outputs": [
    {
     "name": "stdout",
     "output_type": "stream",
     "text": [
      "Cropped raster to geo_model.grid.extent.\n",
      "depending on the size of the raster, this can take a while...\n",
      "storing converted file...\n",
      "Active grids: ['regular' 'topography']\n"
     ]
    },
    {
     "data": {
      "text/plain": [
       "Grid Object. Values: \n",
       "array([[   9.72      ,   10.69      ,  305.        ],\n",
       "       [   9.72      ,   10.69      ,  315.        ],\n",
       "       [   9.72      ,   10.69      ,  325.        ],\n",
       "       ...,\n",
       "       [ 970.056     , 1059.28181818,  622.0892334 ],\n",
       "       [ 970.056     , 1063.16909091,  622.06713867],\n",
       "       [ 970.056     , 1067.05636364,  622.05786133]])"
      ]
     },
     "execution_count": 38,
     "metadata": {},
     "output_type": "execute_result"
    }
   ],
   "source": [
    "geo_model.set_topography(source='gdal', filepath=geo_data.dem)\n"
   ]
  },
  {
   "cell_type": "code",
   "execution_count": 39,
   "metadata": {
    "ExecuteTime": {
     "end_time": "2020-10-12T20:26:04.984506Z",
     "start_time": "2020-10-12T20:26:00.694420Z"
    }
   },
   "outputs": [
    {
     "name": "stdout",
     "output_type": "stream",
     "text": [
      "Compiling theano function...\n",
      "Level of Optimization:  fast_compile\n",
      "Device:  cpu\n",
      "Precision:  float64\n",
      "Number of faults:  0\n",
      "Compilation Done!\n",
      "Kriging values: \n",
      "                   values\n",
      "range            1528.90\n",
      "$C_o$           55655.83\n",
      "drift equations      [3]\n"
     ]
    },
    {
     "data": {
      "text/plain": [
       "<gempy.core.interpolator.InterpolatorModel at 0x21a1fb3c7f0>"
      ]
     },
     "execution_count": 39,
     "metadata": {},
     "output_type": "execute_result"
    }
   ],
   "source": [
    "gp.set_interpolator(geo_model,\n",
    "                    compile_theano=True,\n",
    "                    theano_optimizer='fast_compile',\n",
    "                    verbose=[],\n",
    "                    update_kriging = False\n",
    "                    )"
   ]
  },
  {
   "cell_type": "code",
   "execution_count": 40,
   "metadata": {
    "ExecuteTime": {
     "end_time": "2020-10-12T20:26:15.488515Z",
     "start_time": "2020-10-12T20:26:04.984506Z"
    }
   },
   "outputs": [],
   "source": [
    "sol = gp.compute_model(geo_model)"
   ]
  },
  {
   "cell_type": "code",
   "execution_count": 41,
   "metadata": {
    "ExecuteTime": {
     "end_time": "2020-10-12T20:26:17.210468Z",
     "start_time": "2020-10-12T20:26:15.488515Z"
    }
   },
   "outputs": [
    {
     "data": {
      "image/png": "[encoded data removed]",
      "text/plain": [
       "<PIL.Image.Image image mode=RGB size=1024x768 at 0x21A21D29C40>"
      ]
     },
     "metadata": {},
     "output_type": "display_data"
    }
   ],
   "source": [
    "gpv = gp.plot_3d(geo_model, image=False, show_topography=True,\n",
    "                 plotter_type='basic', notebook=True)"
   ]
  }
 ],
 "metadata": {
  "hide_input": false,
  "kernelspec": {
   "display_name": "Python 3",
   "language": "python",
   "name": "python3"
  },
  "language_info": {
   "codemirror_mode": {
    "name": "ipython",
    "version": 3
   },
   "file_extension": ".py",
   "mimetype": "text/x-python",
   "name": "python",
   "nbconvert_exporter": "python",
   "pygments_lexer": "ipython3",
   "version": "3.8.5"
  },
  "toc": {
   "base_numbering": 1,
   "nav_menu": {},
   "number_sections": false,
   "sideBar": true,
   "skip_h1_title": false,
   "title_cell": "Table of Contents",
   "title_sidebar": "Contents",
   "toc_cell": false,
   "toc_position": {},
   "toc_section_display": true,
   "toc_window_display": true
  },
  "varInspector": {
   "cols": {
    "lenName": 16,
    "lenType": 16,
    "lenVar": 40
   },
   "kernels_config": {
    "python": {
     "delete_cmd_postfix": "",
     "delete_cmd_prefix": "del ",
     "library": "var_list.py",
     "varRefreshCmd": "print(var_dic_list())"
    },
    "r": {
     "delete_cmd_postfix": ") ",
     "delete_cmd_prefix": "rm(",
     "library": "var_list.r",
     "varRefreshCmd": "cat(var_dic_list()) "
    }
   },
   "types_to_exclude": [
    "module",
    "function",
    "builtin_function_or_method",
    "instance",
    "_Feature"
   ],
   "window_display": false
  }
 },
 "nbformat": 4,
 "nbformat_minor": 4
}
