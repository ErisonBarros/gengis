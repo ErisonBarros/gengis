{
 "cells": [
  {
   "cell_type": "markdown",
   "metadata": {},
   "source": [
    "# Notebook 11 - Working with WMS Services in GemGIS\n",
    "\n",
    "[GemGIS](https://github.com/cgre-aachen/gemgis) is a package for geographic information processing for geomodeling. In particular, data is prepared for direct use in [GemPy](https://github.com/cgre-aachen/gempy) via a GemPy Data Class. The package provides functions to process spatial data such as vector data (shape files, geojson files, geopackages), raster data (tiff-files), data retrieved from online services (WMS, WCS, WFS) or KML/XML files. \n",
    "\n",
    "At a later stage, functionality will be added to interactively add interfaces and orientations for a model, choosing the extent, defining custom sections and more. In addition, functionality will be provided to export data from GemPy into Geoinformation Systems (=GIS) such as QGIS or ArcGIS and Google Earth.  \n",
    "\n",
    "# Overview\n",
    "\n",
    "This notebook will present how data obtained from WFS services can be loaded into GemGIS with the [OWSLib](https://geopython.github.io/OWSLib/) package and how it can be manipulated for the usage in [GemPy](https://github.com/cgre-aachen/gempy).\n",
    "\n",
    "\n",
    "- [What is a WFS Service?](#wfs)\n",
    "- [What is OWSLib?](#owslib)\n",
    "- [What is GemPy?](#gempy)\n",
    "- [What are Interfaces and Orientations?](#intandor)\n",
    "- [Downloading and Installing GemGIS](#gemgis)\n",
    "- [Structure of GemGIS](#structure)\n",
    "- [Importing Libraries](#import)\n",
    "- [Version Reports](#vreport)\n",
    "\n",
    "- [Example 1 - Loading a WMS Service](#ex1)\n",
    "- [Example 2 - Downloading data from a WMS Service](#ex2)\n",
    "- [Further Use](#ex3)\n",
    "\n",
    "\n",
    "<a id='wms'></a>\n",
    "## What is a WMS Service?\n",
    "\n",
    "In computing, the Open Geospatial Consortium Web Feature Service (WFS) Interface Standard provides an interface allowing requests for geographical features across the web using platform-independent calls. One can think of geographical features as the \"source code\" behind a map, whereas the WMS interface or online tiled mapping portals like Google Maps return only an image, which end-users cannot edit or spatially analyze. The XML-based GML furnishes the default payload-encoding for transporting geographic features, but other formats like shapefiles can also serve for transport.\n",
    "\n",
    "<img src=\"../data/Images/wfs.png\" width=700>\n",
    "\n",
    "Sources: https://www.weichand.de/2011/11/30/grundlagen-web-feature-service-wfs-2-0/, https://en.wikipedia.org/wiki/Web_Feature_Service\n",
    "\n",
    "<a id='owslib'></a>\n",
    "## What is OWSLib?\n",
    "\n",
    "[OWSLib](https://geopython.github.io/OWSLib/) is a Python package for client programming with Open Geospatial Consortium (OGC) web service (hence OWS) interface standards, and their related content models. OWSLib provides a common API for accessing service metadata and wrappers for numerous OGC Web Service interfaces.\n",
    "\n",
    "For more information see: https://geopython.github.io/OWSLib/\n",
    "\n",
    "<a id='gempy'></a>\n",
    "## What is GemPy?\n",
    "\n",
    "`GemPy` is a Python-based, **open-source geomodeling library**. It is\n",
    "capable of constructing complex **3D geological models** of folded\n",
    "structures, fault networks and unconformities, based on the underlying\n",
    "powerful **implicit representation** approach. `GemPy` was designed from the\n",
    "ground up to support easy embedding in probabilistic frameworks for the\n",
    "uncertainty analysis of subsurface structures.\n",
    "\n",
    "Check out the documentation either on the main website (https://www.gempy.org/) or the specific docs site (http://docs.gempy.org/).\n",
    "\n",
    "- GemPy Installation Help: https://docs.gempy.org/installation.html\n",
    "- GemPy Tutorials: https://docs.gempy.org/tutorials/index.html\n",
    "- GemPy Examples: https://docs.gempy.org/examples/index.html\n",
    "- GemPy Repository: https://github.com/cgre-aachen/gempy\n",
    "- GemPy Tutorial Video: https://youtu.be/n0btC5Zilyc\n",
    "\n",
    "<a id='intandor'></a>\n",
    "## What are Interfaces and Orientations?\n",
    "`GemPy`is using an implicit modeling approach based on the potential field method to create geological models. The only input data required are interfaces (layer boundaries in outcrops or in wells) and orientations (dip and azimuth values of a given orientation). The necessary information for interfaces are the `X`,`Y` and `Z`coordinates as well as the `formation`. Please be aware that `GemPy` is always referring to the base of a formation! For orientations, `X`,`Y` and `Z`coordinates, the `formation` and `dip`, `azimuth` and a `polarity` values is needed. The polarity is usually set to 1. \n",
    "\n",
    "<img src=\"../data/Images/orientations.jpg\" width=\"300\">\n",
    "\n",
    "Image Source: https://www.geolstuffmnl.com/post/measuring-strike-and-dip\n",
    "\n",
    "<a id='gemgis'></a>\n",
    "## Downloading and installing GemGIS\n",
    "\n",
    "`GemGIS` is under constant development and the latest available version can be downloaded at https://github.com/cgre-aachen/gemgis. A pip version can be found at https://pypi.org/project/gemgis/. A dedicated documentation page will follow.\n",
    "\n",
    "<a id='structure'></a>\n",
    "## Structure of GemGIS\n",
    "\n",
    "The core of `GemGIS` is made of the `GemPyData` class (`gemgis.py`). Its attributes can directly be utilized by `GemPy` making it easier for users to load data. Methods of the `GemPyData` class allow users to directly set these attributes. Multiple other files contain functions to manipulate vector data, raster data, etc.:\n",
    "\n",
    "* `gemgis.py` - core file containing the `GemPyData` class\n",
    "* `vector.py` - file containing functions to manipulate vector data\n",
    "* `raster.py` - file containing functions to manipulate raster data\n",
    "* `utils.py` - file containing utility functions frequently used for the manipulation of vector/raster data\n",
    "* `wms.py` - file containing methods to load WMS services as arrays/rasters\n",
    "* `visualization.py` - file containing functions to simplify plotting of spatial data\n",
    "* `misc.py` - file containing functions for custom tasks \n",
    "\n",
    "\n",
    "\n",
    "If you have any problems using GemGIS, find a bug or have an idea for a new feature, open an issue at https://github.com/cgre-aachen/gemgis/issues. # A notebook about how to work with WMS Services will follow soon"
   ]
  },
  {
   "cell_type": "markdown",
   "metadata": {
    "ExecuteTime": {
     "end_time": "2020-07-18T14:02:13.026524Z",
     "start_time": "2020-07-18T14:02:13.022525Z"
    }
   },
   "source": [
    "<a id='import'></a>\n",
    "# Importing Libraries\n",
    "\n",
    "Apart from creating a GemPyData class in later tutorials, GemGIS is working with pure GeoDataFrames, Rasterio files and NumPy arrays to provide the user with easy data handling. ***Currently, geopandas version 0.8.0 is the latest stable version that is supported by GemGIS***. Rasterio objects and a general introduction to working with raster in GemGIS is provided in the next notebook.\n",
    "\n",
    "The first step is loading `GemGIS` and the auxiliary libraries `geopandas` and `rasterio` apart from `NumPy` and `Matplotlib`. `GemGIS` will also load `GemPy` the background. If the installation of `GemPy`was not successful, `GemGIS` cannot be used. "
   ]
  },
  {
   "cell_type": "code",
   "execution_count": 1,
   "metadata": {
    "ExecuteTime": {
     "end_time": "2020-10-15T08:07:06.642699Z",
     "start_time": "2020-10-15T08:07:02.211174Z"
    }
   },
   "outputs": [
    {
     "name": "stderr",
     "output_type": "stream",
     "text": [
      "WARNING (theano.configdefaults): g++ not available, if using conda: `conda install m2w64-toolchain`\n",
      "C:\\Users\\ale93371\\Anaconda3\\envs\\test_gempy\\lib\\site-packages\\theano\\configdefaults.py:560: UserWarning: DeprecationWarning: there is no c++ compiler.This is deprecated and with Theano 0.11 a c++ compiler will be mandatory\n",
      "  warnings.warn(\"DeprecationWarning: there is no c++ compiler.\"\n",
      "WARNING (theano.configdefaults): g++ not detected ! Theano will be unable to execute optimized C-implementations (for both CPU and GPU) and will default to Python implementations. Performance will be severely degraded. To remove this warning, set Theano flags cxx to an empty string.\n",
      "WARNING (theano.tensor.blas): Using NumPy C-API based implementation for BLAS functions.\n"
     ]
    },
    {
     "name": "stdout",
     "output_type": "stream",
     "text": [
      "<module 'gemgis' from '../../gemgis\\\\gemgis\\\\__init__.py'>\n"
     ]
    }
   ],
   "source": [
    "import sys\n",
    "sys.path.append('../../gemgis')\n",
    "import gemgis as gg\n",
    "import geopandas as gpd\n",
    "import rasterio\n",
    "import numpy as np\n",
    "import pyvista as pv\n",
    "import matplotlib.pyplot as plt\n",
    "print(gg)"
   ]
  },
  {
   "cell_type": "markdown",
   "metadata": {},
   "source": [
    "<a id='vreport'></a>\n",
    "# Version Reports\n",
    "Reporting your Python environment's package versions and hardware resources by Scooby - https://github.com/banesullivan/scooby. This overview shows the packages and their versions used to run this notebook. Upgrading or downgrading to older or newer versions may break the notebook."
   ]
  },
  {
   "cell_type": "code",
   "execution_count": 2,
   "metadata": {
    "ExecuteTime": {
     "end_time": "2020-10-15T08:07:06.657687Z",
     "start_time": "2020-10-15T08:07:06.644699Z"
    }
   },
   "outputs": [
    {
     "data": {
      "text/html": [
       "<table style='border: 3px solid #ddd;'>\n",
       "  <tr>\n",
       "     <td style='text-align: center; font-weight: bold; font-size: 1.2em; border: 2px solid #fff;' colspan='6'>Thu Oct 29 19:37:11 2020 Mitteleuropäische Zeit</td>\n",
       "  </tr>\n",
       "  <tr>\n",
       "    <td style='text-align: right; background-color: #ccc; border: 2px solid #fff;'>OS</td>\n",
       "    <td style='text-align: left; border: 2px solid #fff;'>Windows</td>\n",
       "    <td style='text-align: right; background-color: #ccc; border: 2px solid #fff;'>CPU(s)</td>\n",
       "    <td style='text-align: left; border: 2px solid #fff;'>16</td>\n",
       "    <td style='text-align: right; background-color: #ccc; border: 2px solid #fff;'>Machine</td>\n",
       "    <td style='text-align: left; border: 2px solid #fff;'>AMD64</td>\n",
       "  </tr>\n",
       "  <tr>\n",
       "    <td style='text-align: right; background-color: #ccc; border: 2px solid #fff;'>Architecture</td>\n",
       "    <td style='text-align: left; border: 2px solid #fff;'>64bit</td>\n",
       "    <td style='text-align: right; background-color: #ccc; border: 2px solid #fff;'>Environment</td>\n",
       "    <td style='text-align: left; border: 2px solid #fff;'>Jupyter</td>\n",
       "  </tr>\n",
       "  <tr>\n",
       "     <td style='text-align: center; border: 2px solid #fff;' colspan='6'>Python 3.8.5 (default, Sep  3 2020, 21:29:08) [MSC v.1916 64 bit (AMD64)]</td>\n",
       "  </tr>\n",
       "  <tr>\n",
       "    <td style='text-align: right; background-color: #ccc; border: 2px solid #fff;'>json</td>\n",
       "    <td style='text-align: left; border: 2px solid #fff;'>2.0.9</td>\n",
       "    <td style='text-align: right; background-color: #ccc; border: 2px solid #fff;'>numpy</td>\n",
       "    <td style='text-align: left; border: 2px solid #fff;'>1.19.2</td>\n",
       "    <td style='text-align: right; background-color: #ccc; border: 2px solid #fff;'>scooby</td>\n",
       "    <td style='text-align: left; border: 2px solid #fff;'>0.5.6</td>\n",
       "  </tr>\n",
       "  <tr>\n",
       "    <td style='text-align: right; background-color: #ccc; border: 2px solid #fff;'>owslib</td>\n",
       "    <td style='text-align: left; border: 2px solid #fff;'>0.20.0</td>\n",
       "    <td style='text-align: right; background-color: #ccc; border: 2px solid #fff;'>pandas</td>\n",
       "    <td style='text-align: left; border: 2px solid #fff;'>1.1.3</td>\n",
       "    <td style='text-align: right; background-color: #ccc; border: 2px solid #fff;'>shapely</td>\n",
       "    <td style='text-align: left; border: 2px solid #fff;'>1.7.1</td>\n",
       "  </tr>\n",
       "  <tr>\n",
       "    <td style='text-align: right; background-color: #ccc; border: 2px solid #fff;'>pyvista</td>\n",
       "    <td style='text-align: left; border: 2px solid #fff;'>0.26.1</td>\n",
       "    <td style='text-align: right; background-color: #ccc; border: 2px solid #fff;'>rasterio</td>\n",
       "    <td style='text-align: left; border: 2px solid #fff;'>1.1.7</td>\n",
       "    <td style='text-align: right; background-color: #ccc; border: 2px solid #fff;'>geopandas</td>\n",
       "    <td style='text-align: left; border: 2px solid #fff;'>0.8.1</td>\n",
       "  </tr>\n",
       "  <tr>\n",
       "    <td style='text-align: right; background-color: #ccc; border: 2px solid #fff;'>requests</td>\n",
       "    <td style='text-align: left; border: 2px solid #fff;'>2.24.0</td>\n",
       "    <td style='text-align: right; background-color: #ccc; border: 2px solid #fff;'>scipy</td>\n",
       "    <td style='text-align: left; border: 2px solid #fff;'>1.5.2</td>\n",
       "    <td style='text-align: right; background-color: #ccc; border: 2px solid #fff;'>skimage</td>\n",
       "    <td style='text-align: left; border: 2px solid #fff;'>0.17.2</td>\n",
       "  </tr>\n",
       "  <tr>\n",
       "    <td style='text-align: right; background-color: #ccc; border: 2px solid #fff;'>matplotlib</td>\n",
       "    <td style='text-align: left; border: 2px solid #fff;'>3.3.1</td>\n",
       "    <td style= border: 2px solid #fff;'></td>\n",
       "    <td style= border: 2px solid #fff;'></td>\n",
       "    <td style= border: 2px solid #fff;'></td>\n",
       "    <td style= border: 2px solid #fff;'></td>\n",
       "  </tr>\n",
       "</table>"
      ],
      "text/plain": [
       "\n",
       "--------------------------------------------------------------------------------\n",
       "  Date: Thu Oct 29 19:37:11 2020 Mitteleuropäische Zeit\n",
       "\n",
       "                OS : Windows\n",
       "            CPU(s) : 16\n",
       "           Machine : AMD64\n",
       "      Architecture : 64bit\n",
       "       Environment : Jupyter\n",
       "\n",
       "  Python 3.8.5 (default, Sep  3 2020, 21:29:08) [MSC v.1916 64 bit (AMD64)]\n",
       "\n",
       "              json : 2.0.9\n",
       "             numpy : 1.19.2\n",
       "            scooby : 0.5.6\n",
       "            owslib : 0.20.0\n",
       "            pandas : 1.1.3\n",
       "           shapely : 1.7.1\n",
       "           pyvista : 0.26.1\n",
       "          rasterio : 1.1.7\n",
       "         geopandas : 0.8.1\n",
       "          requests : 2.24.0\n",
       "             scipy : 1.5.2\n",
       "           skimage : 0.17.2\n",
       "        matplotlib : 3.3.1\n",
       "--------------------------------------------------------------------------------"
      ]
     },
     "execution_count": 2,
     "metadata": {},
     "output_type": "execute_result"
    }
   ],
   "source": [
    "gg.Report()"
   ]
  },
  {
   "cell_type": "markdown",
   "metadata": {},
   "source": [
    "# Example 1 - Loading a WFS Service\n",
    "\n",
    "## Loading the WFS Service \n",
    "The first step is loading an existing WFS Service. The URL is usually provided by the service provider. The WFS service is loaded with `OWSLib`. It shows the different 3D seismic surveys conducted in Germany."
   ]
  },
  {
   "cell_type": "code",
   "execution_count": 3,
   "metadata": {
    "ExecuteTime": {
     "end_time": "2020-10-15T08:07:07.310189Z",
     "start_time": "2020-10-15T08:07:06.661696Z"
    }
   },
   "outputs": [],
   "source": [
    "url = \"https://nibis.lbeg.de/net3/public/ogc.ashx?NodeId=475&Service=WFS&\"\n",
    "\n",
    "wfs = gg.wms.load_wfs(url)"
   ]
  },
  {
   "cell_type": "markdown",
   "metadata": {},
   "source": [
    "## Inspecting the WFS Attributes"
   ]
  },
  {
   "cell_type": "code",
   "execution_count": 4,
   "metadata": {
    "ExecuteTime": {
     "end_time": "2020-10-15T08:07:07.315177Z",
     "start_time": "2020-10-15T08:07:07.311176Z"
    }
   },
   "outputs": [
    {
     "data": {
      "text/plain": [
       "owslib.feature.wfs100.WebFeatureService_1_0_0"
      ]
     },
     "execution_count": 4,
     "metadata": {},
     "output_type": "execute_result"
    }
   ],
   "source": [
    "type(wfs)"
   ]
  },
  {
   "cell_type": "code",
   "execution_count": 5,
   "metadata": {
    "ExecuteTime": {
     "end_time": "2020-10-15T08:07:07.331195Z",
     "start_time": "2020-10-15T08:07:07.316177Z"
    }
   },
   "outputs": [
    {
     "data": {
      "text/plain": [
       "'1.0.0'"
      ]
     },
     "execution_count": 5,
     "metadata": {},
     "output_type": "execute_result"
    }
   ],
   "source": [
    "wfs.version"
   ]
  },
  {
   "cell_type": "code",
   "execution_count": 6,
   "metadata": {
    "ExecuteTime": {
     "end_time": "2020-10-15T08:07:07.340181Z",
     "start_time": "2020-10-15T08:07:07.334182Z"
    }
   },
   "outputs": [
    {
     "data": {
      "text/plain": [
       "'1.0.0'"
      ]
     },
     "execution_count": 6,
     "metadata": {},
     "output_type": "execute_result"
    }
   ],
   "source": [
    "wfs.identification.version"
   ]
  },
  {
   "cell_type": "code",
   "execution_count": 7,
   "metadata": {
    "ExecuteTime": {
     "end_time": "2020-10-15T08:07:07.348185Z",
     "start_time": "2020-10-15T08:07:07.342183Z"
    }
   },
   "outputs": [
    {
     "data": {
      "text/plain": [
       "'Geophysik und Tiefohrungen'"
      ]
     },
     "execution_count": 7,
     "metadata": {},
     "output_type": "execute_result"
    }
   ],
   "source": [
    "wfs.identification.type"
   ]
  },
  {
   "cell_type": "code",
   "execution_count": 8,
   "metadata": {
    "ExecuteTime": {
     "end_time": "2020-10-15T08:07:07.355186Z",
     "start_time": "2020-10-15T08:07:07.350185Z"
    }
   },
   "outputs": [
    {
     "data": {
      "text/plain": [
       "'Geophysik und Tiefohrungen'"
      ]
     },
     "execution_count": 8,
     "metadata": {},
     "output_type": "execute_result"
    }
   ],
   "source": [
    "wfs.identification.title"
   ]
  },
  {
   "cell_type": "code",
   "execution_count": 9,
   "metadata": {
    "ExecuteTime": {
     "end_time": "2020-10-15T08:07:07.364188Z",
     "start_time": "2020-10-15T08:07:07.357186Z"
    }
   },
   "outputs": [
    {
     "data": {
      "text/plain": [
       "'Geophysik und Tiefohrungen'"
      ]
     },
     "execution_count": 9,
     "metadata": {},
     "output_type": "execute_result"
    }
   ],
   "source": [
    "wfs.identification.abstract"
   ]
  },
  {
   "cell_type": "code",
   "execution_count": 10,
   "metadata": {
    "ExecuteTime": {
     "end_time": "2020-10-15T08:07:07.373190Z",
     "start_time": "2020-10-15T08:07:07.366189Z"
    }
   },
   "outputs": [
    {
     "data": {
      "text/plain": [
       "['iwan:L382']"
      ]
     },
     "execution_count": 10,
     "metadata": {},
     "output_type": "execute_result"
    }
   ],
   "source": [
    "list(wfs.contents)"
   ]
  },
  {
   "cell_type": "code",
   "execution_count": 11,
   "metadata": {
    "ExecuteTime": {
     "end_time": "2020-10-15T08:07:07.384193Z",
     "start_time": "2020-10-15T08:07:07.375191Z"
    }
   },
   "outputs": [
    {
     "data": {
      "text/plain": [
       "'Seismik 3D'"
      ]
     },
     "execution_count": 11,
     "metadata": {},
     "output_type": "execute_result"
    }
   ],
   "source": [
    "wfs['iwan:L382'].title"
   ]
  },
  {
   "cell_type": "code",
   "execution_count": 12,
   "metadata": {
    "ExecuteTime": {
     "end_time": "2020-10-15T08:07:07.392193Z",
     "start_time": "2020-10-15T08:07:07.386194Z"
    }
   },
   "outputs": [
    {
     "data": {
      "text/plain": [
       "(5.395175801132899, 47.16510247399335, 17.002272548448747, 54.85398076006903)"
      ]
     },
     "execution_count": 12,
     "metadata": {},
     "output_type": "execute_result"
    }
   ],
   "source": [
    "wfs['iwan:L382'].boundingBoxWGS84"
   ]
  },
  {
   "cell_type": "code",
   "execution_count": 13,
   "metadata": {
    "ExecuteTime": {
     "end_time": "2020-10-15T08:07:07.399197Z",
     "start_time": "2020-10-15T08:07:07.393194Z"
    }
   },
   "outputs": [
    {
     "data": {
      "text/plain": [
       "['GetCapabilities', 'DescribeFeatureType', 'GetFeature']"
      ]
     },
     "execution_count": 13,
     "metadata": {},
     "output_type": "execute_result"
    }
   ],
   "source": [
    "[op.name for op in wfs.operations]"
   ]
  },
  {
   "cell_type": "code",
   "execution_count": 14,
   "metadata": {
    "ExecuteTime": {
     "end_time": "2020-10-15T08:07:07.408197Z",
     "start_time": "2020-10-15T08:07:07.401196Z"
    }
   },
   "outputs": [
    {
     "data": {
      "text/plain": [
       "['{http://www.opengis.net/wfs}GML2']"
      ]
     },
     "execution_count": 14,
     "metadata": {},
     "output_type": "execute_result"
    }
   ],
   "source": [
    "wfs.getOperationByName('GetFeature').formatOptions"
   ]
  },
  {
   "cell_type": "code",
   "execution_count": 15,
   "metadata": {
    "ExecuteTime": {
     "end_time": "2020-10-15T08:07:07.416200Z",
     "start_time": "2020-10-15T08:07:07.409198Z"
    }
   },
   "outputs": [
    {
     "data": {
      "text/plain": [
       "[]"
      ]
     },
     "execution_count": 15,
     "metadata": {},
     "output_type": "execute_result"
    }
   ],
   "source": [
    "wfs.getOperationByName('DescribeFeatureType').formatOptions"
   ]
  },
  {
   "cell_type": "code",
   "execution_count": 16,
   "metadata": {
    "ExecuteTime": {
     "end_time": "2020-10-15T08:07:07.424202Z",
     "start_time": "2020-10-15T08:07:07.418201Z"
    }
   },
   "outputs": [
    {
     "data": {
      "text/plain": [
       "[]"
      ]
     },
     "execution_count": 16,
     "metadata": {},
     "output_type": "execute_result"
    }
   ],
   "source": [
    "wfs.getOperationByName('GetCapabilities').formatOptions"
   ]
  },
  {
   "cell_type": "markdown",
   "metadata": {},
   "source": [
    "## Get Feature - Requesting Data - Example 1 - 3D Seismic Surveys\n",
    "\n",
    "Data from a WFS Service can be requested using `get_feature(...)` and by providing the URL of the service and optionally the layer name and desired output format. The feature will be returned as GeoDataFrame. The data in the GeoDataFrame can then be stored to disc or can be used directly for further processing. "
   ]
  },
  {
   "cell_type": "code",
   "execution_count": 17,
   "metadata": {
    "ExecuteTime": {
     "end_time": "2020-10-15T08:07:08.445723Z",
     "start_time": "2020-10-15T08:07:07.425202Z"
    }
   },
   "outputs": [
    {
     "data": {
      "text/html": [
       "<div>\n",
       "<style scoped>\n",
       "    .dataframe tbody tr th:only-of-type {\n",
       "        vertical-align: middle;\n",
       "    }\n",
       "\n",
       "    .dataframe tbody tr th {\n",
       "        vertical-align: top;\n",
       "    }\n",
       "\n",
       "    .dataframe thead th {\n",
       "        text-align: right;\n",
       "    }\n",
       "</style>\n",
       "<table border=\"1\" class=\"dataframe\">\n",
       "  <thead>\n",
       "    <tr style=\"text-align: right;\">\n",
       "      <th></th>\n",
       "      <th>gml_id</th>\n",
       "      <th>OBJECTID</th>\n",
       "      <th>ID</th>\n",
       "      <th>NAME</th>\n",
       "      <th>CODE</th>\n",
       "      <th>OPERATOR</th>\n",
       "      <th>OP_LANG</th>\n",
       "      <th>OP_NACHFOL</th>\n",
       "      <th>LBEG_NR</th>\n",
       "      <th>MESSFIRMA</th>\n",
       "      <th>...</th>\n",
       "      <th>FOLD</th>\n",
       "      <th>FOLD_X</th>\n",
       "      <th>FOLD_Y</th>\n",
       "      <th>GRID_X</th>\n",
       "      <th>GRID_Y</th>\n",
       "      <th>AUSLAGENFL</th>\n",
       "      <th>CDP_FAECHE</th>\n",
       "      <th>EINSICHT</th>\n",
       "      <th>UP_DATE</th>\n",
       "      <th>geometry</th>\n",
       "    </tr>\n",
       "  </thead>\n",
       "  <tbody>\n",
       "    <tr>\n",
       "      <th>0</th>\n",
       "      <td>1037</td>\n",
       "      <td>1037</td>\n",
       "      <td>1</td>\n",
       "      <td>Achim-Barrien</td>\n",
       "      <td>ACHMBRIN</td>\n",
       "      <td>WIAG</td>\n",
       "      <td>Wintershall AG Erdoelwerke</td>\n",
       "      <td>Wintershall Dea GmbH</td>\n",
       "      <td>0120957</td>\n",
       "      <td>Comp. Generale Geophysique</td>\n",
       "      <td>...</td>\n",
       "      <td>15</td>\n",
       "      <td>5</td>\n",
       "      <td>3</td>\n",
       "      <td>50</td>\n",
       "      <td>50</td>\n",
       "      <td>-1</td>\n",
       "      <td>210</td>\n",
       "      <td>Freie Einsicht</td>\n",
       "      <td>2020-01-20T00:00:00+01:00</td>\n",
       "      <td>POLYGON ((32482924.400 5874911.880, 32482921.3...</td>\n",
       "    </tr>\n",
       "    <tr>\n",
       "      <th>1</th>\n",
       "      <td>1038</td>\n",
       "      <td>1038</td>\n",
       "      <td>4</td>\n",
       "      <td>Uchte-Bahrenborstel</td>\n",
       "      <td>UCHTBHBL</td>\n",
       "      <td>BEB</td>\n",
       "      <td>BEB Erdgas und Erdöl GmbH</td>\n",
       "      <td>BEB Erdgas und Erdöl GmbH &amp; Co. KG</td>\n",
       "      <td>0121564</td>\n",
       "      <td>Prakla Seismos</td>\n",
       "      <td>...</td>\n",
       "      <td>16</td>\n",
       "      <td>-1</td>\n",
       "      <td>-1</td>\n",
       "      <td>25</td>\n",
       "      <td>25</td>\n",
       "      <td>-1</td>\n",
       "      <td>137</td>\n",
       "      <td>Freie Einsicht</td>\n",
       "      <td>2020-01-20T00:00:00+01:00</td>\n",
       "      <td>POLYGON ((32489407.010 5820112.240, 32489407.0...</td>\n",
       "    </tr>\n",
       "    <tr>\n",
       "      <th>2</th>\n",
       "      <td>1039</td>\n",
       "      <td>1039</td>\n",
       "      <td>5</td>\n",
       "      <td>Dethlingen I</td>\n",
       "      <td>DTHL</td>\n",
       "      <td>MEEG</td>\n",
       "      <td>Mobil Erdgas-Erdöl GmbH</td>\n",
       "      <td>Mobil Erdgas-Erdöl GmbH</td>\n",
       "      <td>0121274</td>\n",
       "      <td>Prakla Seismos</td>\n",
       "      <td>...</td>\n",
       "      <td>15</td>\n",
       "      <td>-1</td>\n",
       "      <td>-1</td>\n",
       "      <td>25</td>\n",
       "      <td>25</td>\n",
       "      <td>115</td>\n",
       "      <td>-1</td>\n",
       "      <td>Freie Einsicht</td>\n",
       "      <td>2020-01-20T00:00:00+01:00</td>\n",
       "      <td>POLYGON ((32583495.250 5859919.350, 32583495.4...</td>\n",
       "    </tr>\n",
       "    <tr>\n",
       "      <th>3</th>\n",
       "      <td>1040</td>\n",
       "      <td>1040</td>\n",
       "      <td>6</td>\n",
       "      <td>Emsmündung</td>\n",
       "      <td>EMSM</td>\n",
       "      <td>BEB</td>\n",
       "      <td>BEB Erdgas und Erdöl GmbH</td>\n",
       "      <td>BEB Erdgas und Erdöl GmbH &amp; Co. KG</td>\n",
       "      <td>0121213</td>\n",
       "      <td>Prakla Seismos</td>\n",
       "      <td>...</td>\n",
       "      <td>Land 12</td>\n",
       "      <td>3</td>\n",
       "      <td>4</td>\n",
       "      <td>25</td>\n",
       "      <td>25</td>\n",
       "      <td>375</td>\n",
       "      <td>341</td>\n",
       "      <td>Freie Einsicht</td>\n",
       "      <td>2020-01-20T00:00:00+01:00</td>\n",
       "      <td>POLYGON ((32365050.670 5902956.400, 32365088.6...</td>\n",
       "    </tr>\n",
       "    <tr>\n",
       "      <th>4</th>\n",
       "      <td>1041</td>\n",
       "      <td>1041</td>\n",
       "      <td>8</td>\n",
       "      <td>Gifhorn 1990</td>\n",
       "      <td>GIFHOERL</td>\n",
       "      <td>RDEA</td>\n",
       "      <td>RWE-DEA AG Aufschluss und Gewinnung</td>\n",
       "      <td>Wintershall Dea Deutschland AG</td>\n",
       "      <td>0121533</td>\n",
       "      <td>Prakla Seismos</td>\n",
       "      <td>...</td>\n",
       "      <td>16</td>\n",
       "      <td>2</td>\n",
       "      <td>8</td>\n",
       "      <td>25</td>\n",
       "      <td>25</td>\n",
       "      <td>-1</td>\n",
       "      <td>17</td>\n",
       "      <td>Freie Einsicht</td>\n",
       "      <td>2020-01-20T00:00:00+01:00</td>\n",
       "      <td>POLYGON ((32605673.030 5837028.880, 32608601.7...</td>\n",
       "    </tr>\n",
       "  </tbody>\n",
       "</table>\n",
       "<p>5 rows × 28 columns</p>\n",
       "</div>"
      ],
      "text/plain": [
       "  gml_id  OBJECTID  ID                 NAME      CODE OPERATOR  \\\n",
       "0   1037      1037   1        Achim-Barrien  ACHMBRIN     WIAG   \n",
       "1   1038      1038   4  Uchte-Bahrenborstel  UCHTBHBL      BEB   \n",
       "2   1039      1039   5         Dethlingen I      DTHL     MEEG   \n",
       "3   1040      1040   6           Emsmündung      EMSM      BEB   \n",
       "4   1041      1041   8         Gifhorn 1990  GIFHOERL     RDEA   \n",
       "\n",
       "                               OP_LANG                          OP_NACHFOL  \\\n",
       "0           Wintershall AG Erdoelwerke                Wintershall Dea GmbH   \n",
       "1            BEB Erdgas und Erdöl GmbH  BEB Erdgas und Erdöl GmbH & Co. KG   \n",
       "2              Mobil Erdgas-Erdöl GmbH             Mobil Erdgas-Erdöl GmbH   \n",
       "3            BEB Erdgas und Erdöl GmbH  BEB Erdgas und Erdöl GmbH & Co. KG   \n",
       "4  RWE-DEA AG Aufschluss und Gewinnung      Wintershall Dea Deutschland AG   \n",
       "\n",
       "   LBEG_NR                   MESSFIRMA  ...     FOLD FOLD_X FOLD_Y GRID_X  \\\n",
       "0  0120957  Comp. Generale Geophysique  ...       15      5      3     50   \n",
       "1  0121564              Prakla Seismos  ...       16     -1     -1     25   \n",
       "2  0121274              Prakla Seismos  ...       15     -1     -1     25   \n",
       "3  0121213              Prakla Seismos  ...  Land 12      3      4     25   \n",
       "4  0121533              Prakla Seismos  ...       16      2      8     25   \n",
       "\n",
       "   GRID_Y AUSLAGENFL CDP_FAECHE        EINSICHT                    UP_DATE  \\\n",
       "0      50         -1        210  Freie Einsicht  2020-01-20T00:00:00+01:00   \n",
       "1      25         -1        137  Freie Einsicht  2020-01-20T00:00:00+01:00   \n",
       "2      25        115         -1  Freie Einsicht  2020-01-20T00:00:00+01:00   \n",
       "3      25        375        341  Freie Einsicht  2020-01-20T00:00:00+01:00   \n",
       "4      25         -1         17  Freie Einsicht  2020-01-20T00:00:00+01:00   \n",
       "\n",
       "                                            geometry  \n",
       "0  POLYGON ((32482924.400 5874911.880, 32482921.3...  \n",
       "1  POLYGON ((32489407.010 5820112.240, 32489407.0...  \n",
       "2  POLYGON ((32583495.250 5859919.350, 32583495.4...  \n",
       "3  POLYGON ((32365050.670 5902956.400, 32365088.6...  \n",
       "4  POLYGON ((32605673.030 5837028.880, 32608601.7...  \n",
       "\n",
       "[5 rows x 28 columns]"
      ]
     },
     "execution_count": 17,
     "metadata": {},
     "output_type": "execute_result"
    }
   ],
   "source": [
    "gdf1 = gg.wms.get_feature(url)\n",
    "gdf1.head()"
   ]
  },
  {
   "cell_type": "markdown",
   "metadata": {},
   "source": [
    "## Missing CRS\n",
    "\n",
    "A CRS has to be set manually as the CRS is not provided with the WFS Service."
   ]
  },
  {
   "cell_type": "code",
   "execution_count": 18,
   "metadata": {
    "ExecuteTime": {
     "end_time": "2020-10-15T08:07:08.451712Z",
     "start_time": "2020-10-15T08:07:08.446710Z"
    }
   },
   "outputs": [
    {
     "name": "stdout",
     "output_type": "stream",
     "text": [
      "None\n"
     ]
    }
   ],
   "source": [
    "print(gdf1.crs)"
   ]
  },
  {
   "cell_type": "markdown",
   "metadata": {},
   "source": [
    "## Plotting Data\n",
    "\n",
    "The plot shows the distribution of 3D seismic surveys in Lower Saxony, Germany."
   ]
  },
  {
   "cell_type": "code",
   "execution_count": 19,
   "metadata": {
    "ExecuteTime": {
     "end_time": "2020-10-15T08:07:08.651986Z",
     "start_time": "2020-10-15T08:07:08.452713Z"
    }
   },
   "outputs": [
    {
     "data": {
      "image/png": "[encoded data removed]",
      "text/plain": [
       "<Figure size 748.8x514.8 with 1 Axes>"
      ]
     },
     "metadata": {},
     "output_type": "display_data"
    }
   ],
   "source": [
    "gdf1.plot()\n",
    "plt.grid()"
   ]
  },
  {
   "cell_type": "raw",
   "metadata": {},
   "source": [
    "gdf1.to_file('3D_Seismik.shp')"
   ]
  },
  {
   "cell_type": "markdown",
   "metadata": {},
   "source": [
    "## Example 2 - 2D Seismic Lines"
   ]
  },
  {
   "cell_type": "code",
   "execution_count": 20,
   "metadata": {
    "ExecuteTime": {
     "end_time": "2020-10-15T08:07:19.826737Z",
     "start_time": "2020-10-15T08:07:08.653996Z"
    }
   },
   "outputs": [
    {
     "data": {
      "text/html": [
       "<div>\n",
       "<style scoped>\n",
       "    .dataframe tbody tr th:only-of-type {\n",
       "        vertical-align: middle;\n",
       "    }\n",
       "\n",
       "    .dataframe tbody tr th {\n",
       "        vertical-align: top;\n",
       "    }\n",
       "\n",
       "    .dataframe thead th {\n",
       "        text-align: right;\n",
       "    }\n",
       "</style>\n",
       "<table border=\"1\" class=\"dataframe\">\n",
       "  <thead>\n",
       "    <tr style=\"text-align: right;\">\n",
       "      <th></th>\n",
       "      <th>gml_id</th>\n",
       "      <th>OBJECTID</th>\n",
       "      <th>ID</th>\n",
       "      <th>ID_SURVEY</th>\n",
       "      <th>SURVEYNAME</th>\n",
       "      <th>S_KURZNAME</th>\n",
       "      <th>LBEG_ARCHI</th>\n",
       "      <th>OPERATOR</th>\n",
       "      <th>OP_LANG</th>\n",
       "      <th>OP_NACHFOL</th>\n",
       "      <th>...</th>\n",
       "      <th>MESSENDE</th>\n",
       "      <th>PROFILNAME</th>\n",
       "      <th>KOORDINATE</th>\n",
       "      <th>ANREGUNG</th>\n",
       "      <th>RECDAUER</th>\n",
       "      <th>SAMPLING</th>\n",
       "      <th>FOLD</th>\n",
       "      <th>EINSICHT</th>\n",
       "      <th>UP_DATE</th>\n",
       "      <th>geometry</th>\n",
       "    </tr>\n",
       "  </thead>\n",
       "  <tbody>\n",
       "    <tr>\n",
       "      <th>0</th>\n",
       "      <td>384444</td>\n",
       "      <td>384444</td>\n",
       "      <td>9</td>\n",
       "      <td>1</td>\n",
       "      <td>Five Countries Central Graben Survey, 1992</td>\n",
       "      <td>5CCG-92</td>\n",
       "      <td>0116422,X00219</td>\n",
       "      <td>HALI</td>\n",
       "      <td>Halliburton Geophysical Services</td>\n",
       "      <td></td>\n",
       "      <td>...</td>\n",
       "      <td>1992-04-30T00:00:00+01:00</td>\n",
       "      <td>5CCG-92-03E</td>\n",
       "      <td>Untergrundkoordinaten</td>\n",
       "      <td>Airgun</td>\n",
       "      <td>7</td>\n",
       "      <td>2</td>\n",
       "      <td>60</td>\n",
       "      <td>Keine Einsicht ohne Erlaubnis des Eigentümers</td>\n",
       "      <td>2020-01-20T11:35:59+01:00</td>\n",
       "      <td>LINESTRING (32222068.113 6179202.812, 32223143...</td>\n",
       "    </tr>\n",
       "    <tr>\n",
       "      <th>1</th>\n",
       "      <td>384445</td>\n",
       "      <td>384445</td>\n",
       "      <td>14</td>\n",
       "      <td>1</td>\n",
       "      <td>Five Countries Central Graben Survey, 1992</td>\n",
       "      <td>5CCG-92</td>\n",
       "      <td>0116422,X00219</td>\n",
       "      <td>HALI</td>\n",
       "      <td>Halliburton Geophysical Services</td>\n",
       "      <td></td>\n",
       "      <td>...</td>\n",
       "      <td>1992-04-30T00:00:00+01:00</td>\n",
       "      <td>5CCG-92-05A</td>\n",
       "      <td>Untergrundkoordinaten</td>\n",
       "      <td>Airgun</td>\n",
       "      <td>7</td>\n",
       "      <td>2</td>\n",
       "      <td>60</td>\n",
       "      <td>Keine Einsicht ohne Erlaubnis des Eigentümers</td>\n",
       "      <td>2020-01-20T11:35:59+01:00</td>\n",
       "      <td>LINESTRING (32198079.231 6186171.041, 32197619...</td>\n",
       "    </tr>\n",
       "    <tr>\n",
       "      <th>2</th>\n",
       "      <td>384446</td>\n",
       "      <td>384446</td>\n",
       "      <td>15</td>\n",
       "      <td>1</td>\n",
       "      <td>Five Countries Central Graben Survey, 1992</td>\n",
       "      <td>5CCG-92</td>\n",
       "      <td>0116422,X00219</td>\n",
       "      <td>HALI</td>\n",
       "      <td>Halliburton Geophysical Services</td>\n",
       "      <td></td>\n",
       "      <td>...</td>\n",
       "      <td>1992-04-30T00:00:00+01:00</td>\n",
       "      <td>5CCG-92-05B</td>\n",
       "      <td>Untergrundkoordinaten</td>\n",
       "      <td>Airgun</td>\n",
       "      <td>7</td>\n",
       "      <td>2</td>\n",
       "      <td>60</td>\n",
       "      <td>Keine Einsicht ohne Erlaubnis des Eigentümers</td>\n",
       "      <td>2020-01-20T11:35:59+01:00</td>\n",
       "      <td>LINESTRING (32242576.019 6095874.414, 32242352...</td>\n",
       "    </tr>\n",
       "    <tr>\n",
       "      <th>3</th>\n",
       "      <td>384447</td>\n",
       "      <td>384447</td>\n",
       "      <td>16</td>\n",
       "      <td>1</td>\n",
       "      <td>Five Countries Central Graben Survey, 1992</td>\n",
       "      <td>5CCG-92</td>\n",
       "      <td>0116422,X00219</td>\n",
       "      <td>HALI</td>\n",
       "      <td>Halliburton Geophysical Services</td>\n",
       "      <td></td>\n",
       "      <td>...</td>\n",
       "      <td>1992-04-30T00:00:00+01:00</td>\n",
       "      <td>5CCG-92-05C</td>\n",
       "      <td>Untergrundkoordinaten</td>\n",
       "      <td>Airgun</td>\n",
       "      <td>7</td>\n",
       "      <td>2</td>\n",
       "      <td>60</td>\n",
       "      <td>Keine Einsicht ohne Erlaubnis des Eigentümers</td>\n",
       "      <td>2020-01-20T11:35:59+01:00</td>\n",
       "      <td>LINESTRING (32231416.851 6121140.637, 32231099...</td>\n",
       "    </tr>\n",
       "    <tr>\n",
       "      <th>4</th>\n",
       "      <td>384448</td>\n",
       "      <td>384448</td>\n",
       "      <td>18</td>\n",
       "      <td>1</td>\n",
       "      <td>Five Countries Central Graben Survey, 1992</td>\n",
       "      <td>5CCG-92</td>\n",
       "      <td>0116422,X00219</td>\n",
       "      <td>HALI</td>\n",
       "      <td>Halliburton Geophysical Services</td>\n",
       "      <td></td>\n",
       "      <td>...</td>\n",
       "      <td>1992-04-30T00:00:00+01:00</td>\n",
       "      <td>5CCG-92-05E</td>\n",
       "      <td>Untergrundkoordinaten</td>\n",
       "      <td>Airgun</td>\n",
       "      <td>7</td>\n",
       "      <td>2</td>\n",
       "      <td>60</td>\n",
       "      <td>Keine Einsicht ohne Erlaubnis des Eigentümers</td>\n",
       "      <td>2020-01-20T11:35:59+01:00</td>\n",
       "      <td>LINESTRING (32185176.376 6205388.696, 32185331...</td>\n",
       "    </tr>\n",
       "  </tbody>\n",
       "</table>\n",
       "<p>5 rows × 22 columns</p>\n",
       "</div>"
      ],
      "text/plain": [
       "   gml_id  OBJECTID  ID  ID_SURVEY  \\\n",
       "0  384444    384444   9          1   \n",
       "1  384445    384445  14          1   \n",
       "2  384446    384446  15          1   \n",
       "3  384447    384447  16          1   \n",
       "4  384448    384448  18          1   \n",
       "\n",
       "                                   SURVEYNAME S_KURZNAME      LBEG_ARCHI  \\\n",
       "0  Five Countries Central Graben Survey, 1992    5CCG-92  0116422,X00219   \n",
       "1  Five Countries Central Graben Survey, 1992    5CCG-92  0116422,X00219   \n",
       "2  Five Countries Central Graben Survey, 1992    5CCG-92  0116422,X00219   \n",
       "3  Five Countries Central Graben Survey, 1992    5CCG-92  0116422,X00219   \n",
       "4  Five Countries Central Graben Survey, 1992    5CCG-92  0116422,X00219   \n",
       "\n",
       "  OPERATOR                           OP_LANG OP_NACHFOL  ...  \\\n",
       "0     HALI  Halliburton Geophysical Services             ...   \n",
       "1     HALI  Halliburton Geophysical Services             ...   \n",
       "2     HALI  Halliburton Geophysical Services             ...   \n",
       "3     HALI  Halliburton Geophysical Services             ...   \n",
       "4     HALI  Halliburton Geophysical Services             ...   \n",
       "\n",
       "                    MESSENDE   PROFILNAME             KOORDINATE ANREGUNG  \\\n",
       "0  1992-04-30T00:00:00+01:00  5CCG-92-03E  Untergrundkoordinaten   Airgun   \n",
       "1  1992-04-30T00:00:00+01:00  5CCG-92-05A  Untergrundkoordinaten   Airgun   \n",
       "2  1992-04-30T00:00:00+01:00  5CCG-92-05B  Untergrundkoordinaten   Airgun   \n",
       "3  1992-04-30T00:00:00+01:00  5CCG-92-05C  Untergrundkoordinaten   Airgun   \n",
       "4  1992-04-30T00:00:00+01:00  5CCG-92-05E  Untergrundkoordinaten   Airgun   \n",
       "\n",
       "  RECDAUER SAMPLING  FOLD                                       EINSICHT  \\\n",
       "0        7        2    60  Keine Einsicht ohne Erlaubnis des Eigentümers   \n",
       "1        7        2    60  Keine Einsicht ohne Erlaubnis des Eigentümers   \n",
       "2        7        2    60  Keine Einsicht ohne Erlaubnis des Eigentümers   \n",
       "3        7        2    60  Keine Einsicht ohne Erlaubnis des Eigentümers   \n",
       "4        7        2    60  Keine Einsicht ohne Erlaubnis des Eigentümers   \n",
       "\n",
       "                     UP_DATE  \\\n",
       "0  2020-01-20T11:35:59+01:00   \n",
       "1  2020-01-20T11:35:59+01:00   \n",
       "2  2020-01-20T11:35:59+01:00   \n",
       "3  2020-01-20T11:35:59+01:00   \n",
       "4  2020-01-20T11:35:59+01:00   \n",
       "\n",
       "                                            geometry  \n",
       "0  LINESTRING (32222068.113 6179202.812, 32223143...  \n",
       "1  LINESTRING (32198079.231 6186171.041, 32197619...  \n",
       "2  LINESTRING (32242576.019 6095874.414, 32242352...  \n",
       "3  LINESTRING (32231416.851 6121140.637, 32231099...  \n",
       "4  LINESTRING (32185176.376 6205388.696, 32185331...  \n",
       "\n",
       "[5 rows x 22 columns]"
      ]
     },
     "execution_count": 20,
     "metadata": {},
     "output_type": "execute_result"
    }
   ],
   "source": [
    "url = \"https://nibis.lbeg.de/net3/public/ogc.ashx?NodeId=474&Service=WFS&\"\n",
    "gdf2 = gg.wms.get_feature(url)\n",
    "gdf2.head()"
   ]
  },
  {
   "cell_type": "markdown",
   "metadata": {},
   "source": [
    "## Plotting Data\n",
    "\n",
    "The plot shows the distribution of 2D seismic surveys in Lower Saxony, Germany."
   ]
  },
  {
   "cell_type": "code",
   "execution_count": 21,
   "metadata": {
    "ExecuteTime": {
     "end_time": "2020-10-15T08:07:21.213478Z",
     "start_time": "2020-10-15T08:07:19.830734Z"
    }
   },
   "outputs": [
    {
     "data": {
      "image/png": "[encoded data removed]",
      "text/plain": [
       "<Figure size 748.8x514.8 with 1 Axes>"
      ]
     },
     "metadata": {},
     "output_type": "display_data"
    }
   ],
   "source": [
    "gdf2.plot()\n",
    "plt.grid()"
   ]
  },
  {
   "cell_type": "raw",
   "metadata": {
    "ExecuteTime": {
     "end_time": "2020-10-15T08:07:28.855625Z",
     "start_time": "2020-10-15T08:07:21.216472Z"
    }
   },
   "source": [
    "gdf2.to_file('2D_Seismik.shp')"
   ]
  },
  {
   "cell_type": "markdown",
   "metadata": {},
   "source": [
    "## Example 3 - Boreholes"
   ]
  },
  {
   "cell_type": "code",
   "execution_count": 23,
   "metadata": {
    "ExecuteTime": {
     "end_time": "2020-10-15T08:07:38.064922Z",
     "start_time": "2020-10-15T08:07:28.858613Z"
    }
   },
   "outputs": [
    {
     "data": {
      "text/html": [
       "<div>\n",
       "<style scoped>\n",
       "    .dataframe tbody tr th:only-of-type {\n",
       "        vertical-align: middle;\n",
       "    }\n",
       "\n",
       "    .dataframe tbody tr th {\n",
       "        vertical-align: top;\n",
       "    }\n",
       "\n",
       "    .dataframe thead th {\n",
       "        text-align: right;\n",
       "    }\n",
       "</style>\n",
       "<table border=\"1\" class=\"dataframe\">\n",
       "  <thead>\n",
       "    <tr style=\"text-align: right;\">\n",
       "      <th></th>\n",
       "      <th>gml_id</th>\n",
       "      <th>objectid</th>\n",
       "      <th>OST</th>\n",
       "      <th>NORD</th>\n",
       "      <th>IDENTIFIER</th>\n",
       "      <th>LOCHNAME</th>\n",
       "      <th>KURZNAME</th>\n",
       "      <th>ZUGANG</th>\n",
       "      <th>OPERATOR</th>\n",
       "      <th>FIRMA</th>\n",
       "      <th>...</th>\n",
       "      <th>G_ERGEBNIS</th>\n",
       "      <th>T_ERGEBNIS</th>\n",
       "      <th>L_STATUS</th>\n",
       "      <th>ATS_E_HORI</th>\n",
       "      <th>ATS_E_HO_L</th>\n",
       "      <th>GVM_NR</th>\n",
       "      <th>DDR_NAME</th>\n",
       "      <th>E_HORIZONT</th>\n",
       "      <th>E_HORIZO_L</th>\n",
       "      <th>geometry</th>\n",
       "    </tr>\n",
       "  </thead>\n",
       "  <tbody>\n",
       "    <tr>\n",
       "      <th>0</th>\n",
       "      <td>55</td>\n",
       "      <td>55</td>\n",
       "      <td>32368633.30</td>\n",
       "      <td>5920775.01</td>\n",
       "      <td>10747600191</td>\n",
       "      <td>Krummhörn K1</td>\n",
       "      <td>KHRN K1</td>\n",
       "      <td>Gesperrt</td>\n",
       "      <td>Ruhrgas AG, Essen</td>\n",
       "      <td>Uniper Energy Storage GmbH</td>\n",
       "      <td>...</td>\n",
       "      <td>None</td>\n",
       "      <td>None</td>\n",
       "      <td>None</td>\n",
       "      <td>None</td>\n",
       "      <td>None</td>\n",
       "      <td>None</td>\n",
       "      <td>None</td>\n",
       "      <td>None</td>\n",
       "      <td>None</td>\n",
       "      <td>POINT (32368633.300 5920775.010)</td>\n",
       "    </tr>\n",
       "    <tr>\n",
       "      <th>1</th>\n",
       "      <td>56</td>\n",
       "      <td>56</td>\n",
       "      <td>32368633.30</td>\n",
       "      <td>5920775.01</td>\n",
       "      <td>10747600192</td>\n",
       "      <td>Krummhörn K1a</td>\n",
       "      <td>KHRN K1</td>\n",
       "      <td>Gesperrt</td>\n",
       "      <td>Ruhrgas AG, Essen</td>\n",
       "      <td>Uniper Energy Storage GmbH</td>\n",
       "      <td>...</td>\n",
       "      <td>None</td>\n",
       "      <td>None</td>\n",
       "      <td>None</td>\n",
       "      <td>None</td>\n",
       "      <td>None</td>\n",
       "      <td>None</td>\n",
       "      <td>None</td>\n",
       "      <td>None</td>\n",
       "      <td>None</td>\n",
       "      <td>POINT (32368633.300 5920775.010)</td>\n",
       "    </tr>\n",
       "    <tr>\n",
       "      <th>2</th>\n",
       "      <td>57</td>\n",
       "      <td>57</td>\n",
       "      <td>32368572.34</td>\n",
       "      <td>5920800.59</td>\n",
       "      <td>10747600291</td>\n",
       "      <td>Krummhörn K2</td>\n",
       "      <td>KHRN K2</td>\n",
       "      <td>Gesperrt</td>\n",
       "      <td>Kavernen Bau- und Betriebs-GmbH</td>\n",
       "      <td>DEEP.KBB GmbH</td>\n",
       "      <td>...</td>\n",
       "      <td>None</td>\n",
       "      <td>None</td>\n",
       "      <td>None</td>\n",
       "      <td>None</td>\n",
       "      <td>None</td>\n",
       "      <td>None</td>\n",
       "      <td>None</td>\n",
       "      <td>None</td>\n",
       "      <td>None</td>\n",
       "      <td>POINT (32368572.340 5920800.590)</td>\n",
       "    </tr>\n",
       "    <tr>\n",
       "      <th>3</th>\n",
       "      <td>58</td>\n",
       "      <td>58</td>\n",
       "      <td>32368830.25</td>\n",
       "      <td>5920580.60</td>\n",
       "      <td>10747600491</td>\n",
       "      <td>Krummhörn K4</td>\n",
       "      <td>KHRN K4</td>\n",
       "      <td>Gesperrt</td>\n",
       "      <td>Kavernen Bau- und Betriebs-GmbH</td>\n",
       "      <td>DEEP.KBB GmbH</td>\n",
       "      <td>...</td>\n",
       "      <td>None</td>\n",
       "      <td>None</td>\n",
       "      <td>None</td>\n",
       "      <td>None</td>\n",
       "      <td>None</td>\n",
       "      <td>None</td>\n",
       "      <td>None</td>\n",
       "      <td>None</td>\n",
       "      <td>None</td>\n",
       "      <td>POINT (32368830.250 5920580.600)</td>\n",
       "    </tr>\n",
       "    <tr>\n",
       "      <th>4</th>\n",
       "      <td>59</td>\n",
       "      <td>59</td>\n",
       "      <td>32368891.41</td>\n",
       "      <td>5920916.25</td>\n",
       "      <td>10747600591</td>\n",
       "      <td>Krummhörn K5</td>\n",
       "      <td>KHRN K5</td>\n",
       "      <td>Gesperrt</td>\n",
       "      <td>Kavernen Bau- und Betriebs-GmbH</td>\n",
       "      <td>DEEP.KBB GmbH</td>\n",
       "      <td>...</td>\n",
       "      <td>None</td>\n",
       "      <td>None</td>\n",
       "      <td>None</td>\n",
       "      <td>None</td>\n",
       "      <td>None</td>\n",
       "      <td>None</td>\n",
       "      <td>None</td>\n",
       "      <td>None</td>\n",
       "      <td>None</td>\n",
       "      <td>POINT (32368891.410 5920916.250)</td>\n",
       "    </tr>\n",
       "  </tbody>\n",
       "</table>\n",
       "<p>5 rows × 43 columns</p>\n",
       "</div>"
      ],
      "text/plain": [
       "  gml_id  objectid         OST       NORD   IDENTIFIER       LOCHNAME  \\\n",
       "0     55        55 32368633.30 5920775.01  10747600191   Krummhörn K1   \n",
       "1     56        56 32368633.30 5920775.01  10747600192  Krummhörn K1a   \n",
       "2     57        57 32368572.34 5920800.59  10747600291   Krummhörn K2   \n",
       "3     58        58 32368830.25 5920580.60  10747600491   Krummhörn K4   \n",
       "4     59        59 32368891.41 5920916.25  10747600591   Krummhörn K5   \n",
       "\n",
       "  KURZNAME    ZUGANG                         OPERATOR  \\\n",
       "0  KHRN K1  Gesperrt                Ruhrgas AG, Essen   \n",
       "1  KHRN K1  Gesperrt                Ruhrgas AG, Essen   \n",
       "2  KHRN K2  Gesperrt  Kavernen Bau- und Betriebs-GmbH   \n",
       "3  KHRN K4  Gesperrt  Kavernen Bau- und Betriebs-GmbH   \n",
       "4  KHRN K5  Gesperrt  Kavernen Bau- und Betriebs-GmbH   \n",
       "\n",
       "                        FIRMA  ... G_ERGEBNIS  T_ERGEBNIS L_STATUS ATS_E_HORI  \\\n",
       "0  Uniper Energy Storage GmbH  ...       None        None     None       None   \n",
       "1  Uniper Energy Storage GmbH  ...       None        None     None       None   \n",
       "2               DEEP.KBB GmbH  ...       None        None     None       None   \n",
       "3               DEEP.KBB GmbH  ...       None        None     None       None   \n",
       "4               DEEP.KBB GmbH  ...       None        None     None       None   \n",
       "\n",
       "   ATS_E_HO_L  GVM_NR  DDR_NAME  E_HORIZONT  E_HORIZO_L  \\\n",
       "0        None    None      None        None        None   \n",
       "1        None    None      None        None        None   \n",
       "2        None    None      None        None        None   \n",
       "3        None    None      None        None        None   \n",
       "4        None    None      None        None        None   \n",
       "\n",
       "                           geometry  \n",
       "0  POINT (32368633.300 5920775.010)  \n",
       "1  POINT (32368633.300 5920775.010)  \n",
       "2  POINT (32368572.340 5920800.590)  \n",
       "3  POINT (32368830.250 5920580.600)  \n",
       "4  POINT (32368891.410 5920916.250)  \n",
       "\n",
       "[5 rows x 43 columns]"
      ]
     },
     "execution_count": 23,
     "metadata": {},
     "output_type": "execute_result"
    }
   ],
   "source": [
    "url = \"https://nibis.lbeg.de/net3/public/ogc.ashx?NodeId=470&Service=WFS&\"\n",
    "gdf3 = gg.wms.get_feature(url)\n",
    "gdf3.head()"
   ]
  },
  {
   "cell_type": "markdown",
   "metadata": {},
   "source": [
    "## Plotting Data\n",
    "\n",
    "The plot shows the distribution of boreholes in Lower Saxony, Germany."
   ]
  },
  {
   "cell_type": "code",
   "execution_count": 24,
   "metadata": {
    "ExecuteTime": {
     "end_time": "2020-10-15T08:07:39.076687Z",
     "start_time": "2020-10-15T08:07:38.065909Z"
    }
   },
   "outputs": [
    {
     "data": {
      "image/png": "[encoded data removed]",
      "text/plain": [
       "<Figure size 748.8x514.8 with 1 Axes>"
      ]
     },
     "metadata": {},
     "output_type": "display_data"
    }
   ],
   "source": [
    "gdf3.plot()\n",
    "plt.grid()"
   ]
  },
  {
   "cell_type": "raw",
   "metadata": {},
   "source": [
    "gdf3.to_file('Boreholes.shp')"
   ]
  },
  {
   "cell_type": "markdown",
   "metadata": {},
   "source": [
    "## Example 4 - Different Geometry Types"
   ]
  },
  {
   "cell_type": "code",
   "execution_count": 26,
   "metadata": {
    "ExecuteTime": {
     "end_time": "2020-10-15T08:07:40.500595Z",
     "start_time": "2020-10-15T08:07:39.078459Z"
    }
   },
   "outputs": [
    {
     "data": {
      "text/html": [
       "<div>\n",
       "<style scoped>\n",
       "    .dataframe tbody tr th:only-of-type {\n",
       "        vertical-align: middle;\n",
       "    }\n",
       "\n",
       "    .dataframe tbody tr th {\n",
       "        vertical-align: top;\n",
       "    }\n",
       "\n",
       "    .dataframe thead th {\n",
       "        text-align: right;\n",
       "    }\n",
       "</style>\n",
       "<table border=\"1\" class=\"dataframe\">\n",
       "  <thead>\n",
       "    <tr style=\"text-align: right;\">\n",
       "      <th></th>\n",
       "      <th>gml_id</th>\n",
       "      <th>OBJECTID</th>\n",
       "      <th>ID</th>\n",
       "      <th>SURVEYNAME</th>\n",
       "      <th>ARCHIV</th>\n",
       "      <th>MESSJAHR</th>\n",
       "      <th>OPERATOR</th>\n",
       "      <th>OP_NACHFOL</th>\n",
       "      <th>MESSFIRMA</th>\n",
       "      <th>MESSPUNKTE</th>\n",
       "      <th>UP_DATE</th>\n",
       "      <th>geometry</th>\n",
       "    </tr>\n",
       "  </thead>\n",
       "  <tbody>\n",
       "    <tr>\n",
       "      <th>0</th>\n",
       "      <td>1541</td>\n",
       "      <td>1541</td>\n",
       "      <td>112</td>\n",
       "      <td>Jemgum 2007</td>\n",
       "      <td>0127494</td>\n",
       "      <td>2007</td>\n",
       "      <td>GdF Produktion Exploration Deutschland GmbH</td>\n",
       "      <td>Neptune Energy Deutschland GmbH</td>\n",
       "      <td>Geophysik und Geotechnik Leipzig GmbH</td>\n",
       "      <td>1340</td>\n",
       "      <td>2020-01-20T00:00:00+01:00</td>\n",
       "      <td>MULTIPOLYGON (((32395246.839 5907777.660, 3239...</td>\n",
       "    </tr>\n",
       "    <tr>\n",
       "      <th>1</th>\n",
       "      <td>1542</td>\n",
       "      <td>1542</td>\n",
       "      <td>111</td>\n",
       "      <td>Sagermeer 2005</td>\n",
       "      <td>0125831</td>\n",
       "      <td>2005</td>\n",
       "      <td>ExxonMobil Production Deutschland GmbH</td>\n",
       "      <td>ExxonMobil Production Deutschland GmbH</td>\n",
       "      <td>Comp. Generale Geophysique</td>\n",
       "      <td>2803</td>\n",
       "      <td>2020-01-20T00:00:00+01:00</td>\n",
       "      <td>MULTIPOLYGON (((32446717.522 5856710.088, 3244...</td>\n",
       "    </tr>\n",
       "    <tr>\n",
       "      <th>2</th>\n",
       "      <td>1543</td>\n",
       "      <td>1543</td>\n",
       "      <td>120</td>\n",
       "      <td>Hümmling 2013</td>\n",
       "      <td>0131520</td>\n",
       "      <td>2013</td>\n",
       "      <td>GDF SUEZ E&amp;P DEUTSCHLAND GMBH</td>\n",
       "      <td>Neptune Energy Deutschland GmbH</td>\n",
       "      <td>Deutsche Montan Technologie GmbH</td>\n",
       "      <td>342</td>\n",
       "      <td>2020-01-20T00:00:00+01:00</td>\n",
       "      <td>MULTIPOLYGON (((32416592.825 5852885.544, 3241...</td>\n",
       "    </tr>\n",
       "    <tr>\n",
       "      <th>3</th>\n",
       "      <td>1544</td>\n",
       "      <td>1544</td>\n",
       "      <td>49</td>\n",
       "      <td>Rotenburg/Wümme (1984)</td>\n",
       "      <td>0112162</td>\n",
       "      <td>1984</td>\n",
       "      <td>Deutsche Texaco AG Aufschluss und Gew.</td>\n",
       "      <td>Wintershall Dea Deutschland AG</td>\n",
       "      <td>Prakla Seismos</td>\n",
       "      <td>2184</td>\n",
       "      <td>2020-01-20T00:00:00+01:00</td>\n",
       "      <td>POLYGON ((32545955.921 5896473.525, 32544536.2...</td>\n",
       "    </tr>\n",
       "    <tr>\n",
       "      <th>4</th>\n",
       "      <td>1545</td>\n",
       "      <td>1545</td>\n",
       "      <td>102</td>\n",
       "      <td>Odisheim 1989/90</td>\n",
       "      <td>0112092</td>\n",
       "      <td>1989</td>\n",
       "      <td>BEB Erdgas und Erdöl GmbH</td>\n",
       "      <td>BEB Erdgas und Erdöl GmbH &amp; Co. KG</td>\n",
       "      <td>Prakla Seismos</td>\n",
       "      <td>2824</td>\n",
       "      <td>2020-01-20T00:00:00+01:00</td>\n",
       "      <td>POLYGON ((32504255.640 5967591.298, 32503387.8...</td>\n",
       "    </tr>\n",
       "  </tbody>\n",
       "</table>\n",
       "</div>"
      ],
      "text/plain": [
       "  gml_id  OBJECTID   ID              SURVEYNAME   ARCHIV  MESSJAHR  \\\n",
       "0   1541      1541  112             Jemgum 2007  0127494      2007   \n",
       "1   1542      1542  111          Sagermeer 2005  0125831      2005   \n",
       "2   1543      1543  120           Hümmling 2013  0131520      2013   \n",
       "3   1544      1544   49  Rotenburg/Wümme (1984)  0112162      1984   \n",
       "4   1545      1545  102        Odisheim 1989/90  0112092      1989   \n",
       "\n",
       "                                      OPERATOR  \\\n",
       "0  GdF Produktion Exploration Deutschland GmbH   \n",
       "1       ExxonMobil Production Deutschland GmbH   \n",
       "2                GDF SUEZ E&P DEUTSCHLAND GMBH   \n",
       "3       Deutsche Texaco AG Aufschluss und Gew.   \n",
       "4                    BEB Erdgas und Erdöl GmbH   \n",
       "\n",
       "                               OP_NACHFOL  \\\n",
       "0         Neptune Energy Deutschland GmbH   \n",
       "1  ExxonMobil Production Deutschland GmbH   \n",
       "2         Neptune Energy Deutschland GmbH   \n",
       "3          Wintershall Dea Deutschland AG   \n",
       "4      BEB Erdgas und Erdöl GmbH & Co. KG   \n",
       "\n",
       "                               MESSFIRMA  MESSPUNKTE  \\\n",
       "0  Geophysik und Geotechnik Leipzig GmbH        1340   \n",
       "1             Comp. Generale Geophysique        2803   \n",
       "2       Deutsche Montan Technologie GmbH         342   \n",
       "3                         Prakla Seismos        2184   \n",
       "4                         Prakla Seismos        2824   \n",
       "\n",
       "                     UP_DATE  \\\n",
       "0  2020-01-20T00:00:00+01:00   \n",
       "1  2020-01-20T00:00:00+01:00   \n",
       "2  2020-01-20T00:00:00+01:00   \n",
       "3  2020-01-20T00:00:00+01:00   \n",
       "4  2020-01-20T00:00:00+01:00   \n",
       "\n",
       "                                            geometry  \n",
       "0  MULTIPOLYGON (((32395246.839 5907777.660, 3239...  \n",
       "1  MULTIPOLYGON (((32446717.522 5856710.088, 3244...  \n",
       "2  MULTIPOLYGON (((32416592.825 5852885.544, 3241...  \n",
       "3  POLYGON ((32545955.921 5896473.525, 32544536.2...  \n",
       "4  POLYGON ((32504255.640 5967591.298, 32503387.8...  "
      ]
     },
     "execution_count": 26,
     "metadata": {},
     "output_type": "execute_result"
    }
   ],
   "source": [
    "url = \"https://nibis.lbeg.de/net3/public/ogc.ashx?NodeId=476&Service=WFS&\"\n",
    "gdf4 = gg.wms.get_feature(url)\n",
    "gdf4.head()"
   ]
  },
  {
   "cell_type": "markdown",
   "metadata": {},
   "source": [
    "## Plotting Data\n",
    "\n",
    "The plot shows the distribution of a gdf containing multiple geometry types."
   ]
  },
  {
   "cell_type": "code",
   "execution_count": 27,
   "metadata": {
    "ExecuteTime": {
     "end_time": "2020-10-15T08:07:40.925819Z",
     "start_time": "2020-10-15T08:07:40.501581Z"
    }
   },
   "outputs": [
    {
     "data": {
      "image/png": "[encoded data removed]",
      "text/plain": [
       "<Figure size 748.8x514.8 with 1 Axes>"
      ]
     },
     "metadata": {},
     "output_type": "display_data"
    }
   ],
   "source": [
    "gdf4.plot()\n",
    "plt.grid()"
   ]
  },
  {
   "cell_type": "code",
   "execution_count": null,
   "metadata": {},
   "outputs": [],
   "source": []
  }
 ],
 "metadata": {
  "hide_input": false,
  "kernelspec": {
   "display_name": "Python 3",
   "language": "python",
   "name": "python3"
  },
  "language_info": {
   "codemirror_mode": {
    "name": "ipython",
    "version": 3
   },
   "file_extension": ".py",
   "mimetype": "text/x-python",
   "name": "python",
   "nbconvert_exporter": "python",
   "pygments_lexer": "ipython3",
   "version": "3.8.5"
  },
  "toc": {
   "base_numbering": 1,
   "nav_menu": {},
   "number_sections": true,
   "sideBar": true,
   "skip_h1_title": false,
   "title_cell": "Table of Contents",
   "title_sidebar": "Contents",
   "toc_cell": false,
   "toc_position": {},
   "toc_section_display": true,
   "toc_window_display": false
  },
  "varInspector": {
   "cols": {
    "lenName": 16,
    "lenType": 16,
    "lenVar": 40
   },
   "kernels_config": {
    "python": {
     "delete_cmd_postfix": "",
     "delete_cmd_prefix": "del ",
     "library": "var_list.py",
     "varRefreshCmd": "print(var_dic_list())"
    },
    "r": {
     "delete_cmd_postfix": ") ",
     "delete_cmd_prefix": "rm(",
     "library": "var_list.r",
     "varRefreshCmd": "cat(var_dic_list()) "
    }
   },
   "types_to_exclude": [
    "module",
    "function",
    "builtin_function_or_method",
    "instance",
    "_Feature"
   ],
   "window_display": false
  }
 },
 "nbformat": 4,
 "nbformat_minor": 4
}
