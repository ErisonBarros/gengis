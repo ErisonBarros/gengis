{
 "cells": [
  {
   "cell_type": "markdown",
   "metadata": {},
   "source": [
    "# Notebook 7 - Request WCS Elevation Data from Geobasis NRW - Muenster Basin\n",
    "\n",
    "[GemGIS](https://github.com/cgre-aachen/gemgis) is a package for geographic information processing for geomodeling. In particular, data is prepared for direct use in [GemPy](https://github.com/cgre-aachen/gempy) via a GemPy Data Class. The package provides functions to process spatial data such as vector data (shape files, geojson files, geopackages), raster data (tiff-files), data retrieved from online services (WMS, WCS, WFS) or KML/XML files. \n",
    "\n",
    "At a later stage, functionality will be added to interactively add interfaces and orientations for a model, chosing the extent, defining custom sections and more. In addition, functionality will be provided to export data from GemPy into Geoinformation Systems (=GIS) such as QGIS or ArcGIS and Google Earth. \n",
    "\n",
    "# Overview\n",
    "\n",
    "This notebook presents methods to **automatically download tif-tiles of a 1 m Digital Elevation Model (DEM)** for the State of Northrhine Westfalia, Germany, in particular from the Muenster Basin. Alternatively, the single tiles can be downloaded at https://www.tim-online.nrw.de/tim-online2/ or at https://www.opengeodata.nrw.de/produkte/geobasis/hm/dgm1_xyz/ as single tiles or XYZ files for single communes. In addition, functionality is provided to **merge the tiles to a mosaic and to reduce the resolution of the output raster**. Standard `GemGIS` raster methods can be used to save the raster to disk. \n",
    "\n",
    "- [What is a Web Coverage Service?](#WCS)\n",
    "- [Downloading and Installing GemGIS](#gemgis)\n",
    "- [Structure of GemGIS](#structure)\n",
    "- [Importing Libraries](#import)\n",
    "- [Version Reports](#vreport)\n",
    "\n",
    "<a id='WCS'></a>\n",
    "## What is a Web Coverage Service (WCS)?\n",
    "\n",
    "The Web Coverage Service (WCS) is a standard issued by the Open Geospatial Consortium (OGC). It is designed to simplify remote access to coverages, commonly known as raster maps in GIS. WCS functions over the HTTP protocol, setting out how to obtain data and meta-data using the requests available in that protocol. In practice it allows raster maps to be obtained from a web browser or from any other programme that uses the protocol.\n",
    "\n",
    "Source: https://www.isric.org/web-coverage-services-wcs\n",
    "\n",
    "\n",
    "<a id='gemgis'></a>\n",
    "## Downloading and installing GemGIS\n",
    "\n",
    "`GemGIS` is under constant development and the latest available version can be downloaded at https://github.com/cgre-aachen/gemgis. A pip version can be found at https://pypi.org/project/gemgis/. A dedicated documentation page will follow.\n",
    "\n",
    "<a id='structure'></a>\n",
    "## Structure of GemGIS\n",
    "\n",
    "The core of `GemGIS` is made of the `GemPyData` class (`gemgis.py`). Its attributes can directly be utilized by `GemPy` making it easier for users to load data. Methods of the `GemPyData` class allow users to directly set these attributes. Multiple other files contain functions to manipulate vector data, raster data, etc.:\n",
    "\n",
    "* `gemgis.py` - core file containing the `GemPyData` class\n",
    "* `vector.py` - file containing functions to manipulate vector data\n",
    "* `raster.py` - file containing functions to manipulate raster data\n",
    "* `utils.py` - file containing utility functions frequently used for the manipulation of vector/raster data\n",
    "* `wms.py` - file containing methods to load online services as vector and raster data\n",
    "* `visualization.py` - file containing functions to simplify plotting of spatial data\n",
    "* `postprocessing.py` - file containing functions to postprocess GemPy geo_model data\n",
    "\n",
    "\n",
    "If you have any problems using GemGIS, find a bug or have an idea for a new feature, open an issue at https://github.com/cgre-aachen/gemgis/issues. "
   ]
  },
  {
   "cell_type": "markdown",
   "metadata": {
    "ExecuteTime": {
     "end_time": "2020-07-18T14:02:13.026524Z",
     "start_time": "2020-07-18T14:02:13.022525Z"
    }
   },
   "source": [
    "<a id='import'></a>\n",
    "# Importing Libraries\n",
    "\n",
    "Apart from creating a GemPyData class later in the tutorial, GemGIS is working with pure GeoDataFrames, Rasterio files and NumPy arrays to provide the user with easy data handling. ***Currently, geopandas version 0.8 is the latest stable version that is supported by GemGIS***. A general introduction to working with rasters and Rasterio objects in GemGIS is provided in the next notebook.\n",
    "\n",
    "The first step is loading `GemGIS` and the auxiliary libraries `geopandas` and `rasterio` apart from `NumPy` and `Matplotlib`. `GemGIS` will also load `GemPy` the background. If the installation of `GemPy`was not successful, `GemGIS` cannot be used. "
   ]
  },
  {
   "cell_type": "code",
   "execution_count": null,
   "metadata": {
    "ExecuteTime": {
     "start_time": "2020-10-12T20:58:25.754Z"
    }
   },
   "outputs": [],
   "source": [
    "import sys\n",
    "import os\n",
    "sys.path.append('../../../gemgis')\n",
    "import gemgis as gg\n",
    "import geopandas as gpd\n",
    "import rasterio\n",
    "import numpy as np\n",
    "import matplotlib.pyplot as plt\n",
    "from tqdm import tqdm\n",
    "print(gg)"
   ]
  },
  {
   "cell_type": "markdown",
   "metadata": {},
   "source": [
    "<a id='vreport'></a>\n",
    "# Version Reports\n",
    "Reporting your Python environment's package versions and hardware resources by Scooby - https://github.com/banesullivan/scooby. This overview shows the packages and their versions used to run this notebook. Upgrading or downgrading to older or newer versions may break the notebook."
   ]
  },
  {
   "cell_type": "code",
   "execution_count": null,
   "metadata": {
    "ExecuteTime": {
     "start_time": "2020-10-12T20:58:25.763Z"
    }
   },
   "outputs": [],
   "source": [
    "gg.Report()"
   ]
  },
  {
   "cell_type": "markdown",
   "metadata": {},
   "source": [
    "# Request Elevation Data from a WCS Server for the Aachen Area\n",
    "\n",
    "As a WMS Server only provides image data as shown in [Tutorial 3](https://github.com/cgre-aachen/gemgis/blob/master/notebooks/03_GemGIS_Working_with_WMS_Services.ipynb), data must be downloaded from a Web Coverage Service (WCS). For this notebook, we will demonstrate how to download sample files for the Aachen Area to illustrate the functionality. "
   ]
  },
  {
   "cell_type": "markdown",
   "metadata": {},
   "source": [
    "## Loading WMS Service for Background Imagery\n",
    "\n",
    "The WMS Service used in Tutorial 3 will also be used here for Background Imagery. "
   ]
  },
  {
   "cell_type": "markdown",
   "metadata": {},
   "source": [
    "### Load WMS Layer and Map"
   ]
  },
  {
   "cell_type": "code",
   "execution_count": null,
   "metadata": {
    "ExecuteTime": {
     "start_time": "2020-10-12T20:58:25.768Z"
    }
   },
   "outputs": [],
   "source": [
    "wms = gg.wms.load('https://services.bgr.de/wms/geologie/gbl/?')"
   ]
  },
  {
   "cell_type": "code",
   "execution_count": null,
   "metadata": {
    "ExecuteTime": {
     "start_time": "2020-10-12T20:58:25.772Z"
    }
   },
   "outputs": [],
   "source": [
    "wms.identification.type"
   ]
  },
  {
   "cell_type": "code",
   "execution_count": null,
   "metadata": {
    "ExecuteTime": {
     "start_time": "2020-10-12T20:58:25.776Z"
    }
   },
   "outputs": [],
   "source": [
    "wms.identification.version"
   ]
  },
  {
   "cell_type": "code",
   "execution_count": null,
   "metadata": {
    "ExecuteTime": {
     "start_time": "2020-10-12T20:58:25.780Z"
    }
   },
   "outputs": [],
   "source": [
    "wms.identification.title"
   ]
  },
  {
   "cell_type": "code",
   "execution_count": null,
   "metadata": {
    "ExecuteTime": {
     "start_time": "2020-10-12T20:58:25.784Z"
    }
   },
   "outputs": [],
   "source": [
    "wms.identification.abstract"
   ]
  },
  {
   "cell_type": "code",
   "execution_count": null,
   "metadata": {
    "ExecuteTime": {
     "start_time": "2020-10-12T20:58:25.788Z"
    }
   },
   "outputs": [],
   "source": [
    "list(wms.contents)"
   ]
  },
  {
   "cell_type": "code",
   "execution_count": null,
   "metadata": {
    "ExecuteTime": {
     "start_time": "2020-10-12T20:58:25.791Z"
    }
   },
   "outputs": [],
   "source": [
    "wms['0'].title"
   ]
  },
  {
   "cell_type": "code",
   "execution_count": null,
   "metadata": {
    "ExecuteTime": {
     "start_time": "2020-10-12T20:58:25.796Z"
    }
   },
   "outputs": [],
   "source": [
    "wms['1'].title"
   ]
  },
  {
   "cell_type": "code",
   "execution_count": null,
   "metadata": {
    "ExecuteTime": {
     "start_time": "2020-10-12T20:58:25.802Z"
    }
   },
   "outputs": [],
   "source": [
    "wms['2'].title"
   ]
  },
  {
   "cell_type": "code",
   "execution_count": null,
   "metadata": {
    "ExecuteTime": {
     "start_time": "2020-10-12T20:58:25.806Z"
    }
   },
   "outputs": [],
   "source": [
    "wms['3'].title"
   ]
  },
  {
   "cell_type": "code",
   "execution_count": null,
   "metadata": {
    "ExecuteTime": {
     "start_time": "2020-10-12T20:58:25.810Z"
    }
   },
   "outputs": [],
   "source": [
    "wms['3'].crsOptions"
   ]
  },
  {
   "cell_type": "code",
   "execution_count": null,
   "metadata": {
    "ExecuteTime": {
     "start_time": "2020-10-12T20:58:25.814Z"
    }
   },
   "outputs": [],
   "source": [
    "wms['3'].styles"
   ]
  },
  {
   "cell_type": "code",
   "execution_count": null,
   "metadata": {},
   "outputs": [],
   "source": []
  },
  {
   "cell_type": "code",
   "execution_count": null,
   "metadata": {},
   "outputs": [],
   "source": []
  },
  {
   "cell_type": "code",
   "execution_count": null,
   "metadata": {
    "ExecuteTime": {
     "start_time": "2020-10-12T20:58:25.825Z"
    }
   },
   "outputs": [],
   "source": [
    "wms['4'].title"
   ]
  },
  {
   "cell_type": "code",
   "execution_count": null,
   "metadata": {
    "ExecuteTime": {
     "start_time": "2020-10-12T20:58:25.830Z"
    }
   },
   "outputs": [],
   "source": [
    "wms_map0 = gg.wms.load_as_array('https://services.bgr.de/wms/geologie/gbl/?',\n",
    "                             '0', 'default', 'EPSG:25832', [300000, 550000,5650000,5850000], [3000, 2000], 'image/png')"
   ]
  },
  {
   "cell_type": "code",
   "execution_count": null,
   "metadata": {
    "ExecuteTime": {
     "start_time": "2020-10-12T20:58:25.835Z"
    }
   },
   "outputs": [],
   "source": [
    "wms_map0[:,:,3]"
   ]
  },
  {
   "cell_type": "code",
   "execution_count": null,
   "metadata": {
    "ExecuteTime": {
     "start_time": "2020-10-12T20:58:25.839Z"
    }
   },
   "outputs": [],
   "source": [
    "plt.figure(figsize = (12,12))\n",
    "img = plt.imshow(wms_map0[:,:,0], extent= [300000, 550000,5650000,5850000])\n",
    "plt.colorbar(img)\n",
    "plt.grid()\n",
    "plt.ylabel('Y [m]')\n",
    "plt.xlabel('X [m]')\n",
    "plt.text(405000,5758000, 'Münster', size = 18)"
   ]
  },
  {
   "cell_type": "code",
   "execution_count": null,
   "metadata": {
    "ExecuteTime": {
     "start_time": "2020-10-12T20:58:25.843Z"
    }
   },
   "outputs": [],
   "source": [
    "wms_map1 = gg.wms.load_as_array('https://services.bgr.de/wms/geologie/gbl/?',\n",
    "                             '1', 'default', 'EPSG:25832', [300000, 550000,5650000,5850000], [3000, 2000], 'image/png')"
   ]
  },
  {
   "cell_type": "code",
   "execution_count": null,
   "metadata": {
    "ExecuteTime": {
     "start_time": "2020-10-12T20:58:25.847Z"
    }
   },
   "outputs": [],
   "source": [
    "wms_map1.shape"
   ]
  },
  {
   "cell_type": "code",
   "execution_count": null,
   "metadata": {
    "ExecuteTime": {
     "start_time": "2020-10-12T20:58:25.850Z"
    }
   },
   "outputs": [],
   "source": [
    "plt.figure(figsize = (12,12))\n",
    "img = plt.imshow(wms_map1[:,:,0], extent= [300000, 550000,5650000,5850000])\n",
    "plt.colorbar(img)\n",
    "plt.grid()\n",
    "plt.ylabel('Y [m]')\n",
    "plt.xlabel('X [m]')\n",
    "plt.text(405000,5758000, 'Münster', size = 18)"
   ]
  },
  {
   "cell_type": "code",
   "execution_count": null,
   "metadata": {
    "ExecuteTime": {
     "start_time": "2020-10-12T20:58:25.853Z"
    }
   },
   "outputs": [],
   "source": [
    "wms_map2 = gg.wms.load_as_array('https://services.bgr.de/wms/geologie/gbl/?',\n",
    "                             '2', 'default', 'EPSG:25832', [300000, 550000,5650000,5850000], [3000, 2000], 'image/png')"
   ]
  },
  {
   "cell_type": "code",
   "execution_count": null,
   "metadata": {
    "ExecuteTime": {
     "start_time": "2020-10-12T20:58:25.857Z"
    }
   },
   "outputs": [],
   "source": [
    "wms_map2[:,:,3]"
   ]
  },
  {
   "cell_type": "code",
   "execution_count": null,
   "metadata": {
    "ExecuteTime": {
     "start_time": "2020-10-12T20:58:25.860Z"
    }
   },
   "outputs": [],
   "source": [
    "wms_map4 = gg.wms.load_as_array('https://services.bgr.de/wms/geologie/gbl/?',\n",
    "                             '4', 'default', 'EPSG:25832', [300000, 550000,5650000,5850000], [3000, 2000], 'image/png')"
   ]
  },
  {
   "cell_type": "code",
   "execution_count": null,
   "metadata": {
    "ExecuteTime": {
     "start_time": "2020-10-12T20:58:25.866Z"
    }
   },
   "outputs": [],
   "source": [
    "wms_map4[:,:,3]"
   ]
  },
  {
   "cell_type": "code",
   "execution_count": null,
   "metadata": {
    "ExecuteTime": {
     "start_time": "2020-10-12T20:58:25.870Z"
    }
   },
   "outputs": [],
   "source": [
    "wms.getOperationByName('GetMap').formatOptions"
   ]
  },
  {
   "cell_type": "code",
   "execution_count": null,
   "metadata": {
    "ExecuteTime": {
     "start_time": "2020-10-12T20:58:25.873Z"
    }
   },
   "outputs": [],
   "source": [
    "wms_map3 = gg.wms.load_as_array('https://services.bgr.de/wms/geologie/gbl/?',\n",
    "                             '3', 'default', 'EPSG:25832', [300000, 550000,5650000,5850000], [3000, 2000], 'image/png')"
   ]
  },
  {
   "cell_type": "code",
   "execution_count": null,
   "metadata": {
    "ExecuteTime": {
     "start_time": "2020-10-12T20:58:25.877Z"
    }
   },
   "outputs": [],
   "source": [
    "wms_map3"
   ]
  },
  {
   "cell_type": "markdown",
   "metadata": {},
   "source": [
    "### Plot WMS Data"
   ]
  },
  {
   "cell_type": "code",
   "execution_count": null,
   "metadata": {
    "ExecuteTime": {
     "start_time": "2020-10-12T20:58:25.882Z"
    }
   },
   "outputs": [],
   "source": [
    "plt.figure(figsize = (12,12))\n",
    "img = plt.imshow(wms_map3, extent= [300000, 550000,5650000,5850000])\n",
    "plt.colorbar(img)\n",
    "plt.grid()\n",
    "plt.ylabel('Y [m]')\n",
    "plt.xlabel('X [m]')\n",
    "plt.text(405000,5758000, 'Münster', size = 18)"
   ]
  },
  {
   "cell_type": "code",
   "execution_count": null,
   "metadata": {
    "ExecuteTime": {
     "start_time": "2020-10-12T20:58:25.886Z"
    }
   },
   "outputs": [],
   "source": [
    "[op.name for op in wms.operations]"
   ]
  },
  {
   "cell_type": "code",
   "execution_count": null,
   "metadata": {
    "ExecuteTime": {
     "start_time": "2020-10-12T20:58:25.890Z"
    }
   },
   "outputs": [],
   "source": [
    "wms.getOperationByName('GetFeatureInfo').methods"
   ]
  },
  {
   "cell_type": "code",
   "execution_count": null,
   "metadata": {
    "ExecuteTime": {
     "start_time": "2020-10-12T20:58:25.894Z"
    }
   },
   "outputs": [],
   "source": [
    "wms.getOperationByName('GetFeatureInfo').formatOptions"
   ]
  },
  {
   "cell_type": "code",
   "execution_count": null,
   "metadata": {
    "ExecuteTime": {
     "start_time": "2020-10-12T20:58:25.899Z"
    }
   },
   "outputs": [],
   "source": [
    "wms.getOperationByName('GetFeatureInfo')"
   ]
  },
  {
   "cell_type": "code",
   "execution_count": null,
   "metadata": {
    "ExecuteTime": {
     "start_time": "2020-10-12T20:58:25.922Z"
    }
   },
   "outputs": [],
   "source": [
    "for i in range(10):\n",
    "    for j in range(10):\n",
    "        wms_feature = wms.getfeatureinfo(layers=['0'],  \n",
    "                       srs='EPSG:25832', \n",
    "                       bbox=(300000, 550000,5650000,5850000), \n",
    "                       size=(10,10), \n",
    "                       #format='image/png',\n",
    "                       #query_layers=['1'],\n",
    "                       info_format='application/geojson',\n",
    "                       #PixelValue for xy\n",
    "                       xy=(i,j))\n",
    "        data = json.loads(wms_feature.read())\n",
    "        print(data)"
   ]
  },
  {
   "cell_type": "code",
   "execution_count": null,
   "metadata": {
    "ExecuteTime": {
     "start_time": "2020-10-12T20:58:25.927Z"
    }
   },
   "outputs": [],
   "source": [
    "import pandas as pd\n",
    "pd.DataFrame.from_dict(data)"
   ]
  },
  {
   "cell_type": "code",
   "execution_count": null,
   "metadata": {
    "ExecuteTime": {
     "start_time": "2020-10-12T20:58:25.930Z"
    }
   },
   "outputs": [],
   "source": [
    "out = open('../../../getfeatureinfo-response.xml', 'wb')\n",
    "out.write(wms_feature.read())\n",
    "out.close()"
   ]
  },
  {
   "cell_type": "code",
   "execution_count": null,
   "metadata": {
    "ExecuteTime": {
     "start_time": "2020-10-12T20:58:25.934Z"
    }
   },
   "outputs": [],
   "source": [
    "import io\n",
    "import json\n",
    "\n",
    "json.loads(wms_feature.read())"
   ]
  },
  {
   "cell_type": "markdown",
   "metadata": {},
   "source": [
    "## Load WCS Layer\n",
    "\n",
    "The WCS Server is being accessed via OWSLib. The attributes `url` and `version` are needed for the following request."
   ]
  },
  {
   "cell_type": "code",
   "execution_count": null,
   "metadata": {
    "ExecuteTime": {
     "start_time": "2020-10-12T20:58:25.937Z"
    }
   },
   "outputs": [],
   "source": [
    "wcs_url = 'https://www.wcs.nrw.de/geobasis/wcs_nw_dgm'\n",
    "wcs = gg.misc.load_wcs(url=wcs_url)\n",
    "print(type(wcs))\n",
    "wcs"
   ]
  },
  {
   "cell_type": "code",
   "execution_count": null,
   "metadata": {
    "ExecuteTime": {
     "start_time": "2020-10-12T20:58:25.940Z"
    }
   },
   "outputs": [],
   "source": [
    "wcs.url"
   ]
  },
  {
   "cell_type": "code",
   "execution_count": null,
   "metadata": {
    "ExecuteTime": {
     "start_time": "2020-10-12T20:58:25.943Z"
    }
   },
   "outputs": [],
   "source": [
    "wcs.version"
   ]
  },
  {
   "cell_type": "markdown",
   "metadata": {},
   "source": [
    "## Creating and Executing WCS Request\n",
    "\n",
    "The WCS needs to be created by providing min and max values for X and Y locations. Here, a for loop is created to automatically download four tiles with an extent of 2 by 2 km each. Due to their size, they will be saved outside the repository. "
   ]
  },
  {
   "cell_type": "code",
   "execution_count": null,
   "metadata": {
    "ExecuteTime": {
     "start_time": "2020-10-12T20:58:25.946Z"
    }
   },
   "outputs": [],
   "source": [
    "xmin = 360000\n",
    "xmax = 500000\n",
    "ymin = 5700000\n",
    "ymax = 5800000\n",
    "size = 2000\n",
    "\n",
    "x = xmax-xmin\n",
    "print('Extent X: ', x, ' m')\n",
    "y = ymax-ymin\n",
    "print('Extent Y: ', y, ' m')\n",
    "\n",
    "print('Number of tiles in X directions: ', int(x/size))\n",
    "print('Number of tiles in Y directions: ', int(y/size))\n",
    "\n",
    "for i in tqdm(range(int(x/size))):\n",
    "    for j in range(int(y/size)):\n",
    "        if not os.path.exists('../../../Tiles_Muenster/tile_%d_%d_%d_%d.tif' % (xmin+i*size, xmin+(i+1)*size,ymin+j*size, ymin+(j+1)*size)):\n",
    "            url = gg.misc.create_request(wcs.url, wcs.version, 'nw_dgm', 'image/tiff',[xmin+i*size, xmin+(i+1)*size,ymin+j*size, ymin+(j+1)*size], 'test')\n",
    "            gg.misc.execute_request(url, '../../../Tiles_Muenster/tile_%d_%d_%d_%d.tif' % (xmin+i*size, xmin+(i+1)*size,ymin+j*size, ymin+(j+1)*size))\n",
    "        else:\n",
    "            pass"
   ]
  },
  {
   "cell_type": "markdown",
   "metadata": {},
   "source": [
    "## Create List of File paths"
   ]
  },
  {
   "cell_type": "code",
   "execution_count": null,
   "metadata": {
    "ExecuteTime": {
     "start_time": "2020-10-12T20:58:25.950Z"
    }
   },
   "outputs": [],
   "source": [
    "dem_fps = gg.misc.create_filepaths(dirpath = '../../../Tiles_Muenster/', search_criteria='tile*.tif')\n",
    "dem_fps[:4]"
   ]
  },
  {
   "cell_type": "markdown",
   "metadata": {},
   "source": [
    "## Create List of Tiles\n",
    "\n",
    "The above created list of file paths is automatically being created when executing the function below. In addition, a list of the loaded tiles is created."
   ]
  },
  {
   "cell_type": "code",
   "execution_count": null,
   "metadata": {
    "ExecuteTime": {
     "start_time": "2020-10-12T20:58:25.953Z"
    }
   },
   "outputs": [],
   "source": [
    "src_files_to_mosaic = gg.misc.create_src_list(dirpath ='../../../Tiles_Muenster/', search_criteria='tile*.tif')\n",
    "src_files_to_mosaic[:4]"
   ]
  },
  {
   "cell_type": "markdown",
   "metadata": {},
   "source": [
    "## Merge tiles to mosaic with different resolutions\n",
    "\n",
    "The single files can now automatically be merged to form a mosaic."
   ]
  },
  {
   "cell_type": "code",
   "execution_count": null,
   "metadata": {
    "ExecuteTime": {
     "start_time": "2020-10-12T20:58:25.957Z"
    }
   },
   "outputs": [],
   "source": [
    "mosaic, out_trans = gg.misc.merge_tiles(src_files_to_mosaic, res=50)"
   ]
  },
  {
   "cell_type": "raw",
   "metadata": {
    "ExecuteTime": {
     "end_time": "2020-09-01T13:21:50.347841Z",
     "start_time": "2020-09-01T13:10:51.397604Z"
    }
   },
   "source": [
    "mosaic1, out_trans1 = gg.misc.merge_tiles(src_files_to_mosaic, res=25)"
   ]
  },
  {
   "cell_type": "raw",
   "metadata": {
    "ExecuteTime": {
     "end_time": "2020-09-01T13:32:49.933648Z",
     "start_time": "2020-09-01T13:21:50.357699Z"
    }
   },
   "source": [
    "mosaic2, out_trans2 = gg.misc.merge_tiles(src_files_to_mosaic, res=10)"
   ]
  },
  {
   "cell_type": "raw",
   "metadata": {
    "ExecuteTime": {
     "end_time": "2020-09-01T13:45:54.797481Z",
     "start_time": "2020-09-01T13:32:49.941500Z"
    }
   },
   "source": [
    "mosaic3, out_trans3 = gg.misc.merge_tiles(src_files_to_mosaic, res=5)"
   ]
  },
  {
   "cell_type": "markdown",
   "metadata": {},
   "source": [
    "## Save Rasters to disc"
   ]
  },
  {
   "cell_type": "raw",
   "metadata": {
    "ExecuteTime": {
     "end_time": "2020-09-01T13:46:25.617779Z",
     "start_time": "2020-09-01T13:45:55.070472Z"
    }
   },
   "source": [
    "gg.raster.save_as_tiff('../../../Tiles_Muenster/DEM50.tiff', np.flipud(mosaic), extent=[360000,500000,5700000,5800000], crs='EPSG:25832')"
   ]
  },
  {
   "cell_type": "raw",
   "metadata": {
    "ExecuteTime": {
     "end_time": "2020-09-01T13:46:31.645937Z",
     "start_time": "2020-09-01T13:46:25.733133Z"
    }
   },
   "source": [
    "gg.raster.save_as_tiff('../../../Tiles_Muenster/DEM25.tiff', np.flipud(mosaic1), extent=[360000,500000,5700000,5800000], crs='EPSG:25832')"
   ]
  },
  {
   "cell_type": "raw",
   "metadata": {
    "ExecuteTime": {
     "end_time": "2020-09-01T13:46:41.057567Z",
     "start_time": "2020-09-01T13:46:32.387817Z"
    }
   },
   "source": [
    "gg.raster.save_as_tiff('../../../Tiles_Muenster/DEM10.tiff', np.flipud(mosaic2), extent=[360000,500000,5700000,5800000], crs='EPSG:25832')"
   ]
  },
  {
   "cell_type": "raw",
   "metadata": {
    "ExecuteTime": {
     "end_time": "2020-09-01T13:46:42.632045Z",
     "start_time": "2020-09-01T13:46:41.075448Z"
    }
   },
   "source": [
    "gg.raster.save_as_tiff('../../../Tiles_Muenster/DEM5.tiff', np.flipud(mosaic3), extent=[360000,500000,5700000,5800000], crs='EPSG:25832')"
   ]
  },
  {
   "cell_type": "markdown",
   "metadata": {},
   "source": [
    "## Plot DEM\n",
    "\n",
    "The mosaic/DEM can now be plotted using the built-in rasterio functionality or using matplotlib. "
   ]
  },
  {
   "cell_type": "code",
   "execution_count": null,
   "metadata": {
    "ExecuteTime": {
     "start_time": "2020-10-12T20:58:26.184Z"
    }
   },
   "outputs": [],
   "source": [
    "from rasterio.plot import show\n",
    "show(mosaic, cmap='terrain', vmax=400)"
   ]
  },
  {
   "cell_type": "code",
   "execution_count": null,
   "metadata": {
    "ExecuteTime": {
     "start_time": "2020-10-12T20:58:26.188Z"
    }
   },
   "outputs": [],
   "source": [
    "plt.figure(figsize = (12,12))\n",
    "plt.imshow(wms_map, extent= [300000, 550000,5650000,5850000])\n",
    "plt.grid()\n",
    "plt.ylabel('Y [m]')\n",
    "plt.xlabel('X [m]')\n",
    "plt.text(405000,5758000, 'Münster', size = 18)\n",
    "im = plt.imshow(mosaic, cmap='terrain', vmax=400, extent = [360000,500000,5700000,5800000])"
   ]
  },
  {
   "cell_type": "code",
   "execution_count": null,
   "metadata": {},
   "outputs": [],
   "source": []
  }
 ],
 "metadata": {
  "hide_input": false,
  "kernelspec": {
   "display_name": "Python 3",
   "language": "python",
   "name": "python3"
  },
  "language_info": {
   "codemirror_mode": {
    "name": "ipython",
    "version": 3
   },
   "file_extension": ".py",
   "mimetype": "text/x-python",
   "name": "python",
   "nbconvert_exporter": "python",
   "pygments_lexer": "ipython3",
   "version": "3.8.5"
  },
  "latex_envs": {
   "LaTeX_envs_menu_present": true,
   "autoclose": false,
   "autocomplete": true,
   "bibliofile": "biblio.bib",
   "cite_by": "apalike",
   "current_citInitial": 1,
   "eqLabelWithNumbers": true,
   "eqNumInitial": 1,
   "hotkeys": {
    "equation": "Ctrl-E",
    "itemize": "Ctrl-I"
   },
   "labels_anchors": false,
   "latex_user_defs": false,
   "report_style_numbering": false,
   "user_envs_cfg": false
  },
  "toc": {
   "base_numbering": 1,
   "nav_menu": {},
   "number_sections": true,
   "sideBar": true,
   "skip_h1_title": false,
   "title_cell": "Table of Contents",
   "title_sidebar": "Contents",
   "toc_cell": false,
   "toc_position": {},
   "toc_section_display": true,
   "toc_window_display": false
  },
  "varInspector": {
   "cols": {
    "lenName": 16,
    "lenType": 16,
    "lenVar": 40
   },
   "kernels_config": {
    "python": {
     "delete_cmd_postfix": "",
     "delete_cmd_prefix": "del ",
     "library": "var_list.py",
     "varRefreshCmd": "print(var_dic_list())"
    },
    "r": {
     "delete_cmd_postfix": ") ",
     "delete_cmd_prefix": "rm(",
     "library": "var_list.r",
     "varRefreshCmd": "cat(var_dic_list()) "
    }
   },
   "types_to_exclude": [
    "module",
    "function",
    "builtin_function_or_method",
    "instance",
    "_Feature"
   ],
   "window_display": false
  }
 },
 "nbformat": 4,
 "nbformat_minor": 4
}
