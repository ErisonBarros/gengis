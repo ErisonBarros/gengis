{
 "cells": [
  {
   "cell_type": "markdown",
   "metadata": {},
   "source": [
    "# Notebook 6 - Extracting Data from the DABO Well Database\n",
    "\n",
    "[GemGIS](https://github.com/cgre-aachen/gemgis) is a package for geographic information processing for geomodeling. In particular, data is prepared for direct use in [GemPy](https://github.com/cgre-aachen/gempy) via a GemPy Data Class. The package provides functions to process spatial data such as vector data (shape files, geojson files, geopackages), raster data (tiff-files), data retrieved from online services (WMS, WCS, WFS) or KML/XML files. \n",
    "\n",
    "At a later stage, functionality will be added to interactively add interfaces and orientations for a model, chosing the extent, defining custom sections and more. In addition, functionality will be provided to export data from GemPy into Geoinformation Systems (=GIS) such as QGIS or ArcGIS and Google Earth. \n",
    "\n",
    "# Overview\n",
    "\n",
    "This notebook presents the extraction of borehole data (location of wells and stratigraphy) from logs provided by the Geological Survey NRW. The raw data of the logs is **NOT** provided with the repository but data can be requested from the Geological Survey NRW at no cost.\n",
    "\n",
    "- [Downloading and Installing GemGIS](#gemgis)\n",
    "- [Structure of GemGIS](#structure)\n",
    "- [Importing Libraries](#import)\n",
    "- [Version Reports](#vreport)\n",
    "\n",
    "\n",
    "<a id='gemgis'></a>\n",
    "## Downloading and installing GemGIS\n",
    "\n",
    "`GemGIS` is under constant development and the latest available version can be downloaded at https://github.com/cgre-aachen/gemgis. A pip version can be found at https://pypi.org/project/gemgis/. A dedicated documentation page will follow.\n",
    "\n",
    "<a id='structure'></a>\n",
    "## Structure of GemGIS\n",
    "\n",
    "The core of `GemGIS` is made of the `GemPyData` class (`gemgis.py`). Its attributes can directly be utilized by `GemPy` making it easier for users to load data. Methods of the `GemPyData` class allow users to directly set these attributes. Multiple other files contain functions to manipulate vector data, raster data, etc.:\n",
    "\n",
    "* `gemgis.py` - core file containing the `GemPyData` class\n",
    "* `vector.py` - file containing functions to manipulate vector data\n",
    "* `raster.py` - file containing functions to manipulate raster data\n",
    "* `utils.py` - file containing utility functions frequently used for the manipulation of vector/raster data\n",
    "* `wms.py` - file containing methods to load online services as vector and raster data\n",
    "* `visualization.py` - file containing functions to simplify plotting of spatial data\n",
    "* `postprocessing.py` - file containing functions to postprocess GemPy geo_model data\n",
    "\n",
    "\n",
    "If you have any problems using GemGIS, find a bug or have an idea for a new feature, open an issue at https://github.com/cgre-aachen/gemgis/issues. "
   ]
  },
  {
   "cell_type": "markdown",
   "metadata": {
    "ExecuteTime": {
     "end_time": "2020-07-18T14:02:13.026524Z",
     "start_time": "2020-07-18T14:02:13.022525Z"
    }
   },
   "source": [
    "<a id='import'></a>\n",
    "# Importing Libraries\n",
    "\n",
    "Apart from creating a GemPyData class later in the tutorial, GemGIS is working with pure GeoDataFrames, Rasterio files and NumPy arrays to provide the user with easy data handling. ***Currently, geopandas version 0.8 is the latest stable version that is supported by GemGIS***. A general introduction to working with rasters and Rasterio objects in GemGIS is provided in the next notebook.\n",
    "\n",
    "The first step is loading `GemGIS` and the auxiliary libraries `geopandas` and `rasterio` apart from `NumPy` and `Matplotlib`. `GemGIS` will also load `GemPy` the background. If the installation of `GemPy`was not successful, `GemGIS` cannot be used. "
   ]
  },
  {
   "cell_type": "code",
   "execution_count": 1,
   "metadata": {
    "ExecuteTime": {
     "end_time": "2020-10-05T14:16:37.859881Z",
     "start_time": "2020-10-05T14:16:35.045969Z"
    }
   },
   "outputs": [
    {
     "name": "stderr",
     "output_type": "stream",
     "text": [
      "WARNING (theano.configdefaults): g++ not available, if using conda: `conda install m2w64-toolchain`\n",
      "C:\\Users\\ale93371\\Anaconda3\\envs\\gemgis\\lib\\site-packages\\theano\\configdefaults.py:560: UserWarning: DeprecationWarning: there is no c++ compiler.This is deprecated and with Theano 0.11 a c++ compiler will be mandatory\n",
      "  warnings.warn(\"DeprecationWarning: there is no c++ compiler.\"\n",
      "WARNING (theano.configdefaults): g++ not detected ! Theano will be unable to execute optimized C-implementations (for both CPU and GPU) and will default to Python implementations. Performance will be severely degraded. To remove this warning, set Theano flags cxx to an empty string.\n",
      "WARNING (theano.configdefaults): install mkl with `conda install mkl-service`: No module named 'mkl'\n",
      "WARNING (theano.tensor.blas): Using NumPy C-API based implementation for BLAS functions.\n"
     ]
    },
    {
     "name": "stdout",
     "output_type": "stream",
     "text": [
      "<module 'gemgis' from '../../../gemgis\\\\gemgis\\\\__init__.py'>\n"
     ]
    }
   ],
   "source": [
    "import sys\n",
    "sys.path.append('../../../gemgis')\n",
    "import gemgis as gg\n",
    "import geopandas as gpd\n",
    "import rasterio\n",
    "import numpy as np\n",
    "import matplotlib.pyplot as plt\n",
    "print(gg)"
   ]
  },
  {
   "cell_type": "markdown",
   "metadata": {},
   "source": [
    "# Load PDF File as String and Save to txt-file\n",
    "\n",
    "Borehole logs provided by the Geological Survey NRW through its database DABO (https://www.gd.nrw.de/gd_archive_dabo.htm) can be parsed to obtain a Pandas DataFrame, that can be used for the modeling with `GemPy`. The raw files are not provided with the repository but can be requested for a particular area, target depth and target horizon directly from the Geological Survey. The boreholes investigated here are from the Münster area.\n",
    "\n",
    "The PDF is loaded and saved as `txt` file for further processing but can also be directly used. "
   ]
  },
  {
   "cell_type": "code",
   "execution_count": 2,
   "metadata": {
    "ExecuteTime": {
     "end_time": "2020-10-05T14:16:38.261971Z",
     "start_time": "2020-10-05T14:16:37.862863Z"
    }
   },
   "outputs": [
    {
     "ename": "FileNotFoundError",
     "evalue": "[Errno 2] No such file or directory: '../../../BoreholeDataMuenster.pdf'",
     "output_type": "error",
     "traceback": [
      "\u001b[1;31m---------------------------------------------------------------------------\u001b[0m",
      "\u001b[1;31mFileNotFoundError\u001b[0m                         Traceback (most recent call last)",
      "\u001b[1;32m<ipython-input-2-ff433d404064>\u001b[0m in \u001b[0;36m<module>\u001b[1;34m\u001b[0m\n\u001b[1;32m----> 1\u001b[1;33m \u001b[0mdata\u001b[0m \u001b[1;33m=\u001b[0m \u001b[0mgg\u001b[0m\u001b[1;33m.\u001b[0m\u001b[0mmisc\u001b[0m\u001b[1;33m.\u001b[0m\u001b[0mload_pdf\u001b[0m\u001b[1;33m(\u001b[0m\u001b[1;34m'../../../BoreholeDataMuenster.pdf'\u001b[0m\u001b[1;33m)\u001b[0m\u001b[1;33m\u001b[0m\u001b[1;33m\u001b[0m\u001b[0m\n\u001b[0m",
      "\u001b[1;32m~\\Documents\\gemgis\\gemgis\\misc.py\u001b[0m in \u001b[0;36mload_pdf\u001b[1;34m(path, save_as_txt)\u001b[0m\n\u001b[0;32m    265\u001b[0m \u001b[1;33m\u001b[0m\u001b[0m\n\u001b[0;32m    266\u001b[0m     \u001b[1;31m# Open the file\u001b[0m\u001b[1;33m\u001b[0m\u001b[1;33m\u001b[0m\u001b[1;33m\u001b[0m\u001b[0m\n\u001b[1;32m--> 267\u001b[1;33m     \u001b[0mdata\u001b[0m \u001b[1;33m=\u001b[0m \u001b[0mopen\u001b[0m\u001b[1;33m(\u001b[0m\u001b[0mpath\u001b[0m\u001b[1;33m,\u001b[0m \u001b[1;34m'rb'\u001b[0m\u001b[1;33m)\u001b[0m\u001b[1;33m\u001b[0m\u001b[1;33m\u001b[0m\u001b[0m\n\u001b[0m\u001b[0;32m    268\u001b[0m     \u001b[0mfilereader\u001b[0m \u001b[1;33m=\u001b[0m \u001b[0mPyPDF2\u001b[0m\u001b[1;33m.\u001b[0m\u001b[0mPdfFileReader\u001b[0m\u001b[1;33m(\u001b[0m\u001b[0mdata\u001b[0m\u001b[1;33m)\u001b[0m\u001b[1;33m\u001b[0m\u001b[1;33m\u001b[0m\u001b[0m\n\u001b[0;32m    269\u001b[0m \u001b[1;33m\u001b[0m\u001b[0m\n",
      "\u001b[1;31mFileNotFoundError\u001b[0m: [Errno 2] No such file or directory: '../../../BoreholeDataMuenster.pdf'"
     ]
    }
   ],
   "source": [
    "data = gg.misc.load_pdf('../../../BoreholeDataMuenster.pdf')"
   ]
  },
  {
   "cell_type": "markdown",
   "metadata": {},
   "source": [
    "# Open saved txt file as string\n",
    "\n",
    "The saved file can be loaded as string for further processing."
   ]
  },
  {
   "cell_type": "code",
   "execution_count": null,
   "metadata": {
    "ExecuteTime": {
     "end_time": "2020-10-05T14:16:38.264963Z",
     "start_time": "2020-10-05T14:16:35.030Z"
    }
   },
   "outputs": [],
   "source": [
    "with open('../../../BoreholeDataMuenster.txt', \"r\") as text_file:\n",
    "    data = text_file.read()"
   ]
  },
  {
   "cell_type": "code",
   "execution_count": null,
   "metadata": {
    "ExecuteTime": {
     "end_time": "2020-10-05T14:16:38.264963Z",
     "start_time": "2020-10-05T14:16:35.032Z"
    }
   },
   "outputs": [],
   "source": [
    "data[:100]"
   ]
  },
  {
   "cell_type": "markdown",
   "metadata": {},
   "source": [
    "# Create Coordinate DataFrame\n",
    "\n",
    "The string containing all information about the boreholes can be extracted with the function below and stored as Pandas DataFrame."
   ]
  },
  {
   "cell_type": "code",
   "execution_count": null,
   "metadata": {
    "ExecuteTime": {
     "end_time": "2020-10-05T14:16:38.266954Z",
     "start_time": "2020-10-05T14:16:35.035Z"
    }
   },
   "outputs": [],
   "source": [
    "coordinates_dataframe = gg.misc.coordinates_table_list_comprehension(data, 'GD')\n",
    "coordinates_dataframe.head()"
   ]
  },
  {
   "cell_type": "markdown",
   "metadata": {},
   "source": [
    "# Converting DataFrame to GeoDataFrame\n",
    "\n",
    "The DataFrame can be converted to a GeoDataFrame. "
   ]
  },
  {
   "cell_type": "code",
   "execution_count": null,
   "metadata": {
    "ExecuteTime": {
     "end_time": "2020-10-05T14:16:38.267965Z",
     "start_time": "2020-10-05T14:16:35.038Z"
    }
   },
   "outputs": [],
   "source": [
    "gdf = gpd.GeoDataFrame(\n",
    "    coordinates_dataframe, geometry=gpd.points_from_xy(coordinates_dataframe.X, coordinates_dataframe.Y))\n",
    "gdf.head()"
   ]
  },
  {
   "cell_type": "markdown",
   "metadata": {},
   "source": [
    "# Loading WMS Service for Background Imagery\n",
    "\n",
    "The WMS Service used in Tutorial 3 will also be used here for Background Imagery. "
   ]
  },
  {
   "cell_type": "markdown",
   "metadata": {},
   "source": [
    "## Load WMS Layer and Map\n",
    "A basic WMS Layer is loaded with a OpenStreetMap as reference to better locate the data."
   ]
  },
  {
   "cell_type": "code",
   "execution_count": null,
   "metadata": {
    "ExecuteTime": {
     "end_time": "2020-10-05T14:16:38.268959Z",
     "start_time": "2020-10-05T14:16:35.040Z"
    }
   },
   "outputs": [],
   "source": [
    "wms = gg.wms.load('https://ows.terrestris.de/osm/service?')"
   ]
  },
  {
   "cell_type": "code",
   "execution_count": null,
   "metadata": {
    "ExecuteTime": {
     "end_time": "2020-10-05T14:16:38.269964Z",
     "start_time": "2020-10-05T14:16:35.042Z"
    }
   },
   "outputs": [],
   "source": [
    "wms_map = gg.wms.load_as_array('https://ows.terrestris.de/osm/service?',\n",
    "                             'OSM-WMS', 'default', 'EPSG:4647', [32375000,32435000,5730000,5790000] , [4000, 2000], 'image/png')"
   ]
  },
  {
   "cell_type": "markdown",
   "metadata": {},
   "source": [
    "# Plotting the Data\n",
    "\n",
    "The data of the GeoDataFrame can then easily be plotted. The spatial distribution of the wells can now be observed. The background map shows the area around Aachen. "
   ]
  },
  {
   "cell_type": "code",
   "execution_count": null,
   "metadata": {
    "ExecuteTime": {
     "end_time": "2020-10-05T14:16:38.269964Z",
     "start_time": "2020-10-05T14:16:35.044Z"
    }
   },
   "outputs": [],
   "source": [
    "fig, ax1 = plt.subplots()\n",
    "ax1.imshow(wms_map, extent= [32375000,32435000,5730000,5790000])\n",
    "gdf.plot(ax=ax1, markersize=5)\n",
    "ax1.grid()\n",
    "ax1.set_xlabel('m')\n",
    "ax1.set_ylabel('m')"
   ]
  },
  {
   "cell_type": "markdown",
   "metadata": {},
   "source": [
    "# Extract Stratigraphic Column from Borehole Logs\n",
    "\n",
    "Next to the coordinates of the Boreholes, the provided stratigraphic column can also be extracted for the use. "
   ]
  },
  {
   "cell_type": "raw",
   "metadata": {
    "ExecuteTime": {
     "end_time": "2020-09-18T14:49:34.943205Z",
     "start_time": "2020-09-18T14:49:34.290324Z"
    }
   },
   "source": [
    "data = gg.misc.load_pdf('../../../BoreholeDataMuenster.pdf')"
   ]
  },
  {
   "cell_type": "markdown",
   "metadata": {},
   "source": [
    "# Load supplementary Data"
   ]
  },
  {
   "cell_type": "code",
   "execution_count": null,
   "metadata": {
    "ExecuteTime": {
     "end_time": "2020-10-05T14:16:38.270962Z",
     "start_time": "2020-10-05T14:16:35.071Z"
    }
   },
   "outputs": [],
   "source": [
    "with open('../../../gemgis/data/misc/symbols.txt', \"r\") as text_file:\n",
    "    symbols = [(i, '') for i in text_file.read().splitlines()]\n",
    "\n",
    "with open('../../../gemgis/data/misc/formations.txt', \"r\") as text_file:\n",
    "    formations = text_file.read().split()\n",
    "    \n",
    "formations = [(formations[i], formations[i+1]) for i in range(0,len(formations)-1,2)]\n",
    "formations[:10]"
   ]
  },
  {
   "cell_type": "markdown",
   "metadata": {},
   "source": [
    "# Load Txt File"
   ]
  },
  {
   "cell_type": "raw",
   "metadata": {
    "ExecuteTime": {
     "end_time": "2020-09-19T08:10:23.056141Z",
     "start_time": "2020-09-19T08:10:23.050154Z"
    }
   },
   "source": [
    "with open('../../../BoreholeDataMuenster.txt', \"r\") as text_file:\n",
    "    data = text_file.read()"
   ]
  },
  {
   "cell_type": "markdown",
   "metadata": {},
   "source": [
    "# Extract Stratigraphic Data"
   ]
  },
  {
   "cell_type": "code",
   "execution_count": null,
   "metadata": {
    "ExecuteTime": {
     "end_time": "2020-10-05T14:16:38.271964Z",
     "start_time": "2020-10-05T14:16:35.088Z"
    },
    "scrolled": true
   },
   "outputs": [],
   "source": [
    "df = gg.misc.stratigraphic_table_list_comprehension(data, 'GD', symbols, formations)"
   ]
  },
  {
   "cell_type": "code",
   "execution_count": null,
   "metadata": {
    "ExecuteTime": {
     "end_time": "2020-10-05T14:16:38.271964Z",
     "start_time": "2020-10-05T14:16:35.091Z"
    }
   },
   "outputs": [],
   "source": [
    "print(len(df))\n",
    "df.head(10)"
   ]
  },
  {
   "cell_type": "markdown",
   "metadata": {},
   "source": [
    "# Categorized Formations"
   ]
  },
  {
   "cell_type": "code",
   "execution_count": null,
   "metadata": {
    "ExecuteTime": {
     "end_time": "2020-10-05T14:16:38.272964Z",
     "start_time": "2020-10-05T14:16:35.094Z"
    }
   },
   "outputs": [],
   "source": [
    "df = df[df['formation']!= 'Quaternary']\n",
    "df = df[df['formation']!= 'Coniacium']\n",
    "df = df[df['formation']!= 'Turonium']\n",
    "df = df[df['formation']!= 'OberCampanium']\n",
    "df = df[df['formation']!= 'UnterCampanium']\n",
    "df = df[df['formation']!= 'OberSantonium']\n",
    "df = df[df['formation']!= 'MittelSantonium']\n",
    "df = df[df['formation']!= 'UnterSantonium']\n",
    "df = df[df['formation']!= 'AachenFM/UnterSantonium']\n",
    "df = df[df['formation']!= 'MittelConiacium']\n",
    "df = df[df['formation']!= 'UnterConiacium']\n",
    "df = df[df['formation']!= 'OberTuronium']\n",
    "df = df[df['formation']!= 'MittelTuronium']\n",
    "df = df[df['formation']!= 'UnterTuronium']\n",
    "df = df[df['formation']!= 'OberCenomanium']\n",
    "df = df[df['formation']!= 'MittelCenomanium']\n",
    "df = df[df['formation']!= 'UnterCenomanium']\n",
    "df = df[df['formation']!= 'OberAlbium']\n",
    "df = df[df['formation']!= 'MittelAlbium']\n",
    "df = df[df['formation']!= 'UnterAlbium']\n",
    "df = df[df['formation']!= 'EssenFM']\n",
    "df = df[df['formation']!= 'BochumFM']\n",
    "df = df[df['formation']!= 'WittenFM']\n",
    "df = df[df['formation']!= 'Carboniferous']\n",
    "df = df[df['formation']!= 'Devonian']\n",
    "df = df[df['formation']!= 'Cenomanium']\n",
    "df = df[df['formation']!= 'Coniacium']\n",
    "df = df[df['formation']!= 'Cretaceous']\n",
    "df = df[df['formation']!= 'HorstFM']\n",
    "df = df[df['formation']!= 'DorstenFM']\n",
    "df = df[df['formation']!= 'Zechstein']\n",
    "df = df[df['formation']!= 'UntererKeuperGP']\n",
    "df = df[df['formation']!= 'UnterJura']\n",
    "df = df[df['formation']!= 'OberJura']\n",
    "df = df[df['formation']!= 'MittelJura']\n",
    "df = df[df['formation']!= 'Oberkreide']\n",
    "df = df[df['formation']!= 'Unterkreide']\n",
    "df = df[df['formation']!= 'OberConiacium']"
   ]
  }
 ],
 "metadata": {
  "hide_input": false,
  "kernelspec": {
   "display_name": "Python 3",
   "language": "python",
   "name": "python3"
  },
  "language_info": {
   "codemirror_mode": {
    "name": "ipython",
    "version": 3
   },
   "file_extension": ".py",
   "mimetype": "text/x-python",
   "name": "python",
   "nbconvert_exporter": "python",
   "pygments_lexer": "ipython3",
   "version": "3.8.5"
  },
  "latex_envs": {
   "LaTeX_envs_menu_present": true,
   "autoclose": false,
   "autocomplete": true,
   "bibliofile": "biblio.bib",
   "cite_by": "apalike",
   "current_citInitial": 1,
   "eqLabelWithNumbers": true,
   "eqNumInitial": 1,
   "hotkeys": {
    "equation": "Ctrl-E",
    "itemize": "Ctrl-I"
   },
   "labels_anchors": false,
   "latex_user_defs": false,
   "report_style_numbering": false,
   "user_envs_cfg": false
  },
  "toc": {
   "base_numbering": 1,
   "nav_menu": {},
   "number_sections": true,
   "sideBar": true,
   "skip_h1_title": false,
   "title_cell": "Table of Contents",
   "title_sidebar": "Contents",
   "toc_cell": false,
   "toc_position": {},
   "toc_section_display": true,
   "toc_window_display": false
  },
  "varInspector": {
   "cols": {
    "lenName": 16,
    "lenType": 16,
    "lenVar": 40
   },
   "kernels_config": {
    "python": {
     "delete_cmd_postfix": "",
     "delete_cmd_prefix": "del ",
     "library": "var_list.py",
     "varRefreshCmd": "print(var_dic_list())"
    },
    "r": {
     "delete_cmd_postfix": ") ",
     "delete_cmd_prefix": "rm(",
     "library": "var_list.r",
     "varRefreshCmd": "cat(var_dic_list()) "
    }
   },
   "types_to_exclude": [
    "module",
    "function",
    "builtin_function_or_method",
    "instance",
    "_Feature"
   ],
   "window_display": false
  }
 },
 "nbformat": 4,
 "nbformat_minor": 4
}
