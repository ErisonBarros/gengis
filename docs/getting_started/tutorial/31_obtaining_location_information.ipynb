{
 "cells": [
  {
   "cell_type": "markdown",
   "metadata": {},
   "source": [
    "# 31 Obtaining City Locations\n",
    "\n",
    "Locations of cities for easy plotting can be obtained using GeoPy with GemGIS."
   ]
  },
  {
   "cell_type": "markdown",
   "metadata": {},
   "source": [
    "## Set File Paths\n",
    "\n",
    "If you downloaded the latest `GemGIS` from the Github repository, append the path so that the package can be imported successfully. In addition, the file path to the files within the `gemgis_data` folder is set. You can download the data [here](https://github.com/cgre-aachen/gemgis_data/archive/master.zip) if you have not done so."
   ]
  },
  {
   "cell_type": "code",
   "execution_count": 1,
   "metadata": {
    "ExecuteTime": {
     "end_time": "2020-12-22T12:56:44.561613Z",
     "start_time": "2020-12-22T12:56:44.556613Z"
    }
   },
   "outputs": [],
   "source": [
    "import sys\n",
    "sys.path.append('../../../../gemgis')\n",
    "file_path ='../../../../gemgis_data/data/31_obtaining_location_information/'"
   ]
  },
  {
   "cell_type": "markdown",
   "metadata": {},
   "source": [
    "## Getting Location Information\n",
    "\n",
    "Location information from different cities can be obtained using GeoPy. These contain a description of the location as well as longitude and latitude values."
   ]
  },
  {
   "cell_type": "code",
   "execution_count": 2,
   "metadata": {
    "ExecuteTime": {
     "end_time": "2020-12-22T13:00:13.595988Z",
     "start_time": "2020-12-22T13:00:09.819763Z"
    }
   },
   "outputs": [
    {
     "name": "stderr",
     "output_type": "stream",
     "text": [
      "WARNING (theano.configdefaults): g++ not available, if using conda: `conda install m2w64-toolchain`\n",
      "C:\\Users\\ale93371\\Anaconda3\\envs\\test_gempy\\lib\\site-packages\\theano\\configdefaults.py:560: UserWarning: DeprecationWarning: there is no c++ compiler.This is deprecated and with Theano 0.11 a c++ compiler will be mandatory\n",
      "  warnings.warn(\"DeprecationWarning: there is no c++ compiler.\"\n",
      "WARNING (theano.configdefaults): g++ not detected ! Theano will be unable to execute optimized C-implementations (for both CPU and GPU) and will default to Python implementations. Performance will be severely degraded. To remove this warning, set Theano flags cxx to an empty string.\n",
      "WARNING (theano.tensor.blas): Using NumPy C-API based implementation for BLAS functions.\n"
     ]
    },
    {
     "data": {
      "text/plain": [
       "Location(Aachen, Städteregion Aachen, Nordrhein-Westfalen, Deutschland, (50.776351, 6.083862, 0.0))"
      ]
     },
     "execution_count": 2,
     "metadata": {},
     "output_type": "execute_result"
    }
   ],
   "source": [
    "import gemgis as gg\n",
    "\n",
    "aachen = gg.utils.get_location_coordinate(name='Aachen')\n",
    "aachen"
   ]
  },
  {
   "cell_type": "code",
   "execution_count": 3,
   "metadata": {
    "ExecuteTime": {
     "end_time": "2020-12-22T13:00:31.681446Z",
     "start_time": "2020-12-22T13:00:30.481268Z"
    }
   },
   "outputs": [
    {
     "data": {
      "text/plain": [
       "Location(Berlin, Rixdorf, Berlin, 10117, Deutschland, (52.5170365, 13.3888599, 0.0))"
      ]
     },
     "execution_count": 3,
     "metadata": {},
     "output_type": "execute_result"
    }
   ],
   "source": [
    "berlin = gg.utils.get_location_coordinate(name='Berlin')\n",
    "berlin"
   ]
  },
  {
   "cell_type": "markdown",
   "metadata": {},
   "source": [
    "## Reprojecting Coordinates\n",
    "\n",
    "The WGS 84 coordinates can be reprojected using ``transform_location_coordinate(..)``."
   ]
  },
  {
   "cell_type": "code",
   "execution_count": 4,
   "metadata": {
    "ExecuteTime": {
     "end_time": "2020-12-22T13:03:02.709491Z",
     "start_time": "2020-12-22T13:03:02.570511Z"
    }
   },
   "outputs": [
    {
     "data": {
      "text/plain": [
       "{'Aachen, Städteregion Aachen, Nordrhein-Westfalen, Deutschland': (32294411.33488576,\n",
       "  5629009.357074926)}"
      ]
     },
     "execution_count": 4,
     "metadata": {},
     "output_type": "execute_result"
    }
   ],
   "source": [
    "aachen_repr = gg.utils.transform_location_coordinate(coordinates=aachen,\n",
    "                                                     crs='EPSG:4647')\n",
    "aachen_repr"
   ]
  },
  {
   "cell_type": "code",
   "execution_count": 5,
   "metadata": {
    "ExecuteTime": {
     "end_time": "2020-12-22T13:03:20.453689Z",
     "start_time": "2020-12-22T13:03:20.326935Z"
    }
   },
   "outputs": [
    {
     "data": {
      "text/plain": [
       "{'Berlin, Rixdorf, Berlin, 10117, Deutschland': (32797738.56053437,\n",
       "  5827603.740024588)}"
      ]
     },
     "execution_count": 5,
     "metadata": {},
     "output_type": "execute_result"
    }
   ],
   "source": [
    "berlin_repr = gg.utils.transform_location_coordinate(coordinates=berlin,\n",
    "                                                     crs='EPSG:4647')\n",
    "berlin_repr"
   ]
  },
  {
   "cell_type": "markdown",
   "metadata": {},
   "source": [
    "## Creating Bounding Polygon from Location\n",
    "\n",
    "Each location also consists of a bounding box which can be used to create a Shapely Polygon from it using ``create_polygon_from_location(..)``."
   ]
  },
  {
   "cell_type": "code",
   "execution_count": 8,
   "metadata": {
    "ExecuteTime": {
     "end_time": "2020-12-22T13:06:27.642919Z",
     "start_time": "2020-12-22T13:06:27.622364Z"
    }
   },
   "outputs": [
    {
     "name": "stdout",
     "output_type": "stream",
     "text": [
      "(50.6621373, 5.9748624, 50.8572449, 6.2180747)\n"
     ]
    },
    {
     "data": {
      "image/svg+xml": [
       "<svg xmlns=\"http://www.w3.org/2000/svg\" xmlns:xlink=\"http://www.w3.org/1999/xlink\" width=\"100.0\" height=\"100.0\" viewBox=\"50.652408808 5.965133908 0.21456458400000145 0.26266928399999934\" preserveAspectRatio=\"xMinYMin meet\"><g transform=\"matrix(1,0,0,-1,0,12.1929371)\"><path fill-rule=\"evenodd\" fill=\"#66cc99\" stroke=\"#555555\" stroke-width=\"0.005253385679999987\" opacity=\"0.6\" d=\"M 50.8572449,5.9748624 L 50.8572449,6.2180747 L 50.6621373,6.2180747 L 50.6621373,5.9748624 L 50.8572449,5.9748624 z\" /></g></svg>"
      ],
      "text/plain": [
       "<shapely.geometry.polygon.Polygon at 0x2481457c0a0>"
      ]
     },
     "execution_count": 8,
     "metadata": {},
     "output_type": "execute_result"
    }
   ],
   "source": [
    "aachen_bbox = gg.utils.create_polygon_from_location(coordinates=aachen)\n",
    "\n",
    "print(aachen_bbox.bounds)\n",
    "aachen_bbox"
   ]
  },
  {
   "cell_type": "code",
   "execution_count": 9,
   "metadata": {
    "ExecuteTime": {
     "end_time": "2020-12-22T13:06:46.557275Z",
     "start_time": "2020-12-22T13:06:46.550273Z"
    }
   },
   "outputs": [
    {
     "name": "stdout",
     "output_type": "stream",
     "text": [
      "(52.3570365, 13.2288599, 52.6770365, 13.5488599)\n"
     ]
    },
    {
     "data": {
      "image/svg+xml": [
       "<svg xmlns=\"http://www.w3.org/2000/svg\" xmlns:xlink=\"http://www.w3.org/1999/xlink\" width=\"100.0\" height=\"100.0\" viewBox=\"52.3442365 13.2160599 0.34559999999999746 0.345600000000001\" preserveAspectRatio=\"xMinYMin meet\"><g transform=\"matrix(1,0,0,-1,0,26.7777198)\"><path fill-rule=\"evenodd\" fill=\"#66cc99\" stroke=\"#555555\" stroke-width=\"0.0069120000000000206\" opacity=\"0.6\" d=\"M 52.6770365,13.2288599 L 52.6770365,13.5488599 L 52.3570365,13.5488599 L 52.3570365,13.2288599 L 52.6770365,13.2288599 z\" /></g></svg>"
      ],
      "text/plain": [
       "<shapely.geometry.polygon.Polygon at 0x2481315c610>"
      ]
     },
     "execution_count": 9,
     "metadata": {},
     "output_type": "execute_result"
    }
   ],
   "source": [
    "berlin_bbox = gg.utils.create_polygon_from_location(coordinates=berlin)\n",
    "\n",
    "print(berlin_bbox.bounds)\n",
    "berlin_bbox"
   ]
  },
  {
   "cell_type": "code",
   "execution_count": null,
   "metadata": {},
   "outputs": [],
   "source": []
  }
 ],
 "metadata": {
  "hide_input": false,
  "kernelspec": {
   "display_name": "Python 3",
   "language": "python",
   "name": "python3"
  },
  "language_info": {
   "codemirror_mode": {
    "name": "ipython",
    "version": 3
   },
   "file_extension": ".py",
   "mimetype": "text/x-python",
   "name": "python",
   "nbconvert_exporter": "python",
   "pygments_lexer": "ipython3",
   "version": "3.8.5"
  },
  "varInspector": {
   "cols": {
    "lenName": 16,
    "lenType": 16,
    "lenVar": 40
   },
   "kernels_config": {
    "python": {
     "delete_cmd_postfix": "",
     "delete_cmd_prefix": "del ",
     "library": "var_list.py",
     "varRefreshCmd": "print(var_dic_list())"
    },
    "r": {
     "delete_cmd_postfix": ") ",
     "delete_cmd_prefix": "rm(",
     "library": "var_list.r",
     "varRefreshCmd": "cat(var_dic_list()) "
    }
   },
   "types_to_exclude": [
    "module",
    "function",
    "builtin_function_or_method",
    "instance",
    "_Feature"
   ],
   "window_display": false
  }
 },
 "nbformat": 4,
 "nbformat_minor": 4
}
