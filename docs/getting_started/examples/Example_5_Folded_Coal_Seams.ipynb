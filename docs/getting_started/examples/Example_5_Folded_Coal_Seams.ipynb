{
 "cells": [
  {
   "cell_type": "markdown",
   "metadata": {},
   "source": [
    "# Example 5 - Inclined Layers cut by Fault\n",
    "\n",
    "This example will show how to convert the geological map below to a `GemPy` model. This example is based on digitized data. The area is 2978 m wide (W-E extent) and 3728 m high (N-S extent). \n",
    "\n",
    "The table below shows the result of a drilling campaign carried out at 5 different points (A-F). For Coal1, the base of the layer is noted. For a sand layer the whole segment is noted. A second coal seam was only encountered at locations B, C and D. The numbers in meter indicate where layer boundaries where encountered below the surface. \n",
    "\n",
    "|      | A    | B    | C    | D    | E    | F    |\n",
    "|------|------|------|------|------|------|------|\n",
    "|Coal1 |100 m | 50 m | 50 m | 50 m | 150 m| 250 m|\n",
    "| Sand |100-130 m | 50-100 m | 50-100 m | 50-100 m | 150-220 m| 250-300 m| \n",
    "|Coal2 |?     | 100 m| 100 m| 100 m|     ?|     ?|\n",
    "\n",
    "\n",
    "Coal seam 1 is already outcropping in the area and partial layer boundaries and orientation measurements are provided. Coal seam 2 was not found at locations E and F nor at the surface. The indicated line marks custom section number 1. \n",
    "\n",
    "\n",
    "<img src=\"../../data/examples/example5/task5.png\" width=\"300\">"
   ]
  },
  {
   "cell_type": "markdown",
   "metadata": {},
   "source": [
    "# Importing Libraries"
   ]
  },
  {
   "cell_type": "code",
   "execution_count": 1,
   "metadata": {
    "ExecuteTime": {
     "end_time": "2020-10-12T21:01:33.629059Z",
     "start_time": "2020-10-12T21:01:29.058487Z"
    }
   },
   "outputs": [
    {
     "name": "stderr",
     "output_type": "stream",
     "text": [
      "WARNING (theano.configdefaults): g++ not available, if using conda: `conda install m2w64-toolchain`\n",
      "C:\\Users\\ale93371\\Anaconda3\\envs\\test_gempy\\lib\\site-packages\\theano\\configdefaults.py:560: UserWarning: DeprecationWarning: there is no c++ compiler.This is deprecated and with Theano 0.11 a c++ compiler will be mandatory\n",
      "  warnings.warn(\"DeprecationWarning: there is no c++ compiler.\"\n",
      "WARNING (theano.configdefaults): g++ not detected ! Theano will be unable to execute optimized C-implementations (for both CPU and GPU) and will default to Python implementations. Performance will be severely degraded. To remove this warning, set Theano flags cxx to an empty string.\n",
      "WARNING (theano.tensor.blas): Using NumPy C-API based implementation for BLAS functions.\n"
     ]
    }
   ],
   "source": [
    "import sys\n",
    "sys.path.append('../../../gemgis')\n",
    "import gemgis as gg\n",
    "import geopandas as gpd\n",
    "import rasterio\n",
    "import numpy as np\n",
    "import pandas as pd\n",
    "import matplotlib.pyplot as plt\n",
    "from matplotlib.colors import ListedColormap\n",
    "from mpl_toolkits.axes_grid1 import make_axes_locatable"
   ]
  },
  {
   "cell_type": "markdown",
   "metadata": {},
   "source": [
    "# Load Data\n",
    "\n",
    "The data is loaded as for the previous example. However, orientations are not loaded as these will be calculated by available strike lines as shown in the tutorials. "
   ]
  },
  {
   "cell_type": "code",
   "execution_count": 2,
   "metadata": {
    "ExecuteTime": {
     "end_time": "2020-10-12T21:01:33.822361Z",
     "start_time": "2020-10-12T21:01:33.629059Z"
    }
   },
   "outputs": [],
   "source": [
    "base_map = rasterio.open('../../../gemgis/data/examples/example5/task5.tif')\n",
    "interfaces = gpd.read_file('../../../gemgis/data/examples/example5/interfaces5_lines.shp')\n",
    "# orientations = gpd.read_file('../../../gemgis/data/examples/example5/orientations5.shp')\n",
    "extent = gpd.read_file('../../../gemgis/data/examples/example5/extent5.shp')\n",
    "# geological_map = gpd.read_file('../../../gemgis/data/examples/example5/geolmap5.shp')\n",
    "topo = gpd.read_file('../../../gemgis/data/examples/example5/topo5.shp')\n",
    "custom_section = gpd.read_file('../../../gemgis/data/examples/example5/customsections5.shp')"
   ]
  },
  {
   "cell_type": "markdown",
   "metadata": {},
   "source": [
    "# Inspect Data"
   ]
  },
  {
   "cell_type": "code",
   "execution_count": 3,
   "metadata": {
    "ExecuteTime": {
     "end_time": "2020-10-12T21:01:33.846354Z",
     "start_time": "2020-10-12T21:01:33.822361Z"
    }
   },
   "outputs": [
    {
     "data": {
      "text/html": [
       "<div>\n",
       "<style scoped>\n",
       "    .dataframe tbody tr th:only-of-type {\n",
       "        vertical-align: middle;\n",
       "    }\n",
       "\n",
       "    .dataframe tbody tr th {\n",
       "        vertical-align: top;\n",
       "    }\n",
       "\n",
       "    .dataframe thead th {\n",
       "        text-align: right;\n",
       "    }\n",
       "</style>\n",
       "<table border=\"1\" class=\"dataframe\">\n",
       "  <thead>\n",
       "    <tr style=\"text-align: right;\">\n",
       "      <th></th>\n",
       "      <th>id</th>\n",
       "      <th>formation</th>\n",
       "      <th>geometry</th>\n",
       "    </tr>\n",
       "  </thead>\n",
       "  <tbody>\n",
       "    <tr>\n",
       "      <th>0</th>\n",
       "      <td>None</td>\n",
       "      <td>Coal1</td>\n",
       "      <td>LINESTRING (792.016 3717.573, 792.016 3717.573...</td>\n",
       "    </tr>\n",
       "    <tr>\n",
       "      <th>1</th>\n",
       "      <td>None</td>\n",
       "      <td>Coal1</td>\n",
       "      <td>LINESTRING (1456.629 1043.919, 1456.629 1043.9...</td>\n",
       "    </tr>\n",
       "  </tbody>\n",
       "</table>\n",
       "</div>"
      ],
      "text/plain": [
       "     id formation                                           geometry\n",
       "0  None     Coal1  LINESTRING (792.016 3717.573, 792.016 3717.573...\n",
       "1  None     Coal1  LINESTRING (1456.629 1043.919, 1456.629 1043.9..."
      ]
     },
     "execution_count": 3,
     "metadata": {},
     "output_type": "execute_result"
    }
   ],
   "source": [
    "interfaces.head()"
   ]
  },
  {
   "cell_type": "code",
   "execution_count": 4,
   "metadata": {
    "ExecuteTime": {
     "end_time": "2020-10-12T21:01:33.870356Z",
     "start_time": "2020-10-12T21:01:33.846354Z"
    }
   },
   "outputs": [
    {
     "data": {
      "text/html": [
       "<div>\n",
       "<style scoped>\n",
       "    .dataframe tbody tr th:only-of-type {\n",
       "        vertical-align: middle;\n",
       "    }\n",
       "\n",
       "    .dataframe tbody tr th {\n",
       "        vertical-align: top;\n",
       "    }\n",
       "\n",
       "    .dataframe thead th {\n",
       "        text-align: right;\n",
       "    }\n",
       "</style>\n",
       "<table border=\"1\" class=\"dataframe\">\n",
       "  <thead>\n",
       "    <tr style=\"text-align: right;\">\n",
       "      <th></th>\n",
       "      <th>id</th>\n",
       "      <th>geometry</th>\n",
       "    </tr>\n",
       "  </thead>\n",
       "  <tbody>\n",
       "    <tr>\n",
       "      <th>0</th>\n",
       "      <td>None</td>\n",
       "      <td>POLYGON ((0.000 0.000, 0.000 3728.000, 2978.00...</td>\n",
       "    </tr>\n",
       "  </tbody>\n",
       "</table>\n",
       "</div>"
      ],
      "text/plain": [
       "     id                                           geometry\n",
       "0  None  POLYGON ((0.000 0.000, 0.000 3728.000, 2978.00..."
      ]
     },
     "execution_count": 4,
     "metadata": {},
     "output_type": "execute_result"
    }
   ],
   "source": [
    "extent.head()"
   ]
  },
  {
   "cell_type": "code",
   "execution_count": 5,
   "metadata": {
    "ExecuteTime": {
     "end_time": "2020-10-12T21:01:33.894369Z",
     "start_time": "2020-10-12T21:01:33.870356Z"
    }
   },
   "outputs": [
    {
     "data": {
      "text/html": [
       "<div>\n",
       "<style scoped>\n",
       "    .dataframe tbody tr th:only-of-type {\n",
       "        vertical-align: middle;\n",
       "    }\n",
       "\n",
       "    .dataframe tbody tr th {\n",
       "        vertical-align: top;\n",
       "    }\n",
       "\n",
       "    .dataframe thead th {\n",
       "        text-align: right;\n",
       "    }\n",
       "</style>\n",
       "<table border=\"1\" class=\"dataframe\">\n",
       "  <thead>\n",
       "    <tr style=\"text-align: right;\">\n",
       "      <th></th>\n",
       "      <th>id</th>\n",
       "      <th>Z</th>\n",
       "      <th>geometry</th>\n",
       "    </tr>\n",
       "  </thead>\n",
       "  <tbody>\n",
       "    <tr>\n",
       "      <th>0</th>\n",
       "      <td>None</td>\n",
       "      <td>200</td>\n",
       "      <td>LINESTRING (151.591 8.547, 227.032 59.217, 273...</td>\n",
       "    </tr>\n",
       "    <tr>\n",
       "      <th>1</th>\n",
       "      <td>None</td>\n",
       "      <td>100</td>\n",
       "      <td>LINESTRING (2174.989 10.799, 2161.477 34.445, ...</td>\n",
       "    </tr>\n",
       "    <tr>\n",
       "      <th>2</th>\n",
       "      <td>None</td>\n",
       "      <td>150</td>\n",
       "      <td>LINESTRING (1870.409 4.043, 1860.838 33.882, 1...</td>\n",
       "    </tr>\n",
       "    <tr>\n",
       "      <th>3</th>\n",
       "      <td>None</td>\n",
       "      <td>250</td>\n",
       "      <td>LINESTRING (1998.772 1855.165, 2031.425 1825.8...</td>\n",
       "    </tr>\n",
       "    <tr>\n",
       "      <th>4</th>\n",
       "      <td>None</td>\n",
       "      <td>150</td>\n",
       "      <td>LINESTRING (2977.254 2515.556, 2959.238 2525.1...</td>\n",
       "    </tr>\n",
       "  </tbody>\n",
       "</table>\n",
       "</div>"
      ],
      "text/plain": [
       "     id    Z                                           geometry\n",
       "0  None  200  LINESTRING (151.591 8.547, 227.032 59.217, 273...\n",
       "1  None  100  LINESTRING (2174.989 10.799, 2161.477 34.445, ...\n",
       "2  None  150  LINESTRING (1870.409 4.043, 1860.838 33.882, 1...\n",
       "3  None  250  LINESTRING (1998.772 1855.165, 2031.425 1825.8...\n",
       "4  None  150  LINESTRING (2977.254 2515.556, 2959.238 2525.1..."
      ]
     },
     "execution_count": 5,
     "metadata": {},
     "output_type": "execute_result"
    }
   ],
   "source": [
    "topo.head()"
   ]
  },
  {
   "cell_type": "markdown",
   "metadata": {},
   "source": [
    "# Create GemPy Data Class"
   ]
  },
  {
   "cell_type": "code",
   "execution_count": 6,
   "metadata": {
    "ExecuteTime": {
     "end_time": "2020-10-12T21:01:33.902367Z",
     "start_time": "2020-10-12T21:01:33.894369Z"
    }
   },
   "outputs": [],
   "source": [
    "geo_data = gg.GemPyData(model_name='Model5', \n",
    "                        crs='EPSG:4326')"
   ]
  },
  {
   "cell_type": "code",
   "execution_count": 7,
   "metadata": {
    "ExecuteTime": {
     "end_time": "2020-10-12T21:01:33.926362Z",
     "start_time": "2020-10-12T21:01:33.902367Z"
    }
   },
   "outputs": [
    {
     "data": {
      "text/plain": [
       "{'model_name': 'Model5',\n",
       " 'crs': 'EPSG:4326',\n",
       " 'extent': None,\n",
       " 'resolution': None,\n",
       " 'interfaces': None,\n",
       " 'orientations': None,\n",
       " 'section_dict': None,\n",
       " 'stack': None,\n",
       " 'dem': None,\n",
       " 'surface_colors': None,\n",
       " 'geolmap': None,\n",
       " 'basemap': None,\n",
       " 'faults': None,\n",
       " 'is_fault': None,\n",
       " 'raw_i': None,\n",
       " 'raw_o': None,\n",
       " 'raw_dem': None,\n",
       " 'slope': None,\n",
       " 'hillshades': None,\n",
       " 'aspect': None,\n",
       " 'wms': None,\n",
       " 'tectonics': None,\n",
       " 'customsections': None,\n",
       " 'contours': None}"
      ]
     },
     "execution_count": 7,
     "metadata": {},
     "output_type": "execute_result"
    }
   ],
   "source": [
    "vars(geo_data)"
   ]
  },
  {
   "cell_type": "markdown",
   "metadata": {},
   "source": [
    "# Set Extent"
   ]
  },
  {
   "cell_type": "code",
   "execution_count": 8,
   "metadata": {
    "ExecuteTime": {
     "end_time": "2020-10-12T21:01:33.942363Z",
     "start_time": "2020-10-12T21:01:33.926362Z"
    }
   },
   "outputs": [
    {
     "data": {
      "text/plain": [
       "[0.0, 2978.0, 0.0, 3728.0, -200, 500]"
      ]
     },
     "execution_count": 8,
     "metadata": {},
     "output_type": "execute_result"
    }
   ],
   "source": [
    "geo_data.set_extent(gdf=extent, minz=-200, maxz=500)\n",
    "geo_data.extent"
   ]
  },
  {
   "cell_type": "markdown",
   "metadata": {},
   "source": [
    "# Set Resolution"
   ]
  },
  {
   "cell_type": "code",
   "execution_count": 9,
   "metadata": {
    "ExecuteTime": {
     "end_time": "2020-10-12T21:01:33.958364Z",
     "start_time": "2020-10-12T21:01:33.942363Z"
    }
   },
   "outputs": [
    {
     "data": {
      "text/plain": [
       "[50, 50, 50]"
      ]
     },
     "execution_count": 9,
     "metadata": {},
     "output_type": "execute_result"
    }
   ],
   "source": [
    "geo_data.set_resolution(50,50,50)\n",
    "geo_data.resolution"
   ]
  },
  {
   "cell_type": "markdown",
   "metadata": {},
   "source": [
    "# Attribute Data to Data Class"
   ]
  },
  {
   "cell_type": "code",
   "execution_count": 10,
   "metadata": {
    "ExecuteTime": {
     "end_time": "2020-10-12T21:01:33.974369Z",
     "start_time": "2020-10-12T21:01:33.958364Z"
    }
   },
   "outputs": [
    {
     "data": {
      "text/plain": [
       "[0.0, 2978.0, 0.0, 3728.0, -200, 500]"
      ]
     },
     "execution_count": 10,
     "metadata": {},
     "output_type": "execute_result"
    }
   ],
   "source": [
    "geo_data.set_extent(0.0, 2978.0, 0.0, 3728.0, -200, 500)\n",
    "geo_data.extent"
   ]
  },
  {
   "cell_type": "code",
   "execution_count": 11,
   "metadata": {
    "ExecuteTime": {
     "end_time": "2020-10-12T21:01:33.998371Z",
     "start_time": "2020-10-12T21:01:33.974369Z"
    }
   },
   "outputs": [
    {
     "data": {
      "text/html": [
       "<div>\n",
       "<style scoped>\n",
       "    .dataframe tbody tr th:only-of-type {\n",
       "        vertical-align: middle;\n",
       "    }\n",
       "\n",
       "    .dataframe tbody tr th {\n",
       "        vertical-align: top;\n",
       "    }\n",
       "\n",
       "    .dataframe thead th {\n",
       "        text-align: right;\n",
       "    }\n",
       "</style>\n",
       "<table border=\"1\" class=\"dataframe\">\n",
       "  <thead>\n",
       "    <tr style=\"text-align: right;\">\n",
       "      <th></th>\n",
       "      <th>id</th>\n",
       "      <th>formation</th>\n",
       "      <th>geometry</th>\n",
       "    </tr>\n",
       "  </thead>\n",
       "  <tbody>\n",
       "    <tr>\n",
       "      <th>0</th>\n",
       "      <td>None</td>\n",
       "      <td>Coal1</td>\n",
       "      <td>LINESTRING (792.016 3717.573, 792.016 3717.573...</td>\n",
       "    </tr>\n",
       "    <tr>\n",
       "      <th>1</th>\n",
       "      <td>None</td>\n",
       "      <td>Coal1</td>\n",
       "      <td>LINESTRING (1456.629 1043.919, 1456.629 1043.9...</td>\n",
       "    </tr>\n",
       "  </tbody>\n",
       "</table>\n",
       "</div>"
      ],
      "text/plain": [
       "     id formation                                           geometry\n",
       "0  None     Coal1  LINESTRING (792.016 3717.573, 792.016 3717.573...\n",
       "1  None     Coal1  LINESTRING (1456.629 1043.919, 1456.629 1043.9..."
      ]
     },
     "execution_count": 11,
     "metadata": {},
     "output_type": "execute_result"
    }
   ],
   "source": [
    "geo_data.raw_i = interfaces\n",
    "geo_data.raw_i"
   ]
  },
  {
   "cell_type": "code",
   "execution_count": 12,
   "metadata": {
    "ExecuteTime": {
     "end_time": "2020-10-12T21:01:34.014373Z",
     "start_time": "2020-10-12T21:01:33.998371Z"
    }
   },
   "outputs": [
    {
     "data": {
      "text/plain": [
       "array([[255, 255, 255, ...,   0,   0,   0],\n",
       "       [255, 255, 255, ...,   0,   0,   0],\n",
       "       [255, 255, 255, ...,  57,  57,  57],\n",
       "       ...,\n",
       "       [255, 255, 255, ..., 215, 220, 219],\n",
       "       [255, 255, 255, ..., 115, 135, 132],\n",
       "       [255, 255, 255, ...,  52,  70,  68]], dtype=uint8)"
      ]
     },
     "execution_count": 12,
     "metadata": {},
     "output_type": "execute_result"
    }
   ],
   "source": [
    "geo_data.basemap = base_map.read(1)\n",
    "geo_data.basemap"
   ]
  },
  {
   "cell_type": "code",
   "execution_count": 13,
   "metadata": {
    "ExecuteTime": {
     "end_time": "2020-10-12T21:01:34.038374Z",
     "start_time": "2020-10-12T21:01:34.014373Z"
    }
   },
   "outputs": [
    {
     "data": {
      "text/html": [
       "<div>\n",
       "<style scoped>\n",
       "    .dataframe tbody tr th:only-of-type {\n",
       "        vertical-align: middle;\n",
       "    }\n",
       "\n",
       "    .dataframe tbody tr th {\n",
       "        vertical-align: top;\n",
       "    }\n",
       "\n",
       "    .dataframe thead th {\n",
       "        text-align: right;\n",
       "    }\n",
       "</style>\n",
       "<table border=\"1\" class=\"dataframe\">\n",
       "  <thead>\n",
       "    <tr style=\"text-align: right;\">\n",
       "      <th></th>\n",
       "      <th>id</th>\n",
       "      <th>section</th>\n",
       "      <th>geometry</th>\n",
       "    </tr>\n",
       "  </thead>\n",
       "  <tbody>\n",
       "    <tr>\n",
       "      <th>0</th>\n",
       "      <td>None</td>\n",
       "      <td>Section1</td>\n",
       "      <td>LINESTRING (893.264 2.777, 2101.448 3725.429)</td>\n",
       "    </tr>\n",
       "  </tbody>\n",
       "</table>\n",
       "</div>"
      ],
      "text/plain": [
       "     id   section                                       geometry\n",
       "0  None  Section1  LINESTRING (893.264 2.777, 2101.448 3725.429)"
      ]
     },
     "execution_count": 13,
     "metadata": {},
     "output_type": "execute_result"
    }
   ],
   "source": [
    "geo_data.customsections = custom_section\n",
    "geo_data.customsections"
   ]
  },
  {
   "cell_type": "code",
   "execution_count": 14,
   "metadata": {
    "ExecuteTime": {
     "end_time": "2020-10-12T21:01:34.062375Z",
     "start_time": "2020-10-12T21:01:34.038374Z"
    }
   },
   "outputs": [
    {
     "data": {
      "text/html": [
       "<div>\n",
       "<style scoped>\n",
       "    .dataframe tbody tr th:only-of-type {\n",
       "        vertical-align: middle;\n",
       "    }\n",
       "\n",
       "    .dataframe tbody tr th {\n",
       "        vertical-align: top;\n",
       "    }\n",
       "\n",
       "    .dataframe thead th {\n",
       "        text-align: right;\n",
       "    }\n",
       "</style>\n",
       "<table border=\"1\" class=\"dataframe\">\n",
       "  <thead>\n",
       "    <tr style=\"text-align: right;\">\n",
       "      <th></th>\n",
       "      <th>id</th>\n",
       "      <th>Z</th>\n",
       "      <th>geometry</th>\n",
       "    </tr>\n",
       "  </thead>\n",
       "  <tbody>\n",
       "    <tr>\n",
       "      <th>0</th>\n",
       "      <td>None</td>\n",
       "      <td>200</td>\n",
       "      <td>LINESTRING (151.591 8.547, 227.032 59.217, 273...</td>\n",
       "    </tr>\n",
       "    <tr>\n",
       "      <th>1</th>\n",
       "      <td>None</td>\n",
       "      <td>100</td>\n",
       "      <td>LINESTRING (2174.989 10.799, 2161.477 34.445, ...</td>\n",
       "    </tr>\n",
       "    <tr>\n",
       "      <th>2</th>\n",
       "      <td>None</td>\n",
       "      <td>150</td>\n",
       "      <td>LINESTRING (1870.409 4.043, 1860.838 33.882, 1...</td>\n",
       "    </tr>\n",
       "    <tr>\n",
       "      <th>3</th>\n",
       "      <td>None</td>\n",
       "      <td>250</td>\n",
       "      <td>LINESTRING (1998.772 1855.165, 2031.425 1825.8...</td>\n",
       "    </tr>\n",
       "    <tr>\n",
       "      <th>4</th>\n",
       "      <td>None</td>\n",
       "      <td>150</td>\n",
       "      <td>LINESTRING (2977.254 2515.556, 2959.238 2525.1...</td>\n",
       "    </tr>\n",
       "    <tr>\n",
       "      <th>5</th>\n",
       "      <td>None</td>\n",
       "      <td>350</td>\n",
       "      <td>LINESTRING (496.143 3720.925, 546.812 3670.255...</td>\n",
       "    </tr>\n",
       "    <tr>\n",
       "      <th>6</th>\n",
       "      <td>None</td>\n",
       "      <td>250</td>\n",
       "      <td>LINESTRING (1416.074 3715.295, 1467.869 3684.8...</td>\n",
       "    </tr>\n",
       "    <tr>\n",
       "      <th>7</th>\n",
       "      <td>None</td>\n",
       "      <td>300</td>\n",
       "      <td>LINESTRING (793.403 3720.925, 805.789 3672.507...</td>\n",
       "    </tr>\n",
       "    <tr>\n",
       "      <th>8</th>\n",
       "      <td>None</td>\n",
       "      <td>250</td>\n",
       "      <td>LINESTRING (5.213 1394.637, 33.362 1376.621, 8...</td>\n",
       "    </tr>\n",
       "    <tr>\n",
       "      <th>9</th>\n",
       "      <td>None</td>\n",
       "      <td>200</td>\n",
       "      <td>LINESTRING (2768.384 2869.679, 2719.966 2893.3...</td>\n",
       "    </tr>\n",
       "  </tbody>\n",
       "</table>\n",
       "</div>"
      ],
      "text/plain": [
       "     id    Z                                           geometry\n",
       "0  None  200  LINESTRING (151.591 8.547, 227.032 59.217, 273...\n",
       "1  None  100  LINESTRING (2174.989 10.799, 2161.477 34.445, ...\n",
       "2  None  150  LINESTRING (1870.409 4.043, 1860.838 33.882, 1...\n",
       "3  None  250  LINESTRING (1998.772 1855.165, 2031.425 1825.8...\n",
       "4  None  150  LINESTRING (2977.254 2515.556, 2959.238 2525.1...\n",
       "5  None  350  LINESTRING (496.143 3720.925, 546.812 3670.255...\n",
       "6  None  250  LINESTRING (1416.074 3715.295, 1467.869 3684.8...\n",
       "7  None  300  LINESTRING (793.403 3720.925, 805.789 3672.507...\n",
       "8  None  250  LINESTRING (5.213 1394.637, 33.362 1376.621, 8...\n",
       "9  None  200  LINESTRING (2768.384 2869.679, 2719.966 2893.3..."
      ]
     },
     "execution_count": 14,
     "metadata": {},
     "output_type": "execute_result"
    }
   ],
   "source": [
    "geo_data.contours = topo\n",
    "geo_data.contours"
   ]
  },
  {
   "cell_type": "markdown",
   "metadata": {},
   "source": [
    "# Plot Data"
   ]
  },
  {
   "cell_type": "code",
   "execution_count": 15,
   "metadata": {
    "ExecuteTime": {
     "end_time": "2020-10-12T21:01:35.156578Z",
     "start_time": "2020-10-12T21:01:34.062375Z"
    }
   },
   "outputs": [
    {
     "data": {
      "text/plain": [
       "(<Figure size 1440x720 with 2 Axes>,\n",
       " <AxesSubplot:xlabel='X', ylabel='Y'>,\n",
       " <AxesSubplot:xlabel='X', ylabel='Y'>)"
      ]
     },
     "execution_count": 15,
     "metadata": {},
     "output_type": "execute_result"
    },
    {
     "data": {
      "image/png": "[encoded data removed]",
      "text/plain": [
       "<Figure size 1440x720 with 2 Axes>"
      ]
     },
     "metadata": {},
     "output_type": "display_data"
    }
   ],
   "source": [
    "gg.visualization.plot_data(geo_data, \n",
    "                           show_interfaces=True,\n",
    "                           show_basemap=True,\n",
    "                           show_customsections=True,\n",
    "                           show_contours=True,\n",
    "                           cmap_interfaces='Spectral',\n",
    "                           cmap_contours='gist_earth'\n",
    "                           )"
   ]
  },
  {
   "cell_type": "markdown",
   "metadata": {},
   "source": [
    "# Interpolate Topography\n",
    "Due to the complexity of the topography, only 100 points are chosen to interpolate the raster."
   ]
  },
  {
   "cell_type": "code",
   "execution_count": null,
   "metadata": {
    "ExecuteTime": {
     "end_time": "2020-10-12T21:04:38.419414Z",
     "start_time": "2020-10-12T21:01:35.156578Z"
    }
   },
   "outputs": [],
   "source": [
    "dem = gg.vector.interpolate_raster(topo, method='rbf', n= 100, seed=4, extent=geo_data.extent[:4])\n",
    "geo_data.raw_dem = dem\n",
    "geo_data.raw_dem"
   ]
  },
  {
   "cell_type": "code",
   "execution_count": null,
   "metadata": {
    "ExecuteTime": {
     "end_time": "2020-10-12T21:04:41.926981Z",
     "start_time": "2020-10-12T21:04:38.419414Z"
    }
   },
   "outputs": [],
   "source": [
    "gg.visualization.plot_data(geo_data, \n",
    "                           show_interfaces=True,\n",
    "                           show_orientations=True,\n",
    "                           show_basemap=True,\n",
    "                           show_topo=True,\n",
    "                           cmap_interfaces='Spectral',\n",
    "                           cmap_orientations='Spectral',\n",
    "                           cmap_contours='gist_earth'\n",
    "                           )"
   ]
  },
  {
   "cell_type": "markdown",
   "metadata": {},
   "source": [
    "# Save Topography as Raster"
   ]
  },
  {
   "cell_type": "code",
   "execution_count": null,
   "metadata": {
    "ExecuteTime": {
     "end_time": "2020-10-12T21:04:42.212534Z",
     "start_time": "2020-10-12T21:04:41.926981Z"
    }
   },
   "outputs": [],
   "source": [
    "gg.raster.save_as_tiff('../../../gemgis/data/examples/example5/topo.tif',np.flipud(dem), crs='EPSG:4326', extent=[0, 3000, 0, 3750])"
   ]
  },
  {
   "cell_type": "code",
   "execution_count": null,
   "metadata": {
    "ExecuteTime": {
     "end_time": "2020-10-12T21:04:42.308538Z",
     "start_time": "2020-10-12T21:04:42.212534Z"
    }
   },
   "outputs": [],
   "source": [
    "topography = rasterio.open('../../../gemgis/data/examples/example5/topo.tif')\n",
    "topography"
   ]
  },
  {
   "cell_type": "markdown",
   "metadata": {},
   "source": [
    "# Set Interfaces"
   ]
  },
  {
   "cell_type": "code",
   "execution_count": null,
   "metadata": {
    "ExecuteTime": {
     "end_time": "2020-10-12T21:04:42.436558Z",
     "start_time": "2020-10-12T21:04:42.308538Z"
    }
   },
   "outputs": [],
   "source": [
    "interfaces_coords = gg.vector.extract_coordinates(interfaces,topography, reset_index=False)\n",
    "interfaces_coords.head()"
   ]
  },
  {
   "cell_type": "code",
   "execution_count": null,
   "metadata": {
    "ExecuteTime": {
     "end_time": "2020-10-12T21:04:42.468553Z",
     "start_time": "2020-10-12T21:04:42.444558Z"
    }
   },
   "outputs": [],
   "source": [
    "geo_data.to_gempy_df(interfaces_coords, 'interfaces')\n",
    "geo_data.interfaces"
   ]
  },
  {
   "cell_type": "markdown",
   "metadata": {},
   "source": [
    "# Set Orientations\n",
    "\n",
    "As orientations were not loaded, they have to be calculated based on strike lines provided for the lithological layers and the fault. "
   ]
  },
  {
   "cell_type": "markdown",
   "metadata": {},
   "source": [
    "## Load Fault Data and Calculate Orientations\n",
    "\n",
    "A file containing missing strike values cannot be used to calculate orientations. Therefore, strike lines need to be interpolated with `gg.utils.interpolate_strike_lines(...)`. "
   ]
  },
  {
   "cell_type": "code",
   "execution_count": null,
   "metadata": {
    "ExecuteTime": {
     "end_time": "2020-10-12T21:04:42.532562Z",
     "start_time": "2020-10-12T21:04:42.468553Z"
    }
   },
   "outputs": [],
   "source": [
    "strike = gpd.read_file('../../../gemgis/data/examples/example5/lines5_strike.shp')\n",
    "gdf = strike.copy(deep=True)\n",
    "gdf"
   ]
  },
  {
   "cell_type": "markdown",
   "metadata": {},
   "source": [
    "In order to interpolate strike lines, the GeoDataFrame containing the incomplete set of strike lines and the height increment between each strike line needs to be provided. Currently, a linear interpolation is performed to obtain the missing strike lines. "
   ]
  },
  {
   "cell_type": "code",
   "execution_count": null,
   "metadata": {
    "ExecuteTime": {
     "end_time": "2020-10-12T21:04:42.788589Z",
     "start_time": "2020-10-12T21:04:42.532562Z"
    },
    "code_folding": [],
    "scrolled": false
   },
   "outputs": [],
   "source": [
    "gdf_out = gg.utils.interpolate_strike_lines(gdf, 50)"
   ]
  },
  {
   "cell_type": "markdown",
   "metadata": {},
   "source": [
    "## Plotting Strike Lines"
   ]
  },
  {
   "cell_type": "code",
   "execution_count": null,
   "metadata": {
    "ExecuteTime": {
     "end_time": "2020-10-12T21:04:46.287983Z",
     "start_time": "2020-10-12T21:04:42.788589Z"
    }
   },
   "outputs": [],
   "source": [
    "fig, ax1, ax2 = gg.visualization.plot_data(geo_data, \n",
    "                           show_interfaces=True,\n",
    "                           show_orientations=True,\n",
    "                           show_basemap=True,\n",
    "                           show_topo=True,\n",
    "                           cmap_interfaces='Spectral',\n",
    "                           cmap_orientations='Spectral',\n",
    "                           cmap_contours='gist_earth'\n",
    "                           )\n",
    "gdf_out.plot(ax=ax2, column = 'formation', legend = False, linewidth = 5, aspect='equal')\n"
   ]
  },
  {
   "cell_type": "markdown",
   "metadata": {},
   "source": [
    "## Calculate Orientations"
   ]
  },
  {
   "cell_type": "code",
   "execution_count": null,
   "metadata": {
    "ExecuteTime": {
     "end_time": "2020-10-12T21:04:47.023135Z",
     "start_time": "2020-10-12T21:04:46.322170Z"
    }
   },
   "outputs": [],
   "source": [
    "orientations_coords = gg.utils.calculate_orientations(gdf_out.reset_index())\n",
    "orientations_coords"
   ]
  },
  {
   "cell_type": "markdown",
   "metadata": {
    "ExecuteTime": {
     "end_time": "2020-08-12T15:13:38.351443Z",
     "start_time": "2020-08-12T15:13:38.349442Z"
    }
   },
   "source": [
    "## Plot Orientations"
   ]
  },
  {
   "cell_type": "code",
   "execution_count": null,
   "metadata": {
    "ExecuteTime": {
     "end_time": "2020-10-12T21:04:50.463885Z",
     "start_time": "2020-10-12T21:04:47.023135Z"
    }
   },
   "outputs": [],
   "source": [
    "fig, ax1, ax2 = gg.visualization.plot_data(geo_data, \n",
    "                           show_interfaces=True,\n",
    "                           show_orientations=True,\n",
    "                           show_basemap=True,\n",
    "                           show_topo=True,\n",
    "                           cmap_interfaces='Spectral',\n",
    "                           cmap_orientations='Spectral',\n",
    "                           cmap_contours='gist_earth'\n",
    "                           )\n",
    "gdf_out.plot(ax=ax2, column = 'formation', legend = False, linewidth = 5, aspect='equal')\n",
    "\n",
    "ax2.scatter(orientations_coords.X, orientations_coords.Y, s=25, c='r')\n"
   ]
  },
  {
   "cell_type": "code",
   "execution_count": null,
   "metadata": {
    "ExecuteTime": {
     "end_time": "2020-10-12T21:04:50.495637Z",
     "start_time": "2020-10-12T21:04:50.463885Z"
    }
   },
   "outputs": [],
   "source": [
    "geo_data.orientations = orientations_coords\n",
    "geo_data.orientations"
   ]
  },
  {
   "cell_type": "markdown",
   "metadata": {},
   "source": [
    "# Check Data Class"
   ]
  },
  {
   "cell_type": "code",
   "execution_count": null,
   "metadata": {
    "ExecuteTime": {
     "end_time": "2020-10-12T21:04:50.529560Z",
     "start_time": "2020-10-12T21:04:50.495637Z"
    }
   },
   "outputs": [],
   "source": [
    "vars(geo_data)"
   ]
  },
  {
   "cell_type": "markdown",
   "metadata": {},
   "source": [
    "# Add Section Dict"
   ]
  },
  {
   "cell_type": "code",
   "execution_count": null,
   "metadata": {
    "ExecuteTime": {
     "end_time": "2020-10-12T21:04:50.561566Z",
     "start_time": "2020-10-12T21:04:50.529560Z"
    }
   },
   "outputs": [],
   "source": [
    "geo_data.to_section_dict(custom_section, 'section')\n",
    "geo_data.section_dict"
   ]
  },
  {
   "cell_type": "markdown",
   "metadata": {},
   "source": [
    "# Add Surface Colors"
   ]
  },
  {
   "cell_type": "raw",
   "metadata": {
    "ExecuteTime": {
     "end_time": "2020-08-10T19:43:40.247298Z",
     "start_time": "2020-08-10T19:43:40.230298Z"
    }
   },
   "source": [
    "geo_data.to_surface_color_dict('../../../gemgis/data/examples/example5/style5.qml')\n",
    "geo_data.surface_colors"
   ]
  },
  {
   "cell_type": "markdown",
   "metadata": {},
   "source": [
    "# Add Stack"
   ]
  },
  {
   "cell_type": "code",
   "execution_count": null,
   "metadata": {
    "ExecuteTime": {
     "end_time": "2020-10-12T21:04:50.577567Z",
     "start_time": "2020-10-12T21:04:50.561566Z"
    }
   },
   "outputs": [],
   "source": [
    "geo_data.stack = {  \"Strat_Series\": ('Coal1'),\n",
    "                    \"basement\": ('basement')}\n",
    "geo_data.stack"
   ]
  },
  {
   "cell_type": "markdown",
   "metadata": {},
   "source": [
    "# Add DEM"
   ]
  },
  {
   "cell_type": "code",
   "execution_count": null,
   "metadata": {
    "ExecuteTime": {
     "end_time": "2020-10-12T21:04:50.585566Z",
     "start_time": "2020-10-12T21:04:50.577567Z"
    }
   },
   "outputs": [],
   "source": [
    "geo_data.dem = '../../../gemgis/data/examples/example5/raster5.tif'\n",
    "geo_data.dem"
   ]
  },
  {
   "cell_type": "markdown",
   "metadata": {},
   "source": [
    "# Visualize Data Set"
   ]
  },
  {
   "cell_type": "code",
   "execution_count": null,
   "metadata": {
    "ExecuteTime": {
     "end_time": "2020-10-12T21:04:57.902827Z",
     "start_time": "2020-10-12T21:04:50.585566Z"
    }
   },
   "outputs": [],
   "source": [
    "import pyvista as pv\n",
    "p = pv.Plotter(notebook =True)\n",
    "gg.visualization.plot_dem_3d(np.flipud(dem), p, cmap = 'gist_earth', extent=geo_data.extent[:4])\n",
    "gg.visualization.plot_contours_3d(topo, p, color = 'red', add_to_z = 10)\n",
    "gg.visualization.plot_points_3d(interfaces_coords, p, color = 'blue', add_to_z = 10)\n",
    "gg.visualization.plot_points_3d(orientations_coords, p, color = 'orange', add_to_z = 20)\n",
    "gg.visualization.plot_contours_3d(interfaces_coords, p, color = 'blue', add_to_z = 10)\n",
    "\n",
    "p.camera_position =[(-283.285811675846, -1597.1397046051004, 1155.542325449192), \n",
    "                    (577.9371599370799, 495.3480261506809, 381.7124055285182), \n",
    "                    (0.17313457304419916, 0.27814381639313923, 0.9448070898437746)]\n",
    "p.set_background('white')\n",
    "p.show_grid(color='black')\n",
    "p.show()"
   ]
  },
  {
   "cell_type": "markdown",
   "metadata": {},
   "source": [
    "# Create GemPy Model"
   ]
  },
  {
   "cell_type": "markdown",
   "metadata": {},
   "source": [
    "## Importing GemPy\n",
    "\n",
    "Please see https://docs.gempy.org/installation.html for more information on how to install GemPy."
   ]
  },
  {
   "cell_type": "code",
   "execution_count": null,
   "metadata": {
    "ExecuteTime": {
     "end_time": "2020-10-12T21:04:57.914506Z",
     "start_time": "2020-10-12T21:04:57.902827Z"
    }
   },
   "outputs": [],
   "source": [
    "import sys  \n",
    "sys.path.append('../../../gempy-master')\n",
    "import gempy as gp\n",
    "print(gp)\n",
    "print(gp.__version__)"
   ]
  },
  {
   "cell_type": "markdown",
   "metadata": {},
   "source": [
    "## Creating GemPy Model\n",
    "\n",
    "For more information on how to create a GemPy Model, please see the tutorials at: https://docs.gempy.org/tutorials/index.html. With the attributes of the GemPy Data Class, all necessary variables can be passed to the model."
   ]
  },
  {
   "cell_type": "code",
   "execution_count": null,
   "metadata": {
    "ExecuteTime": {
     "end_time": "2020-10-12T21:04:58.501294Z",
     "start_time": "2020-10-12T21:04:57.914506Z"
    }
   },
   "outputs": [],
   "source": [
    "geo_model = gp.create_model(geo_data.model_name)\n",
    "geo_model"
   ]
  },
  {
   "cell_type": "code",
   "execution_count": null,
   "metadata": {
    "ExecuteTime": {
     "end_time": "2020-10-12T21:04:58.740816Z",
     "start_time": "2020-10-12T21:04:58.501294Z"
    }
   },
   "outputs": [],
   "source": [
    "gp.init_data(geo_model, geo_data.extent, geo_data.resolution,\n",
    "             surface_points_df = geo_data.interfaces,\n",
    "             orientations_df = geo_data.orientations,\n",
    "             default_values=True)"
   ]
  },
  {
   "cell_type": "code",
   "execution_count": null,
   "metadata": {
    "ExecuteTime": {
     "end_time": "2020-10-12T21:04:58.924835Z",
     "start_time": "2020-10-12T21:04:58.740816Z"
    }
   },
   "outputs": [],
   "source": [
    "geo_model.surfaces"
   ]
  },
  {
   "cell_type": "code",
   "execution_count": null,
   "metadata": {
    "ExecuteTime": {
     "end_time": "2020-10-12T21:04:58.940839Z",
     "start_time": "2020-10-12T21:04:58.924835Z"
    }
   },
   "outputs": [],
   "source": [
    "geo_data.stack"
   ]
  },
  {
   "cell_type": "code",
   "execution_count": null,
   "metadata": {
    "ExecuteTime": {
     "end_time": "2020-10-12T21:04:59.169482Z",
     "start_time": "2020-10-12T21:04:58.940839Z"
    }
   },
   "outputs": [],
   "source": [
    "gp.map_stack_to_surfaces(geo_model,\n",
    "                         geo_data.stack,\n",
    "                         remove_unused_series=True)\n",
    "geo_model.add_surfaces('basement')"
   ]
  },
  {
   "cell_type": "code",
   "execution_count": null,
   "metadata": {
    "ExecuteTime": {
     "end_time": "2020-10-12T21:04:59.217237Z",
     "start_time": "2020-10-12T21:04:59.169482Z"
    }
   },
   "outputs": [],
   "source": [
    "geo_model.surfaces.colors.change_colors(geo_data.surface_colors)"
   ]
  },
  {
   "cell_type": "code",
   "execution_count": null,
   "metadata": {
    "ExecuteTime": {
     "end_time": "2020-10-12T21:04:59.609717Z",
     "start_time": "2020-10-12T21:04:59.217237Z"
    }
   },
   "outputs": [],
   "source": [
    "gp.plot_2d(geo_model, direction = 'z')\n",
    "plt.grid()"
   ]
  },
  {
   "cell_type": "markdown",
   "metadata": {},
   "source": [
    "A raster created with ArcGIS has to be loaded as the import of the created raster fails. This is due to a bug in `GemPy`described here: https://github.com/cgre-aachen/gempy/issues/492"
   ]
  },
  {
   "cell_type": "code",
   "execution_count": null,
   "metadata": {
    "ExecuteTime": {
     "end_time": "2020-10-12T21:05:00.330354Z",
     "start_time": "2020-10-12T21:04:59.609717Z"
    }
   },
   "outputs": [],
   "source": [
    "geo_model.set_topography(\n",
    "    source='gdal', filepath='../../../gemgis/data/examples/example5/topo_resampled.tif')"
   ]
  },
  {
   "cell_type": "code",
   "execution_count": null,
   "metadata": {
    "ExecuteTime": {
     "end_time": "2020-10-12T21:05:00.468959Z",
     "start_time": "2020-10-12T21:05:00.330354Z"
    }
   },
   "outputs": [],
   "source": [
    "geo_model.set_section_grid(geo_data.section_dict)"
   ]
  },
  {
   "cell_type": "code",
   "execution_count": null,
   "metadata": {
    "ExecuteTime": {
     "end_time": "2020-10-12T21:05:00.733524Z",
     "start_time": "2020-10-12T21:05:00.468959Z"
    }
   },
   "outputs": [],
   "source": [
    "gp.plot.plot_section_traces(geo_model)"
   ]
  },
  {
   "cell_type": "code",
   "execution_count": null,
   "metadata": {
    "ExecuteTime": {
     "end_time": "2020-10-12T21:05:05.149160Z",
     "start_time": "2020-10-12T21:05:00.733524Z"
    }
   },
   "outputs": [],
   "source": [
    "gp.set_interpolator(geo_model,\n",
    "                    compile_theano=True,\n",
    "                    theano_optimizer='fast_compile',\n",
    "                    verbose=[],\n",
    "                    update_kriging = False\n",
    "                    )"
   ]
  },
  {
   "cell_type": "code",
   "execution_count": null,
   "metadata": {
    "ExecuteTime": {
     "end_time": "2020-10-12T21:05:10.109951Z",
     "start_time": "2020-10-12T21:05:05.149160Z"
    }
   },
   "outputs": [],
   "source": [
    "sol = gp.compute_model(geo_model)"
   ]
  },
  {
   "cell_type": "markdown",
   "metadata": {},
   "source": [
    "The geological map had to be created manually as there seems to be a bug when creating the geological map with `GemGIS`. This was reported already: https://github.com/cgre-aachen/gempy/issues/446"
   ]
  },
  {
   "cell_type": "raw",
   "metadata": {
    "ExecuteTime": {
     "end_time": "2020-07-29T15:05:31.270407Z",
     "start_time": "2020-07-29T15:05:31.071339Z"
    }
   },
   "source": [
    "gp.plot_2d(geo_model, section_names=['topography'], show_contours=False)"
   ]
  },
  {
   "cell_type": "code",
   "execution_count": null,
   "metadata": {
    "ExecuteTime": {
     "end_time": "2020-10-12T21:05:10.391553Z",
     "start_time": "2020-10-12T21:05:10.114421Z"
    }
   },
   "outputs": [],
   "source": [
    "shape = geo_model._grid.topography.values_2d[:, :, 2].shape\n",
    "geolmap = geo_model.solutions.geological_map[0].reshape(shape)\n",
    "cols = ['#015482', \t'#9f0052']\n",
    "plt.figure(figsize=(10, 10))\n",
    "plt.imshow(np.flipud(base_map.read(1)), origin='lower',\n",
    "           cmap='gray', extent=geo_data.extent[:4])\n",
    "gmap = np.rot90(geolmap, 1)\n",
    "plt.imshow(gmap, extent=geo_data.extent[:4],\n",
    "           alpha=0.75, cmap=ListedColormap(cols))"
   ]
  },
  {
   "cell_type": "code",
   "execution_count": null,
   "metadata": {
    "ExecuteTime": {
     "end_time": "2020-10-12T21:05:10.687599Z",
     "start_time": "2020-10-12T21:05:10.391553Z"
    }
   },
   "outputs": [],
   "source": [
    "gp.plot_2d(geo_model, section_names=['Section1'], show_topography=True, ve = 1)"
   ]
  },
  {
   "cell_type": "code",
   "execution_count": null,
   "metadata": {
    "ExecuteTime": {
     "end_time": "2020-10-12T21:05:10.927620Z",
     "start_time": "2020-10-12T21:05:10.687599Z"
    }
   },
   "outputs": [],
   "source": [
    "gp.plot_2d(geo_model, direction='x', show_topography=True, cell_number=10, ve=1)"
   ]
  },
  {
   "cell_type": "code",
   "execution_count": null,
   "metadata": {
    "ExecuteTime": {
     "end_time": "2020-10-12T21:05:11.135648Z",
     "start_time": "2020-10-12T21:05:10.927620Z"
    }
   },
   "outputs": [],
   "source": [
    "gp.plot_2d(geo_model, direction='y', show_topography=True, cell_number = 30)"
   ]
  },
  {
   "cell_type": "code",
   "execution_count": null,
   "metadata": {
    "ExecuteTime": {
     "end_time": "2020-10-12T21:05:14.009467Z",
     "start_time": "2020-10-12T21:05:11.135648Z"
    }
   },
   "outputs": [],
   "source": [
    "gpv = gp.plot_3d(geo_model, image=False, show_topography=True,\n",
    "                 plotter_type='basic', notebook=True, ve = 2)"
   ]
  },
  {
   "cell_type": "markdown",
   "metadata": {},
   "source": [
    "# Postprocessing - Converting Geological Map to Shape Files"
   ]
  },
  {
   "cell_type": "markdown",
   "metadata": {},
   "source": [
    "## Create GeoDataFrame with Polygons"
   ]
  },
  {
   "cell_type": "code",
   "execution_count": null,
   "metadata": {
    "ExecuteTime": {
     "end_time": "2020-10-12T21:05:14.127166Z",
     "start_time": "2020-10-12T21:05:14.009467Z"
    }
   },
   "outputs": [],
   "source": [
    "gdf = gg.post.extract_lithologies(geo_model, geo_data.extent[:4], geo_data.crs)\n",
    "gdf"
   ]
  },
  {
   "cell_type": "markdown",
   "metadata": {},
   "source": [
    "## Plot Polygons"
   ]
  },
  {
   "cell_type": "code",
   "execution_count": null,
   "metadata": {
    "ExecuteTime": {
     "end_time": "2020-10-12T21:05:14.303309Z",
     "start_time": "2020-10-12T21:05:14.127166Z"
    }
   },
   "outputs": [],
   "source": [
    "gdf.plot(column='formation', cmap=ListedColormap(cols), alpha=0.9)\n",
    "plt.grid()"
   ]
  },
  {
   "cell_type": "markdown",
   "metadata": {},
   "source": [
    "## Save Polygons as Shape Files\n",
    "\n",
    "These polygons can now be saved as shape files and displayed for example as in QGIS shown below. "
   ]
  },
  {
   "cell_type": "code",
   "execution_count": null,
   "metadata": {
    "ExecuteTime": {
     "end_time": "2020-10-12T21:05:14.407343Z",
     "start_time": "2020-10-12T21:05:14.303309Z"
    }
   },
   "outputs": [],
   "source": [
    "gdf.to_file('../../../gemgis/data/examples/example5/liths.shp')"
   ]
  },
  {
   "cell_type": "markdown",
   "metadata": {},
   "source": [
    "## Save Polygons as GeoTiff\n",
    "\n",
    "Rasters like DEMs can be saved as georeferenced tif-files. The same can be done with the geological map obtained from `GemPy` by saving the array of the geological map as tif. "
   ]
  },
  {
   "cell_type": "code",
   "execution_count": null,
   "metadata": {
    "ExecuteTime": {
     "end_time": "2020-10-12T21:05:14.455327Z",
     "start_time": "2020-10-12T21:05:14.407343Z"
    }
   },
   "outputs": [],
   "source": [
    "gg.raster.save_as_tiff('../../../gemgis/data/examples/example5/geolmap.tif',gmap, extent=geo_data.extent, crs='EPSG:4326')"
   ]
  },
  {
   "cell_type": "markdown",
   "metadata": {},
   "source": [
    "# Create borehole from Geo_Model\n",
    "\n",
    "Geological models are used to extract information from the subsurface. As geologists, we like to look of the result of the model at a single location and down to the maximum z extent in depth. This is termed a borehole or in the case of fluid extraction a well. These boreholes can easily be extracted and displayed using GemGIS. All you need is the `geo_model` object, the `geo_data` object and the location of your borehole, optionally with its maximum depth. "
   ]
  },
  {
   "cell_type": "code",
   "execution_count": null,
   "metadata": {
    "ExecuteTime": {
     "end_time": "2020-10-12T21:05:18.506318Z",
     "start_time": "2020-10-12T21:05:14.455327Z"
    }
   },
   "outputs": [],
   "source": [
    "sol = gg.post.extract_borehole(geo_model, geo_data, [2000,2000])\n",
    "sol"
   ]
  },
  {
   "cell_type": "markdown",
   "metadata": {},
   "source": [
    "# Depth Maps\n",
    "\n",
    "Depth maps indicate the depth of a surface within the model extent. By applying an intuitive color coding, the spatial position of the respective surface can easily be interpreted. Depth maps can easily be created by executing `gg.visualization.plot_depth_map(...)`. All that is needed is the `geo_model` object and the name of the surface to be plotted. Optionally, a range for the colorbar can be provided to make the maps of different surfaces comparable. Otherwise, the min and max values of each surface are taken for the limits of the color bar. By setting `notebook` to `False` an interactive PyVista Window is opened (press 'Q' to close window safely again)."
   ]
  },
  {
   "cell_type": "markdown",
   "metadata": {},
   "source": [
    "## Depth Map Layer1"
   ]
  },
  {
   "cell_type": "code",
   "execution_count": null,
   "metadata": {
    "ExecuteTime": {
     "end_time": "2020-10-12T21:05:19.020247Z",
     "start_time": "2020-10-12T21:05:18.506318Z"
    }
   },
   "outputs": [],
   "source": [
    "gg.visualization.plot_depth_map(geo_model, 'Coal1', clim=[-100, 300], notebook=True)"
   ]
  }
 ],
 "metadata": {
  "hide_input": false,
  "kernelspec": {
   "display_name": "Python 3",
   "language": "python",
   "name": "python3"
  },
  "language_info": {
   "codemirror_mode": {
    "name": "ipython",
    "version": 3
   },
   "file_extension": ".py",
   "mimetype": "text/x-python",
   "name": "python",
   "nbconvert_exporter": "python",
   "pygments_lexer": "ipython3",
   "version": "3.8.5"
  },
  "toc": {
   "base_numbering": 1,
   "nav_menu": {},
   "number_sections": true,
   "sideBar": true,
   "skip_h1_title": false,
   "title_cell": "Table of Contents",
   "title_sidebar": "Contents",
   "toc_cell": false,
   "toc_position": {},
   "toc_section_display": true,
   "toc_window_display": false
  },
  "varInspector": {
   "cols": {
    "lenName": 16,
    "lenType": 16,
    "lenVar": 40
   },
   "kernels_config": {
    "python": {
     "delete_cmd_postfix": "",
     "delete_cmd_prefix": "del ",
     "library": "var_list.py",
     "varRefreshCmd": "print(var_dic_list())"
    },
    "r": {
     "delete_cmd_postfix": ") ",
     "delete_cmd_prefix": "rm(",
     "library": "var_list.r",
     "varRefreshCmd": "cat(var_dic_list()) "
    }
   },
   "types_to_exclude": [
    "module",
    "function",
    "builtin_function_or_method",
    "instance",
    "_Feature"
   ],
   "window_display": false
  }
 },
 "nbformat": 4,
 "nbformat_minor": 4
}
