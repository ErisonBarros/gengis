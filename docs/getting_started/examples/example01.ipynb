{
  "cells": [
    {
      "cell_type": "code",
      "execution_count": null,
      "metadata": {
        "collapsed": false
      },
      "outputs": [],
      "source": [
        "%matplotlib inline\nfrom pyvista import set_plot_theme\nset_plot_theme('document')"
      ]
    },
    {
      "cell_type": "markdown",
      "metadata": {},
      "source": [
        "\n# Example 1 - Planar Dipping Layers\n"
      ]
    },
    {
      "cell_type": "markdown",
      "metadata": {},
      "source": [
        "This example will show how to convert the geological map below using\n``GemGIS`` to a ``GemPy`` model. This example is based on digitized\ndata. The area is 972 m wide (W-E extent) and 1069 m high (N-S extent).\nThe vertical model extents varies between 300 m and 800 m. The model\nrepresents two planar stratigraphic units (blue and red) dipping towards\nthe south above an unspecified basement (yellow). The map has been\ngeoreferenced with QGIS. The stratigraphic boundaries were digitized in\nQGIS. Strikes lines were digitized in QGIS as well and were used to\ncalculate orientations for the ``GemPy`` model. These will be loaded\ninto the model directly. The contour lines were also digitized and will\nbe interpolated with ``GemGIS`` to create a topography for the model.\n\nMap Source: Unknown\n\n\n"
      ]
    },
    {
      "cell_type": "code",
      "execution_count": null,
      "metadata": {
        "collapsed": false
      },
      "outputs": [],
      "source": [
        "import matplotlib.pyplot as plt\nimport matplotlib.image as mpimg\nimg = mpimg.imread('../../docs/getting_started/images/cover.png')\nplt.figure(figsize=(10, 10))\nimgplot = plt.imshow(img)\nplt.axis('off')\nplt.tight_layout()"
      ]
    },
    {
      "cell_type": "markdown",
      "metadata": {},
      "source": [
        "## Import GemGIS\n\nIf you have installed ``GemGIS`` via pip, you can import ``GemGIS`` like\nany other package. If you have downloaded the repository, append the\npath to the directory where the ``GemGIS`` repository is stored and then\nimport ``GemGIS``.\n\n\n"
      ]
    },
    {
      "cell_type": "code",
      "execution_count": null,
      "metadata": {
        "collapsed": false
      },
      "outputs": [],
      "source": [
        "import warnings\nwarnings.filterwarnings(\"ignore\")\nimport gemgis as gg"
      ]
    },
    {
      "cell_type": "markdown",
      "metadata": {},
      "source": [
        "## Importing Libraries and loading Data\n\nAll remaining packages can be loaded in order to prepare the data and to\nconstruct the model. The example data is downloaded from an external\nserver using ``pooch``. It will be stored in a data folder in the same\ndirectory where this notebook is stored.\n\n\n"
      ]
    },
    {
      "cell_type": "code",
      "execution_count": null,
      "metadata": {
        "collapsed": false
      },
      "outputs": [],
      "source": [
        "import geopandas as gpd\nimport rasterio"
      ]
    },
    {
      "cell_type": "code",
      "execution_count": null,
      "metadata": {
        "collapsed": false
      },
      "outputs": [],
      "source": [
        "file_path = 'data/example01/'\ngg.download_gemgis_data.download_tutorial_data(filename=\"example01_planar_dipping_layers.zip\", dirpath=file_path)"
      ]
    },
    {
      "cell_type": "markdown",
      "metadata": {},
      "source": [
        "## Creating Digital Elevation Model from Contour Lines\n\nThe digital elevation model (DEM) will be created by interpolating\ncontour lines digitized from the georeferenced map using the ``SciPy``\nRadial Basis Function interpolation wrapped in ``GemGIS``. The\nrespective function used for that is ``gg.vector.interpolate_raster()``.\n\n\n"
      ]
    },
    {
      "cell_type": "code",
      "execution_count": null,
      "metadata": {
        "collapsed": false
      },
      "outputs": [],
      "source": [
        "img = mpimg.imread('../../docs/getting_started/images/dem_example1.png')\nplt.figure(figsize=(10, 10))\nimgplot = plt.imshow(img)\nplt.axis('off')\nplt.tight_layout()"
      ]
    },
    {
      "cell_type": "code",
      "execution_count": null,
      "metadata": {
        "collapsed": false
      },
      "outputs": [],
      "source": [
        "topo = gpd.read_file(file_path + 'topo1.shp')\ntopo.head()"
      ]
    },
    {
      "cell_type": "markdown",
      "metadata": {},
      "source": [
        "### Interpolating the contour lines\n\n\n"
      ]
    },
    {
      "cell_type": "code",
      "execution_count": null,
      "metadata": {
        "collapsed": false
      },
      "outputs": [],
      "source": [
        "topo_raster = gg.vector.interpolate_raster(gdf=topo, value='Z', method='rbf', res=5)"
      ]
    },
    {
      "cell_type": "markdown",
      "metadata": {},
      "source": [
        "### Plotting the raster\n\n\n"
      ]
    },
    {
      "cell_type": "code",
      "execution_count": null,
      "metadata": {
        "collapsed": false
      },
      "outputs": [],
      "source": [
        "import matplotlib.pyplot as plt\n\nfix, ax = plt.subplots(1, figsize=(10, 10))\ntopo.plot(ax=ax, aspect='equal', column='Z', cmap='gist_earth')\nim = plt.imshow(topo_raster, origin='lower', extent=[0, 972, 0, 1069], cmap='gist_earth')\ncbar = plt.colorbar(im)\ncbar.set_label('Altitude [m]')\nplt.xlabel('X [m]')\nplt.ylabel('Y [m]')\nplt.xlim(0, 972)\nplt.ylim(0, 1069)"
      ]
    },
    {
      "cell_type": "markdown",
      "metadata": {},
      "source": [
        "### Saving the raster to disc\n\nAfter the interpolation of the contour lines, the raster is saved to\ndisc using ``gg.raster.save_as_tiff()``. The function will not be\nexecuted as a raster is already provided with the example data.\n\n\n"
      ]
    },
    {
      "cell_type": "markdown",
      "metadata": {},
      "source": [
        "### Opening Raster\n\nThe previously computed and saved raster can now be opened using\nrasterio.\n\n\n"
      ]
    },
    {
      "cell_type": "code",
      "execution_count": null,
      "metadata": {
        "collapsed": false
      },
      "outputs": [],
      "source": [
        "topo_raster = rasterio.open(file_path + 'raster1.tif')"
      ]
    },
    {
      "cell_type": "markdown",
      "metadata": {},
      "source": [
        "## Interface Points of stratigraphic boundaries\n\nThe interface points will be extracted from LineStrings digitized from\nthe georeferenced map using QGIS. It is important to provide a formation\nname for each layer boundary. The vertical position of the interface\npoint will be extracted from the digital elevation model using the\n``GemGIS`` function ``gg.vector.extract_xyz()``. The resulting\nGeoDataFrame now contains single points including the information about\nthe respective formation.\n\n\n"
      ]
    },
    {
      "cell_type": "code",
      "execution_count": null,
      "metadata": {
        "collapsed": false
      },
      "outputs": [],
      "source": [
        "img = mpimg.imread('../../docs/getting_started/images/interfaces_example1.png')\nplt.figure(figsize=(10, 10))\nimgplot = plt.imshow(img)\nplt.axis('off')\nplt.tight_layout()"
      ]
    },
    {
      "cell_type": "code",
      "execution_count": null,
      "metadata": {
        "collapsed": false
      },
      "outputs": [],
      "source": [
        "interfaces = gpd.read_file(file_path + 'interfaces1_lines.shp')\ninterfaces.head()"
      ]
    },
    {
      "cell_type": "markdown",
      "metadata": {},
      "source": [
        "### Extracting Z coordinate from Digital Elevation Model\n\n\n"
      ]
    },
    {
      "cell_type": "code",
      "execution_count": null,
      "metadata": {
        "collapsed": false
      },
      "outputs": [],
      "source": [
        "interfaces_coords = gg.vector.extract_xyz(gdf=interfaces, dem=topo_raster)\ninterfaces_coords"
      ]
    },
    {
      "cell_type": "markdown",
      "metadata": {},
      "source": [
        "### Plotting the Interface Points\n\n\n"
      ]
    },
    {
      "cell_type": "code",
      "execution_count": null,
      "metadata": {
        "collapsed": false
      },
      "outputs": [],
      "source": [
        "fig, ax = plt.subplots(1, figsize=(10, 10))\n\ninterfaces.plot(ax=ax, column='formation', legend=True, aspect='equal')\ninterfaces_coords.plot(ax=ax, column='formation', legend=True, aspect='equal')\nplt.grid()\nplt.xlabel('X [m]')\nplt.ylabel('Y [m]')\nplt.xlim(0, 972)\nplt.ylim(0, 1069)"
      ]
    },
    {
      "cell_type": "markdown",
      "metadata": {},
      "source": [
        "## Orientations from Strike Lines\n\nStrike lines connect outcropping stratigraphic boundaries (interfaces)\nof the same altitude. In other words: the intersections between\ntopographic contours and stratigraphic boundaries at the surface. The\nheight difference and the horizontal difference between two digitized\nlines is used to calculate the dip and azimuth and hence an orientation\nthat is necessary for ``GemPy``. In order to calculate the orientations,\neach set of strikes lines/LineStrings for one formation must be given an\nid number next to the altitude of the strike line. The id field is\nalready predefined in QGIS. The strike line with the lowest altitude\ngets the id number ``1``, the strike line with the highest altitude the\nthe number according to the number of digitized strike lines. It is\ncurrently recommended to use one set of strike lines for each structural\nelement of one formation as illustrated.\n\nFor this example, the orientations were calculated beforehand and will\njust be loaded into ``GemPy``.\n\n\n"
      ]
    },
    {
      "cell_type": "code",
      "execution_count": null,
      "metadata": {
        "collapsed": false
      },
      "outputs": [],
      "source": [
        "img = mpimg.imread('../../docs/getting_started/images/orientations_example1.png')\nplt.figure(figsize=(10, 10))\nimgplot = plt.imshow(img)\nplt.axis('off')\nplt.tight_layout()"
      ]
    },
    {
      "cell_type": "code",
      "execution_count": null,
      "metadata": {
        "collapsed": false
      },
      "outputs": [],
      "source": [
        "orientations = gpd.read_file(file_path + 'orientations1.shp')\norientations = gg.vector.extract_xyz(gdf=orientations, dem=topo_raster)\norientations['polarity'] = 1\norientations"
      ]
    },
    {
      "cell_type": "markdown",
      "metadata": {},
      "source": [
        "### Plotting the Orientations\n\n\n"
      ]
    },
    {
      "cell_type": "code",
      "execution_count": null,
      "metadata": {
        "collapsed": false
      },
      "outputs": [],
      "source": [
        "fig, ax = plt.subplots(1, figsize=(10, 10))\n\ninterfaces.plot(ax=ax, column='formation', legend=True, aspect='equal')\ninterfaces_coords.plot(ax=ax, column='formation', legend=True, aspect='equal')\norientations.plot(ax=ax, color='red', aspect='equal')\nplt.grid()\nplt.xlabel('X [m]')\nplt.ylabel('Y [m]')\nplt.xlim(0, 972)\nplt.ylim(0, 1069)"
      ]
    },
    {
      "cell_type": "markdown",
      "metadata": {},
      "source": [
        "## GemPy Model Construction\n\nThe structural geological model will be constructed using the ``GemPy``\npackage.\n\n\n"
      ]
    },
    {
      "cell_type": "code",
      "execution_count": null,
      "metadata": {
        "collapsed": false
      },
      "outputs": [],
      "source": [
        "import gempy as gp"
      ]
    },
    {
      "cell_type": "markdown",
      "metadata": {},
      "source": [
        "### Creating new Model\n\n\n"
      ]
    },
    {
      "cell_type": "code",
      "execution_count": null,
      "metadata": {
        "collapsed": false
      },
      "outputs": [],
      "source": [
        "geo_model = gp.create_model('Model1')\ngeo_model"
      ]
    },
    {
      "cell_type": "markdown",
      "metadata": {},
      "source": [
        "### Initiate Data\n\n\n"
      ]
    },
    {
      "cell_type": "code",
      "execution_count": null,
      "metadata": {
        "collapsed": false
      },
      "outputs": [],
      "source": [
        "gp.init_data(geo_model, [0, 972, 0, 1069, 300, 800], [100, 100, 100],\n             surface_points_df=interfaces_coords,\n             orientations_df=orientations,\n             default_values=True)"
      ]
    },
    {
      "cell_type": "markdown",
      "metadata": {},
      "source": [
        "### Model Surfaces\n\n\n"
      ]
    },
    {
      "cell_type": "code",
      "execution_count": null,
      "metadata": {
        "collapsed": false
      },
      "outputs": [],
      "source": [
        "geo_model.surfaces"
      ]
    },
    {
      "cell_type": "markdown",
      "metadata": {},
      "source": [
        "### Mapping the Stack to Surfaces\n\n\n"
      ]
    },
    {
      "cell_type": "code",
      "execution_count": null,
      "metadata": {
        "collapsed": false
      },
      "outputs": [],
      "source": [
        "gp.map_stack_to_surfaces(geo_model,\n                         {'Strata': ('Sand1', 'Ton')},\n                         remove_unused_series=True)\ngeo_model.add_surfaces('Basement')"
      ]
    },
    {
      "cell_type": "markdown",
      "metadata": {},
      "source": [
        "### Showing the Number of Data Points\n\n\n"
      ]
    },
    {
      "cell_type": "code",
      "execution_count": null,
      "metadata": {
        "collapsed": false
      },
      "outputs": [],
      "source": [
        "gg.utils.show_number_of_data_points(geo_model=geo_model)"
      ]
    },
    {
      "cell_type": "markdown",
      "metadata": {},
      "source": [
        "### Loading Digital Elevation Model\n\n\n"
      ]
    },
    {
      "cell_type": "code",
      "execution_count": null,
      "metadata": {
        "collapsed": false
      },
      "outputs": [],
      "source": [
        "geo_model.set_topography(source='gdal', filepath=file_path + 'raster1.tif')"
      ]
    },
    {
      "cell_type": "markdown",
      "metadata": {},
      "source": [
        "### Defining Custom Section\n\n\n"
      ]
    },
    {
      "cell_type": "code",
      "execution_count": null,
      "metadata": {
        "collapsed": false
      },
      "outputs": [],
      "source": [
        "custom_section = gpd.read_file(file_path + 'customsections1.shp')\ncustom_section_dict = gg.utils.to_section_dict(custom_section, section_column='section')\ngeo_model.set_section_grid(custom_section_dict)"
      ]
    },
    {
      "cell_type": "code",
      "execution_count": null,
      "metadata": {
        "collapsed": false
      },
      "outputs": [],
      "source": [
        "gp.plot.plot_section_traces(geo_model)"
      ]
    },
    {
      "cell_type": "markdown",
      "metadata": {},
      "source": [
        "### Plotting Input Data\n\n\n"
      ]
    },
    {
      "cell_type": "code",
      "execution_count": null,
      "metadata": {
        "collapsed": false
      },
      "outputs": [],
      "source": [
        "gp.plot_2d(geo_model, direction='z', show_lith=False, show_boundaries=False)\nplt.grid()"
      ]
    },
    {
      "cell_type": "code",
      "execution_count": null,
      "metadata": {
        "collapsed": false
      },
      "outputs": [],
      "source": [
        "gp.plot_3d(geo_model, image=False, plotter_type='basic', notebook=True)"
      ]
    },
    {
      "cell_type": "markdown",
      "metadata": {},
      "source": [
        "### Setting the Interpolator\n\n\n"
      ]
    },
    {
      "cell_type": "code",
      "execution_count": null,
      "metadata": {
        "collapsed": false
      },
      "outputs": [],
      "source": [
        "gp.set_interpolator(geo_model,\n                    compile_theano=True,\n                    theano_optimizer='fast_compile',\n                    verbose=[],\n                    update_kriging=False\n                    )"
      ]
    },
    {
      "cell_type": "markdown",
      "metadata": {},
      "source": [
        "### Computing Model\n\n\n"
      ]
    },
    {
      "cell_type": "code",
      "execution_count": null,
      "metadata": {
        "collapsed": false
      },
      "outputs": [],
      "source": [
        "sol = gp.compute_model(geo_model, compute_mesh=True)"
      ]
    },
    {
      "cell_type": "markdown",
      "metadata": {},
      "source": [
        "### Plotting Cross Sections\n\n\n"
      ]
    },
    {
      "cell_type": "code",
      "execution_count": null,
      "metadata": {
        "collapsed": false
      },
      "outputs": [],
      "source": [
        "gp.plot_2d(geo_model, section_names=['Section1'], show_topography=True, show_data=False)"
      ]
    },
    {
      "cell_type": "code",
      "execution_count": null,
      "metadata": {
        "collapsed": false
      },
      "outputs": [],
      "source": [
        "gp.plot_2d(geo_model, direction=['x', 'x', 'y', 'y'], cell_number=[25, 75, 25, 75], show_topography=True, show_data=False)"
      ]
    },
    {
      "cell_type": "code",
      "execution_count": null,
      "metadata": {
        "collapsed": false
      },
      "outputs": [],
      "source": [
        "gpv = gp.plot_3d(geo_model, image=False, show_topography=True,\n                 plotter_type='basic', notebook=True, show_lith=True)"
      ]
    }
  ],
  "metadata": {
    "kernelspec": {
      "display_name": "Python 3",
      "language": "python",
      "name": "python3"
    },
    "language_info": {
      "codemirror_mode": {
        "name": "ipython",
        "version": 3
      },
      "file_extension": ".py",
      "mimetype": "text/x-python",
      "name": "python",
      "nbconvert_exporter": "python",
      "pygments_lexer": "ipython3",
      "version": "3.8.5"
    }
  },
  "nbformat": 4,
  "nbformat_minor": 0
}